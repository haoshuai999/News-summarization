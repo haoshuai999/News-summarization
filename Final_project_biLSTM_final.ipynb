{
  "nbformat": 4,
  "nbformat_minor": 0,
  "metadata": {
    "accelerator": "GPU",
    "anaconda-cloud": {},
    "colab": {
      "name": "Final_project_biLSTM_final.ipynb",
      "provenance": [],
      "collapsed_sections": []
    },
    "kernelspec": {
      "display_name": "Python [default]",
      "language": "python",
      "name": "python3"
    },
    "language_info": {
      "codemirror_mode": {
        "name": "ipython",
        "version": 3
      },
      "file_extension": ".py",
      "mimetype": "text/x-python",
      "name": "python",
      "nbconvert_exporter": "python",
      "pygments_lexer": "ipython3",
      "version": "3.5.2"
    }
  },
  "cells": [
    {
      "cell_type": "markdown",
      "metadata": {
        "id": "pE97AG7KqHA_",
        "colab_type": "text"
      },
      "source": [
        "Applied Deep Learning Final project Fall 2019:\n",
        "\n",
        "*   Shuai Hao (sh3831)\n",
        "*   Bhaskar Ghosh (bg2625)\n",
        "\n",
        "\n",
        "\n",
        "\n",
        "\n",
        "\n",
        "\n",
        "\n"
      ]
    },
    {
      "cell_type": "markdown",
      "metadata": {
        "colab_type": "text",
        "id": "OY44kqkcv1u0"
      },
      "source": [
        "## Model training and evaluation\n",
        "In this notebook, we further process the data by truncating and padding the sequences. And we define, train and evaluate our bidirectional LSTM model. HPC doesn't support the lastest version of tensorflow, so there are a few warnings in the output."
      ]
    },
    {
      "cell_type": "markdown",
      "metadata": {
        "id": "MmxwyECbJTpT",
        "colab_type": "text"
      },
      "source": [
        "Install graphviz, rouge and pydot"
      ]
    },
    {
      "cell_type": "code",
      "metadata": {
        "id": "99fYcGMqJOHi",
        "colab_type": "code",
        "outputId": "67702eea-3229-44ce-d5a8-741579868795",
        "colab": {}
      },
      "source": [
        "!pip install graphviz --user"
      ],
      "execution_count": 0,
      "outputs": [
        {
          "output_type": "stream",
          "text": [
            "Requirement already satisfied (use --upgrade to upgrade): graphviz in ./.local/lib/python3.5/site-packages\n",
            "\u001b[33mYou are using pip version 8.1.2, however version 19.3.1 is available.\n",
            "You should consider upgrading via the 'pip install --upgrade pip' command.\u001b[0m\n"
          ],
          "name": "stdout"
        }
      ]
    },
    {
      "cell_type": "code",
      "metadata": {
        "id": "DKO3y1LsJOH5",
        "colab_type": "code",
        "outputId": "cc46d84b-655f-4499-c2a0-21627eef6d6a",
        "colab": {}
      },
      "source": [
        "!pip install rouge --user"
      ],
      "execution_count": 0,
      "outputs": [
        {
          "output_type": "stream",
          "text": [
            "Requirement already satisfied (use --upgrade to upgrade): rouge in ./.local/lib/python3.5/site-packages\n",
            "\u001b[33mYou are using pip version 8.1.2, however version 19.3.1 is available.\n",
            "You should consider upgrading via the 'pip install --upgrade pip' command.\u001b[0m\n"
          ],
          "name": "stdout"
        }
      ]
    },
    {
      "cell_type": "code",
      "metadata": {
        "id": "0l-5F8UVJOIG",
        "colab_type": "code",
        "outputId": "4ecebd87-8ed8-4e3f-9699-0a3d632cb773",
        "colab": {}
      },
      "source": [
        "!pip install pydot --user"
      ],
      "execution_count": 0,
      "outputs": [
        {
          "output_type": "stream",
          "text": [
            "Requirement already satisfied (use --upgrade to upgrade): pydot in ./.local/lib/python3.5/site-packages\n",
            "Requirement already satisfied (use --upgrade to upgrade): pyparsing>=2.1.4 in /rigel/opt/anaconda3-4.2.0/lib/python3.5/site-packages (from pydot)\n",
            "\u001b[33mYou are using pip version 8.1.2, however version 19.3.1 is available.\n",
            "You should consider upgrading via the 'pip install --upgrade pip' command.\u001b[0m\n"
          ],
          "name": "stdout"
        }
      ]
    },
    {
      "cell_type": "markdown",
      "metadata": {
        "id": "5BpxhPU0KM2K",
        "colab_type": "text"
      },
      "source": [
        "### Using HPC\n",
        "The following computations, training and evaluation was done on High Performance Cluster at Columbia."
      ]
    },
    {
      "cell_type": "code",
      "metadata": {
        "id": "xjdeedfWJOIM",
        "colab_type": "code",
        "outputId": "565ca126-bdb2-470f-a000-aaab2411c1be",
        "colab": {}
      },
      "source": [
        "!pwd"
      ],
      "execution_count": 0,
      "outputs": [
        {
          "output_type": "stream",
          "text": [
            "/rigel/home/sh3831\r\n"
          ],
          "name": "stdout"
        }
      ]
    },
    {
      "cell_type": "markdown",
      "metadata": {
        "id": "CgSjbQnxJcTj",
        "colab_type": "text"
      },
      "source": [
        "Import required libraries"
      ]
    },
    {
      "cell_type": "code",
      "metadata": {
        "colab_type": "code",
        "id": "Q393uiGeup50",
        "outputId": "46bb83cd-a544-46b1-bbcb-45e666b2cac1",
        "colab": {
          "base_uri": "https://localhost:8080/",
          "height": 34
        }
      },
      "source": [
        "import random\n",
        "import time\n",
        "import math\n",
        "import os\n",
        "import json\n",
        "import shutil\n",
        "import numpy as np\n",
        "import matplotlib.pyplot as plt\n",
        "from operator import itemgetter\n",
        "from rouge import Rouge \n",
        "\n",
        "import tensorflow as tf"
      ],
      "execution_count": 0,
      "outputs": [
        {
          "output_type": "stream",
          "text": [
            "/rigel/home/sh3831/.local/lib/python3.5/site-packages/tensorflow/python/framework/dtypes.py:516: FutureWarning: Passing (type, 1) or '1type' as a synonym of type is deprecated; in a future version of numpy, it will be understood as (type, (1,)) / '(1,)type'.\n",
            "  _np_qint8 = np.dtype([(\"qint8\", np.int8, 1)])\n",
            "/rigel/home/sh3831/.local/lib/python3.5/site-packages/tensorflow/python/framework/dtypes.py:517: FutureWarning: Passing (type, 1) or '1type' as a synonym of type is deprecated; in a future version of numpy, it will be understood as (type, (1,)) / '(1,)type'.\n",
            "  _np_quint8 = np.dtype([(\"quint8\", np.uint8, 1)])\n",
            "/rigel/home/sh3831/.local/lib/python3.5/site-packages/tensorflow/python/framework/dtypes.py:518: FutureWarning: Passing (type, 1) or '1type' as a synonym of type is deprecated; in a future version of numpy, it will be understood as (type, (1,)) / '(1,)type'.\n",
            "  _np_qint16 = np.dtype([(\"qint16\", np.int16, 1)])\n",
            "/rigel/home/sh3831/.local/lib/python3.5/site-packages/tensorflow/python/framework/dtypes.py:519: FutureWarning: Passing (type, 1) or '1type' as a synonym of type is deprecated; in a future version of numpy, it will be understood as (type, (1,)) / '(1,)type'.\n",
            "  _np_quint16 = np.dtype([(\"quint16\", np.uint16, 1)])\n",
            "/rigel/home/sh3831/.local/lib/python3.5/site-packages/tensorflow/python/framework/dtypes.py:520: FutureWarning: Passing (type, 1) or '1type' as a synonym of type is deprecated; in a future version of numpy, it will be understood as (type, (1,)) / '(1,)type'.\n",
            "  _np_qint32 = np.dtype([(\"qint32\", np.int32, 1)])\n",
            "/rigel/home/sh3831/.local/lib/python3.5/site-packages/tensorflow/python/framework/dtypes.py:525: FutureWarning: Passing (type, 1) or '1type' as a synonym of type is deprecated; in a future version of numpy, it will be understood as (type, (1,)) / '(1,)type'.\n",
            "  np_resource = np.dtype([(\"resource\", np.ubyte, 1)])\n",
            "/rigel/home/sh3831/.local/lib/python3.5/site-packages/tensorboard/compat/tensorflow_stub/dtypes.py:541: FutureWarning: Passing (type, 1) or '1type' as a synonym of type is deprecated; in a future version of numpy, it will be understood as (type, (1,)) / '(1,)type'.\n",
            "  _np_qint8 = np.dtype([(\"qint8\", np.int8, 1)])\n",
            "/rigel/home/sh3831/.local/lib/python3.5/site-packages/tensorboard/compat/tensorflow_stub/dtypes.py:542: FutureWarning: Passing (type, 1) or '1type' as a synonym of type is deprecated; in a future version of numpy, it will be understood as (type, (1,)) / '(1,)type'.\n",
            "  _np_quint8 = np.dtype([(\"quint8\", np.uint8, 1)])\n",
            "/rigel/home/sh3831/.local/lib/python3.5/site-packages/tensorboard/compat/tensorflow_stub/dtypes.py:543: FutureWarning: Passing (type, 1) or '1type' as a synonym of type is deprecated; in a future version of numpy, it will be understood as (type, (1,)) / '(1,)type'.\n",
            "  _np_qint16 = np.dtype([(\"qint16\", np.int16, 1)])\n",
            "/rigel/home/sh3831/.local/lib/python3.5/site-packages/tensorboard/compat/tensorflow_stub/dtypes.py:544: FutureWarning: Passing (type, 1) or '1type' as a synonym of type is deprecated; in a future version of numpy, it will be understood as (type, (1,)) / '(1,)type'.\n",
            "  _np_quint16 = np.dtype([(\"quint16\", np.uint16, 1)])\n",
            "/rigel/home/sh3831/.local/lib/python3.5/site-packages/tensorboard/compat/tensorflow_stub/dtypes.py:545: FutureWarning: Passing (type, 1) or '1type' as a synonym of type is deprecated; in a future version of numpy, it will be understood as (type, (1,)) / '(1,)type'.\n",
            "  _np_qint32 = np.dtype([(\"qint32\", np.int32, 1)])\n",
            "/rigel/home/sh3831/.local/lib/python3.5/site-packages/tensorboard/compat/tensorflow_stub/dtypes.py:550: FutureWarning: Passing (type, 1) or '1type' as a synonym of type is deprecated; in a future version of numpy, it will be understood as (type, (1,)) / '(1,)type'.\n",
            "  np_resource = np.dtype([(\"resource\", np.ubyte, 1)])\n"
          ],
          "name": "stderr"
        }
      ]
    },
    {
      "cell_type": "code",
      "metadata": {
        "id": "3atAH2GVJOIU",
        "colab_type": "code",
        "outputId": "e63cdae9-c6b7-4fb6-cbe4-5a7c270cabbc",
        "colab": {}
      },
      "source": [
        "tf.test.is_gpu_available()"
      ],
      "execution_count": 0,
      "outputs": [
        {
          "output_type": "execute_result",
          "data": {
            "text/plain": [
              "False"
            ]
          },
          "metadata": {
            "tags": []
          },
          "execution_count": 6
        }
      ]
    },
    {
      "cell_type": "markdown",
      "metadata": {
        "id": "60H5BsYxbjgq",
        "colab_type": "text"
      },
      "source": [
        "#### Maximum sequence length\n",
        "We experimented with different values for MAX_SEQ_LEN, starting with 20. We settled for 100, after trying out 20, 50, 100, 500 and 1000. For 500 and 1000 the training accuracy was higher for a single batch but overall Rouge score was lower. We got 96% accuracy for MAX_SEQ_LEN = 100."
      ]
    },
    {
      "cell_type": "code",
      "metadata": {
        "colab_type": "code",
        "id": "OQTbTUlAVz0e",
        "colab": {}
      },
      "source": [
        "# SOS_TOKEN = '<sos>'\n",
        "# EOS_TOKEN = '<eos>'\n",
        "MAX_SEQ_LEN = 100"
      ],
      "execution_count": 0,
      "outputs": []
    },
    {
      "cell_type": "markdown",
      "metadata": {
        "colab_type": "text",
        "id": "7dIWzE5vq8Ue"
      },
      "source": [
        "## Load the train and validation data"
      ]
    },
    {
      "cell_type": "code",
      "metadata": {
        "colab_type": "code",
        "id": "mjuGm3FTrFYK",
        "colab": {}
      },
      "source": [
        "train_embedding_path = '/rigel/home/sh3831/cnn-dailymail/sentence_embeddings/train/'\n",
        "valid_embedding_path = '/rigel/home/sh3831/cnn-dailymail/sentence_embeddings/valid/'\n",
        "train_label_path = '/rigel/home/sh3831/cnn-dailymail/labels/train/'\n",
        "valid_label_path = '/rigel/home/sh3831/cnn-dailymail/labels/valid/'"
      ],
      "execution_count": 0,
      "outputs": []
    },
    {
      "cell_type": "code",
      "metadata": {
        "colab_type": "code",
        "id": "1RAREQnlrbNU",
        "colab": {}
      },
      "source": [
        "# train_label_files and valid_label_files have the same name with the embedding files, so we don't need to read them again\n",
        "train_embedding_files = os.listdir(train_embedding_path)\n",
        "valid_embedding_files = os.listdir(valid_embedding_path)\n",
        "# train_label_files = os.listdir(train_label_path)\n",
        "# valid_label_files = os.listdir(valid_label_path)"
      ],
      "execution_count": 0,
      "outputs": []
    },
    {
      "cell_type": "code",
      "metadata": {
        "colab_type": "code",
        "id": "zfup0zd6redH",
        "outputId": "57746f53-c5a2-443b-c703-14c9fd56055a",
        "colab": {
          "base_uri": "https://localhost:8080/",
          "height": 34
        }
      },
      "source": [
        "len(train_embedding_files), len(valid_embedding_files)"
      ],
      "execution_count": 0,
      "outputs": [
        {
          "output_type": "execute_result",
          "data": {
            "text/plain": [
              "(23037, 5000)"
            ]
          },
          "metadata": {
            "tags": []
          },
          "execution_count": 10
        }
      ]
    },
    {
      "cell_type": "markdown",
      "metadata": {
        "colab_type": "text",
        "id": "_ikdmVt-o1DM"
      },
      "source": [
        "## Create the dataset"
      ]
    },
    {
      "cell_type": "markdown",
      "metadata": {
        "id": "67T8WuRXKjqB",
        "colab_type": "text"
      },
      "source": [
        "Setting the basic variables for training."
      ]
    },
    {
      "cell_type": "code",
      "metadata": {
        "colab_type": "code",
        "id": "TqHsArVZ3jFS",
        "colab": {}
      },
      "source": [
        "BUFFER_SIZE = 1000\n",
        "BATCH_SIZE = 64\n",
        "steps_per_epoch = BUFFER_SIZE//BATCH_SIZE\n",
        "units = 1024\n",
        "EMBEDDING_SIZE = 200\n",
        "# vocab_inp_size = len(inp_lang.word_index)+1\n",
        "# vocab_tar_size = len(targ_lang.word_index)+1"
      ],
      "execution_count": 0,
      "outputs": []
    },
    {
      "cell_type": "markdown",
      "metadata": {
        "id": "ihzdo4HNLJJb",
        "colab_type": "text"
      },
      "source": [
        "### Function to create dataset from given embeddings and labels\n",
        "We use it to create datasets for training and validation"
      ]
    },
    {
      "cell_type": "code",
      "metadata": {
        "colab_type": "code",
        "id": "eVs6ji5FtGLw",
        "colab": {}
      },
      "source": [
        "def create_dataset(embedding, label):\n",
        "    dataset = tf.data.Dataset.from_tensor_slices((embedding, label)).shuffle(BUFFER_SIZE)\n",
        "    dataset = dataset.batch(BATCH_SIZE, drop_remainder=True)\n",
        "    dataset = dataset.prefetch(buffer_size=tf.data.experimental.AUTOTUNE)\n",
        "    return dataset"
      ],
      "execution_count": 0,
      "outputs": []
    },
    {
      "cell_type": "markdown",
      "metadata": {
        "id": "BekrpjYYM8at",
        "colab_type": "text"
      },
      "source": [
        "### Function to fetch embeddings and labels previously processed\n",
        "We use this function to fetch embeddings and labels for training and validation data"
      ]
    },
    {
      "cell_type": "code",
      "metadata": {
        "colab_type": "code",
        "id": "cMj9zWXsvMnx",
        "colab": {}
      },
      "source": [
        "def fetch_data(files, embedding_path, label_path):\n",
        "    label_list = []\n",
        "    embedding_list = []\n",
        "    for file_name in files:\n",
        "        embedding_temp = []\n",
        "        with open(embedding_path + file_name) as embed_json_file:\n",
        "            embed_data = json.load(embed_json_file)\n",
        "            for key, value in embed_data.items():\n",
        "                embedding_temp.append(value)\n",
        "        if len(embedding_temp) > MAX_SEQ_LEN:\n",
        "            padded_embed_value = embedding_temp[:MAX_SEQ_LEN].copy()\n",
        "        elif len(embedding_temp) < MAX_SEQ_LEN:\n",
        "            for i in range(MAX_SEQ_LEN- len(embedding_temp)):\n",
        "                embedding_temp.append(np.zeros(EMBEDDING_SIZE).tolist())\n",
        "            padded_embed_value = embedding_temp.copy()\n",
        "        else:\n",
        "            padded_embed_value = embedding_temp.copy()\n",
        "\n",
        "        embedding_list.append(padded_embed_value)\n",
        "        if label_path != '':\n",
        "            with open(label_path + file_name) as label_json_file:\n",
        "                label_data = json.load(label_json_file)\n",
        "                label_value = label_data['labels']\n",
        "            label_list.append(label_value)\n",
        "\n",
        "        if len(embedding_list) % 1000 == 0:\n",
        "            print(len(embedding_list))\n",
        "\n",
        "    return embedding_list, label_list"
      ],
      "execution_count": 0,
      "outputs": []
    },
    {
      "cell_type": "markdown",
      "metadata": {
        "id": "E4U_sb_KNLHR",
        "colab_type": "text"
      },
      "source": [
        "#### Fetching embeddings and labels for validation data"
      ]
    },
    {
      "cell_type": "code",
      "metadata": {
        "id": "EjMFUdyCJOIk",
        "colab_type": "code",
        "outputId": "e12d115f-b195-4388-e6a1-023d6c075675",
        "colab": {}
      },
      "source": [
        "embedding_valid, label_valid = fetch_data(valid_embedding_files, valid_embedding_path, valid_label_path)"
      ],
      "execution_count": 0,
      "outputs": [
        {
          "output_type": "stream",
          "text": [
            "1000\n",
            "2000\n",
            "3000\n",
            "4000\n",
            "5000\n"
          ],
          "name": "stdout"
        }
      ]
    },
    {
      "cell_type": "code",
      "metadata": {
        "id": "h-66xy0lJOIl",
        "colab_type": "code",
        "outputId": "ac5e5d99-116b-41ff-c998-6983c5bce532",
        "colab": {}
      },
      "source": [
        "len(embedding_valid), len(label_valid)"
      ],
      "execution_count": 0,
      "outputs": [
        {
          "output_type": "execute_result",
          "data": {
            "text/plain": [
              "(5000, 5000)"
            ]
          },
          "metadata": {
            "tags": []
          },
          "execution_count": 15
        }
      ]
    },
    {
      "cell_type": "markdown",
      "metadata": {
        "id": "KD5n91X1NXWG",
        "colab_type": "text"
      },
      "source": [
        "#### Converting validation embeddings and labels to tensors\n",
        "Also, labels need to be padded to be of equal length. In some cases labels are shorter because number of sentences in the article are less than MAX_SEQ_LEN, which we have set as 100.\n",
        "\n"
      ]
    },
    {
      "cell_type": "code",
      "metadata": {
        "id": "yGPtWwX3JOIm",
        "colab_type": "code",
        "colab": {}
      },
      "source": [
        "embedding_valid = tf.convert_to_tensor(embedding_valid)\n",
        "\n",
        "label_valid = tf.keras.preprocessing.sequence.pad_sequences(label_valid, maxlen=MAX_SEQ_LEN, padding='post', truncating='post')\n",
        "label_valid = tf.convert_to_tensor(label_valid)"
      ],
      "execution_count": 0,
      "outputs": []
    },
    {
      "cell_type": "code",
      "metadata": {
        "id": "LuJGwWscJOIp",
        "colab_type": "code",
        "outputId": "16b85b20-b5b5-4753-e924-f90bc1f1909c",
        "colab": {}
      },
      "source": [
        "embedding_valid.shape, label_valid.shape"
      ],
      "execution_count": 0,
      "outputs": [
        {
          "output_type": "execute_result",
          "data": {
            "text/plain": [
              "(TensorShape([5000, 20, 200]), TensorShape([5000, 20]))"
            ]
          },
          "metadata": {
            "tags": []
          },
          "execution_count": 17
        }
      ]
    },
    {
      "cell_type": "markdown",
      "metadata": {
        "id": "w3xbUUF7Pcfl",
        "colab_type": "text"
      },
      "source": [
        "#### Converting training embeddings and labels to tensors"
      ]
    },
    {
      "cell_type": "code",
      "metadata": {
        "id": "FxhCP4HEJOIs",
        "colab_type": "code",
        "outputId": "fef1c6c2-5f14-4f72-8ab2-511d1b85fd1c",
        "colab": {}
      },
      "source": [
        "embedding_train, label_train = fetch_data(train_embedding_files, train_embedding_path, train_label_path)"
      ],
      "execution_count": 0,
      "outputs": [
        {
          "output_type": "stream",
          "text": [
            "1000\n",
            "2000\n",
            "3000\n",
            "4000\n",
            "5000\n",
            "6000\n",
            "7000\n",
            "8000\n",
            "9000\n",
            "10000\n",
            "11000\n",
            "12000\n",
            "13000\n",
            "14000\n",
            "15000\n",
            "16000\n",
            "17000\n",
            "18000\n",
            "19000\n",
            "20000\n",
            "21000\n",
            "22000\n",
            "23000\n"
          ],
          "name": "stdout"
        }
      ]
    },
    {
      "cell_type": "markdown",
      "metadata": {
        "id": "z8_lw0a-US_b",
        "colab_type": "text"
      },
      "source": [
        "Verifying the amount of data available"
      ]
    },
    {
      "cell_type": "code",
      "metadata": {
        "id": "Fs5ZZyGpJOIt",
        "colab_type": "code",
        "outputId": "80bfba86-7b71-426e-cd4e-2dc1eaec0fe4",
        "colab": {}
      },
      "source": [
        "len(embedding_train), len(label_train)"
      ],
      "execution_count": 0,
      "outputs": [
        {
          "output_type": "execute_result",
          "data": {
            "text/plain": [
              "(23037, 23037)"
            ]
          },
          "metadata": {
            "tags": []
          },
          "execution_count": 19
        }
      ]
    },
    {
      "cell_type": "markdown",
      "metadata": {
        "id": "XJetL2JEUiqm",
        "colab_type": "text"
      },
      "source": [
        "Converting training embeddings and labels to tensors. As with validation data, we pad the labels here as well."
      ]
    },
    {
      "cell_type": "code",
      "metadata": {
        "id": "UKFegufLJOIv",
        "colab_type": "code",
        "colab": {}
      },
      "source": [
        "embedding_train = tf.convert_to_tensor(embedding_train)\n",
        "\n",
        "label_train = tf.keras.preprocessing.sequence.pad_sequences(label_train, maxlen=MAX_SEQ_LEN, padding='post', truncating='post')\n",
        "label_train = tf.convert_to_tensor(label_train)"
      ],
      "execution_count": 0,
      "outputs": []
    },
    {
      "cell_type": "code",
      "metadata": {
        "id": "ttSwqvi6JOIw",
        "colab_type": "code",
        "outputId": "6ef6d0f5-faa4-4b5a-e061-11fbc2456500",
        "colab": {}
      },
      "source": [
        "embedding_train.shape, label_train.shape"
      ],
      "execution_count": 0,
      "outputs": [
        {
          "output_type": "execute_result",
          "data": {
            "text/plain": [
              "(TensorShape([23037, 20, 200]), TensorShape([23037, 20]))"
            ]
          },
          "metadata": {
            "tags": []
          },
          "execution_count": 21
        }
      ]
    },
    {
      "cell_type": "markdown",
      "metadata": {
        "id": "8wfN9EtYUzyU",
        "colab_type": "text"
      },
      "source": [
        "#### Creating the training and validation datasets using embeddings and labels"
      ]
    },
    {
      "cell_type": "code",
      "metadata": {
        "colab_type": "code",
        "id": "2RDUOKqDual6",
        "colab": {}
      },
      "source": [
        "train_ds = create_dataset(embedding_train, label_train)\n",
        "val_ds = create_dataset(embedding_valid, label_valid)"
      ],
      "execution_count": 0,
      "outputs": []
    },
    {
      "cell_type": "markdown",
      "metadata": {
        "id": "ONRww9LDVVb6",
        "colab_type": "text"
      },
      "source": [
        "\n",
        "Creating an example batch of size 64"
      ]
    },
    {
      "cell_type": "code",
      "metadata": {
        "colab_type": "code",
        "id": "qc6-NK1GtWQt",
        "outputId": "239f585b-b21e-4421-cc6a-9bbe8b4afad5",
        "colab": {}
      },
      "source": [
        "example_input_batch, example_target_batch = next(iter(train_ds))\n",
        "example_input_batch.shape, example_target_batch.shape"
      ],
      "execution_count": 0,
      "outputs": [
        {
          "output_type": "execute_result",
          "data": {
            "text/plain": [
              "(TensorShape([64, 20, 200]), TensorShape([64, 20]))"
            ]
          },
          "metadata": {
            "tags": []
          },
          "execution_count": 23
        }
      ]
    },
    {
      "cell_type": "code",
      "metadata": {
        "colab_type": "code",
        "id": "C4PHpbFBu8Yn",
        "outputId": "a47c32bb-7a00-4fa8-c542-dd2e52bee39f",
        "colab": {
          "base_uri": "https://localhost:8080/",
          "height": 166
        }
      },
      "source": [
        "example_input_batch, example_target_batch"
      ],
      "execution_count": 0,
      "outputs": [
        {
          "output_type": "execute_result",
          "data": {
            "text/plain": [
              "(<tf.Tensor: id=34, shape=(64, 20, 200), dtype=float32, numpy=\n",
              " array([[[ 1.19126707e-01,  1.02685206e-01, -6.63583651e-02, ...,\n",
              "          -1.64312925e-02, -2.11342499e-01,  2.94691250e-02],\n",
              "         [ 1.61275402e-01,  2.34291375e-01, -1.25948628e-02, ...,\n",
              "           1.11244068e-01, -2.03864664e-01,  8.24729800e-02],\n",
              "         [-4.03197929e-02,  1.13423169e-01, -9.32936594e-02, ...,\n",
              "           5.76375015e-02,  3.51726264e-02,  4.65227067e-02],\n",
              "         ...,\n",
              "         [-9.31013450e-02,  2.19360858e-01,  6.03526644e-02, ...,\n",
              "           8.99249613e-02, -1.92768145e-02,  7.37334043e-02],\n",
              "         [ 3.91648225e-02,  1.98101133e-01, -8.53032544e-02, ...,\n",
              "           3.90994214e-02, -7.28416303e-03,  4.79806252e-02],\n",
              "         [ 7.22724721e-02,  1.00568779e-01, -8.18326399e-02, ...,\n",
              "          -6.87590390e-02, -8.80567208e-02,  3.81180607e-02]],\n",
              " \n",
              "        [[ 1.55355260e-01,  3.39423180e-01,  2.19849162e-02, ...,\n",
              "          -1.18725665e-01, -7.68353343e-02, -1.00816665e-02],\n",
              "         [ 2.76925236e-01,  2.79814631e-01,  6.25915751e-02, ...,\n",
              "          -4.16708998e-02, -4.30748761e-02,  1.39274995e-03],\n",
              "         [ 4.29496169e-02,  3.37276846e-01, -2.57372916e-01, ...,\n",
              "          -3.46663855e-02, -5.12042604e-02, -9.76636186e-02],\n",
              "         ...,\n",
              "         [-2.16328502e-02,  4.07550007e-01,  9.46662482e-03, ...,\n",
              "           3.53244007e-01, -6.03282489e-02, -1.49387503e-02],\n",
              "         [ 5.72161339e-02,  1.50189072e-01, -9.60154459e-02, ...,\n",
              "          -7.60994665e-03, -1.34274632e-01, -5.63109480e-02],\n",
              "         [ 1.03180006e-03,  3.12009990e-01, -5.97679973e-01, ...,\n",
              "           1.44930005e-01,  5.25630005e-02,  7.50069976e-01]],\n",
              " \n",
              "        [[ 8.09517875e-02,  4.35966134e-01, -1.49891779e-01, ...,\n",
              "           4.47348431e-02, -1.87089935e-01, -1.24494426e-01],\n",
              "         [-2.44420879e-02,  1.12002499e-01, -2.03208223e-01, ...,\n",
              "          -3.78622636e-02, -1.74368754e-01,  9.74717587e-02],\n",
              "         [-3.68545540e-02,  2.06634745e-01, -3.73054028e-01, ...,\n",
              "           1.23492531e-01,  8.71425197e-02,  6.65032417e-02],\n",
              "         ...,\n",
              "         [-1.10500537e-01,  2.43125364e-01, -2.59690076e-01, ...,\n",
              "          -4.55926135e-02, -1.90784261e-01,  1.15928063e-02],\n",
              "         [-8.59512538e-02,  1.03258878e-01, -2.89136797e-01, ...,\n",
              "          -1.31593170e-02, -1.46990001e-01,  9.37166736e-02],\n",
              "         [-4.13965322e-02,  3.66946012e-01, -2.31087938e-01, ...,\n",
              "           2.05863342e-02,  8.84771645e-02, -6.46254569e-02]],\n",
              " \n",
              "        ...,\n",
              " \n",
              "        [[-1.76774841e-02,  5.12356348e-02, -2.02829719e-01, ...,\n",
              "           4.09390852e-02, -1.49791107e-01, -1.05092004e-02],\n",
              "         [-1.74312502e-01,  2.15299994e-01,  7.16322511e-02, ...,\n",
              "          -1.73429996e-02, -1.84575006e-01,  3.78965735e-01],\n",
              "         [ 1.97127108e-02,  1.63058639e-01, -2.31389061e-01, ...,\n",
              "          -1.13139331e-01, -2.02667430e-01, -5.72493337e-02],\n",
              "         ...,\n",
              "         [ 5.71971685e-02,  7.47663304e-02, -3.44338655e-01, ...,\n",
              "          -6.86340034e-02,  1.98263340e-02, -1.04152836e-01],\n",
              "         [-1.61520854e-01, -1.49868220e-01, -2.50686228e-01, ...,\n",
              "           1.83725208e-01, -2.22275004e-01,  1.46478996e-01],\n",
              "         [ 0.00000000e+00,  0.00000000e+00,  0.00000000e+00, ...,\n",
              "           0.00000000e+00,  0.00000000e+00,  0.00000000e+00]],\n",
              " \n",
              "        [[-1.47064996e-03,  8.65663961e-02, -9.70102474e-02, ...,\n",
              "          -3.22839274e-04, -5.46017140e-02,  1.12124890e-01],\n",
              "         [-2.04541460e-01,  8.06252286e-02, -3.53071839e-01, ...,\n",
              "           7.50761554e-02,  8.30223858e-02, -6.23209998e-02],\n",
              "         [ 1.39272645e-01,  1.58701524e-01, -1.91207990e-01, ...,\n",
              "           1.62018538e-01,  2.65179239e-02,  2.57129222e-01],\n",
              "         ...,\n",
              "         [ 6.56952616e-03,  1.13034680e-01, -1.80022627e-01, ...,\n",
              "           3.65457907e-02, -1.11059844e-01, -2.54870523e-02],\n",
              "         [ 0.00000000e+00,  0.00000000e+00,  0.00000000e+00, ...,\n",
              "           0.00000000e+00,  0.00000000e+00,  0.00000000e+00],\n",
              "         [ 0.00000000e+00,  0.00000000e+00,  0.00000000e+00, ...,\n",
              "           0.00000000e+00,  0.00000000e+00,  0.00000000e+00]],\n",
              " \n",
              "        [[-1.40975714e-02,  7.05469996e-02,  2.80392859e-02, ...,\n",
              "           1.68477997e-01, -1.55010566e-01,  9.44971442e-02],\n",
              "         [ 1.03180006e-03,  3.12009990e-01, -5.97679973e-01, ...,\n",
              "           1.44930005e-01,  5.25630005e-02,  7.50069976e-01],\n",
              "         [ 8.67446661e-02,  1.17477052e-01, -1.42074049e-01, ...,\n",
              "           1.40952259e-01, -1.76802054e-01,  7.87528902e-02],\n",
              "         ...,\n",
              "         [ 7.16346428e-02,  2.29433417e-01, -2.37802595e-01, ...,\n",
              "           1.79902494e-01,  3.52488831e-02,  7.78835565e-02],\n",
              "         [-9.67523158e-02,  1.93017453e-01, -2.55894959e-01, ...,\n",
              "          -1.76595449e-02, -3.10254451e-02,  1.38066188e-01],\n",
              "         [-2.32913233e-02,  1.68807551e-01, -5.00764847e-02, ...,\n",
              "           1.33011550e-01, -5.21028861e-02,  9.51727778e-02]]],\n",
              "       dtype=float32)>, <tf.Tensor: id=35, shape=(64, 20), dtype=int32, numpy=\n",
              " array([[0, 1, 0, ..., 0, 0, 0],\n",
              "        [0, 1, 0, ..., 0, 0, 0],\n",
              "        [0, 1, 1, ..., 0, 0, 0],\n",
              "        ...,\n",
              "        [0, 0, 1, ..., 0, 0, 0],\n",
              "        [0, 1, 1, ..., 1, 0, 0],\n",
              "        [0, 1, 1, ..., 0, 0, 0]], dtype=int32)>)"
            ]
          },
          "metadata": {
            "tags": []
          },
          "execution_count": 24
        }
      ]
    },
    {
      "cell_type": "markdown",
      "metadata": {
        "colab_type": "text",
        "id": "MB0majtNXc09"
      },
      "source": [
        "## Define the bidirectional LSTM model"
      ]
    },
    {
      "cell_type": "code",
      "metadata": {
        "colab_type": "code",
        "id": "8vR7h15kXain",
        "colab": {}
      },
      "source": [
        "from tensorflow.keras.layers import Dense, Flatten, Input, LSTM, Bidirectional, Activation, Dropout\n",
        "from tensorflow.keras.models import Model, Sequential"
      ],
      "execution_count": 0,
      "outputs": []
    },
    {
      "cell_type": "markdown",
      "metadata": {
        "id": "8kkPeml0xxHs",
        "colab_type": "text"
      },
      "source": [
        "We added Dropout to the model after we saw that the accuracy was hovering around 50%. Accuracy improved considerably after adding Dropout."
      ]
    },
    {
      "cell_type": "code",
      "metadata": {
        "colab_type": "code",
        "id": "FA_b4OX-oQ1E",
        "outputId": "74d87f35-bc7c-4549-89fd-56d1cad3ddce",
        "colab": {}
      },
      "source": [
        "model = Sequential()\n",
        "model.add(Bidirectional(LSTM(64, return_sequences=True), input_shape=(MAX_SEQ_LEN, EMBEDDING_SIZE)))\n",
        "model.add(Bidirectional(LSTM(32)))\n",
        "# model.add(Bidirectional(LSTM(16)))\n",
        "model.add(Dense(128, activation='relu'))\n",
        "model.add(Dropout(0.5))\n",
        "model.add(Dense(MAX_SEQ_LEN, activation='relu'))\n",
        "model.add(Dropout(0.5))\n",
        "model.add(Activation('softmax'))"
      ],
      "execution_count": 0,
      "outputs": [
        {
          "output_type": "stream",
          "text": [
            "WARNING:tensorflow:Entity <function standard_lstm at 0x2aab1d32dea0> could not be transformed and will be executed as-is. Please report this to the AutoGraph team. When filing the bug, set the verbosity to 10 (on Linux, `export AUTOGRAPH_VERBOSITY=10`) and attach the full output. Cause: converting <function standard_lstm at 0x2aab1d32dea0>: AttributeError: module 'gast' has no attribute 'Num'\n",
            "WARNING: Entity <function standard_lstm at 0x2aab1d32dea0> could not be transformed and will be executed as-is. Please report this to the AutoGraph team. When filing the bug, set the verbosity to 10 (on Linux, `export AUTOGRAPH_VERBOSITY=10`) and attach the full output. Cause: converting <function standard_lstm at 0x2aab1d32dea0>: AttributeError: module 'gast' has no attribute 'Num'\n",
            "WARNING:tensorflow:Entity <function cudnn_lstm at 0x2aab1d32df28> could not be transformed and will be executed as-is. Please report this to the AutoGraph team. When filing the bug, set the verbosity to 10 (on Linux, `export AUTOGRAPH_VERBOSITY=10`) and attach the full output. Cause: converting <function cudnn_lstm at 0x2aab1d32df28>: AttributeError: module 'gast' has no attribute 'Num'\n",
            "WARNING: Entity <function cudnn_lstm at 0x2aab1d32df28> could not be transformed and will be executed as-is. Please report this to the AutoGraph team. When filing the bug, set the verbosity to 10 (on Linux, `export AUTOGRAPH_VERBOSITY=10`) and attach the full output. Cause: converting <function cudnn_lstm at 0x2aab1d32df28>: AttributeError: module 'gast' has no attribute 'Num'\n",
            "WARNING:tensorflow:Entity <function standard_lstm at 0x2aab1d32dea0> could not be transformed and will be executed as-is. Please report this to the AutoGraph team. When filing the bug, set the verbosity to 10 (on Linux, `export AUTOGRAPH_VERBOSITY=10`) and attach the full output. Cause: converting <function standard_lstm at 0x2aab1d32dea0>: AttributeError: module 'gast' has no attribute 'Num'\n",
            "WARNING: Entity <function standard_lstm at 0x2aab1d32dea0> could not be transformed and will be executed as-is. Please report this to the AutoGraph team. When filing the bug, set the verbosity to 10 (on Linux, `export AUTOGRAPH_VERBOSITY=10`) and attach the full output. Cause: converting <function standard_lstm at 0x2aab1d32dea0>: AttributeError: module 'gast' has no attribute 'Num'\n",
            "WARNING:tensorflow:Entity <function cudnn_lstm at 0x2aab1d32df28> could not be transformed and will be executed as-is. Please report this to the AutoGraph team. When filing the bug, set the verbosity to 10 (on Linux, `export AUTOGRAPH_VERBOSITY=10`) and attach the full output. Cause: converting <function cudnn_lstm at 0x2aab1d32df28>: AttributeError: module 'gast' has no attribute 'Num'\n",
            "WARNING: Entity <function cudnn_lstm at 0x2aab1d32df28> could not be transformed and will be executed as-is. Please report this to the AutoGraph team. When filing the bug, set the verbosity to 10 (on Linux, `export AUTOGRAPH_VERBOSITY=10`) and attach the full output. Cause: converting <function cudnn_lstm at 0x2aab1d32df28>: AttributeError: module 'gast' has no attribute 'Num'\n",
            "WARNING:tensorflow:Entity <function standard_lstm at 0x2aab1d32dea0> could not be transformed and will be executed as-is. Please report this to the AutoGraph team. When filing the bug, set the verbosity to 10 (on Linux, `export AUTOGRAPH_VERBOSITY=10`) and attach the full output. Cause: converting <function standard_lstm at 0x2aab1d32dea0>: AttributeError: module 'gast' has no attribute 'Num'\n",
            "WARNING: Entity <function standard_lstm at 0x2aab1d32dea0> could not be transformed and will be executed as-is. Please report this to the AutoGraph team. When filing the bug, set the verbosity to 10 (on Linux, `export AUTOGRAPH_VERBOSITY=10`) and attach the full output. Cause: converting <function standard_lstm at 0x2aab1d32dea0>: AttributeError: module 'gast' has no attribute 'Num'\n",
            "WARNING:tensorflow:Entity <function cudnn_lstm at 0x2aab1d32df28> could not be transformed and will be executed as-is. Please report this to the AutoGraph team. When filing the bug, set the verbosity to 10 (on Linux, `export AUTOGRAPH_VERBOSITY=10`) and attach the full output. Cause: converting <function cudnn_lstm at 0x2aab1d32df28>: AttributeError: module 'gast' has no attribute 'Num'\n",
            "WARNING: Entity <function cudnn_lstm at 0x2aab1d32df28> could not be transformed and will be executed as-is. Please report this to the AutoGraph team. When filing the bug, set the verbosity to 10 (on Linux, `export AUTOGRAPH_VERBOSITY=10`) and attach the full output. Cause: converting <function cudnn_lstm at 0x2aab1d32df28>: AttributeError: module 'gast' has no attribute 'Num'\n",
            "WARNING:tensorflow:Entity <function standard_lstm at 0x2aab1d32dea0> could not be transformed and will be executed as-is. Please report this to the AutoGraph team. When filing the bug, set the verbosity to 10 (on Linux, `export AUTOGRAPH_VERBOSITY=10`) and attach the full output. Cause: converting <function standard_lstm at 0x2aab1d32dea0>: AttributeError: module 'gast' has no attribute 'Num'\n",
            "WARNING: Entity <function standard_lstm at 0x2aab1d32dea0> could not be transformed and will be executed as-is. Please report this to the AutoGraph team. When filing the bug, set the verbosity to 10 (on Linux, `export AUTOGRAPH_VERBOSITY=10`) and attach the full output. Cause: converting <function standard_lstm at 0x2aab1d32dea0>: AttributeError: module 'gast' has no attribute 'Num'\n",
            "WARNING:tensorflow:Entity <function cudnn_lstm at 0x2aab1d32df28> could not be transformed and will be executed as-is. Please report this to the AutoGraph team. When filing the bug, set the verbosity to 10 (on Linux, `export AUTOGRAPH_VERBOSITY=10`) and attach the full output. Cause: converting <function cudnn_lstm at 0x2aab1d32df28>: AttributeError: module 'gast' has no attribute 'Num'\n",
            "WARNING: Entity <function cudnn_lstm at 0x2aab1d32df28> could not be transformed and will be executed as-is. Please report this to the AutoGraph team. When filing the bug, set the verbosity to 10 (on Linux, `export AUTOGRAPH_VERBOSITY=10`) and attach the full output. Cause: converting <function cudnn_lstm at 0x2aab1d32df28>: AttributeError: module 'gast' has no attribute 'Num'\n"
          ],
          "name": "stdout"
        }
      ]
    },
    {
      "cell_type": "code",
      "metadata": {
        "colab_type": "code",
        "scrolled": false,
        "outputId": "9338b828-73b7-474a-bb69-fd2e37fb7aea",
        "id": "gBge3qKDdK4a",
        "colab": {}
      },
      "source": [
        "model.summary()"
      ],
      "execution_count": 0,
      "outputs": [
        {
          "output_type": "stream",
          "text": [
            "Model: \"sequential\"\n",
            "_________________________________________________________________\n",
            "Layer (type)                 Output Shape              Param #   \n",
            "=================================================================\n",
            "bidirectional (Bidirectional (None, 20, 128)           135680    \n",
            "_________________________________________________________________\n",
            "bidirectional_1 (Bidirection (None, 64)                41216     \n",
            "_________________________________________________________________\n",
            "dense (Dense)                (None, 128)               8320      \n",
            "_________________________________________________________________\n",
            "dropout (Dropout)            (None, 128)               0         \n",
            "_________________________________________________________________\n",
            "dense_1 (Dense)              (None, 100)               12900     \n",
            "_________________________________________________________________\n",
            "dropout_1 (Dropout)          (None, 100)               0         \n",
            "_________________________________________________________________\n",
            "activation (Activation)      (None, 100)               0         \n",
            "=================================================================\n",
            "Total params: 198,116\n",
            "Trainable params: 198,116\n",
            "Non-trainable params: 0\n",
            "_________________________________________________________________\n"
          ],
          "name": "stdout"
        }
      ]
    },
    {
      "cell_type": "code",
      "metadata": {
        "colab_type": "code",
        "outputId": "ad271e0e-8ebf-4067-cfe5-3069f9eb1a46",
        "id": "riV7wCCC3oaC",
        "colab": {
          "base_uri": "https://localhost:8080/",
          "height": 758
        }
      },
      "source": [
        "from tensorflow.keras.utils import plot_model\n",
        "plot_model(model, to_file='model.png')"
      ],
      "execution_count": 0,
      "outputs": [
        {
          "output_type": "execute_result",
          "data": {
            "image/png": "[encoded data removed]",
            "text/plain": [
              "<IPython.core.display.Image object>"
            ]
          },
          "metadata": {
            "tags": []
          },
          "execution_count": 52
        }
      ]
    },
    {
      "cell_type": "markdown",
      "metadata": {
        "id": "UokDWKIIXSgz",
        "colab_type": "text"
      },
      "source": [
        "Using the adam optimizer and binary_crossentropy as our loss function. We tried categorical_crossentropy as a loss function as well, but the accuracy was poor in comparison. We saw a similar trend with the SGD optimizer and decided to go with adam and binary_crossentropy. We tried random_normal and zeros initializers, but did not get better results. Hence, we decided to stick with the default glorot_uniform initializer."
      ]
    },
    {
      "cell_type": "code",
      "metadata": {
        "colab_type": "code",
        "id": "HRCEV6ltpMwF",
        "colab": {}
      },
      "source": [
        "model.compile(optimizer='adam', \n",
        "              loss='binary_crossentropy',\n",
        "              metrics=['accuracy'])"
      ],
      "execution_count": 0,
      "outputs": []
    },
    {
      "cell_type": "markdown",
      "metadata": {
        "colab_type": "text",
        "id": "GnycUmNoNuUM"
      },
      "source": [
        "## Train the model using a single batch\n",
        "To start off, we trained the model on a single batch of training data. The batch size was 64. We ran the training for 200 epochs. Max. accuracy was around 96%. Increasing number of epochs did not increase accuracy by much.\n",
        "\n"
      ]
    },
    {
      "cell_type": "code",
      "metadata": {
        "colab_type": "code",
        "outputId": "820fdfe2-2991-492c-f8f7-e4a37f2a11c7",
        "id": "UfJ0vmpMda3w",
        "colab": {}
      },
      "source": [
        "for epoch in range(200):\n",
        "    metrics = model.train_on_batch(example_input_batch, example_target_batch)\n",
        "    print(\"Epoch: %d, Loss: %f, Accuracy: %f\" % (epoch, metrics[0], metrics[1]))"
      ],
      "execution_count": 0,
      "outputs": [
        {
          "output_type": "stream",
          "text": [
            "WARNING:tensorflow:From /rigel/home/sh3831/.local/lib/python3.5/site-packages/tensorflow/python/ops/math_grad.py:1250: add_dispatch_support.<locals>.wrapper (from tensorflow.python.ops.array_ops) is deprecated and will be removed in a future version.\n",
            "Instructions for updating:\n",
            "Use tf.where in 2.0, which has the same broadcast rule as np.where\n",
            "Epoch: 0, Loss: 0.192752, Accuracy: 0.960469\n",
            "Epoch: 1, Loss: 0.192231, Accuracy: 0.960469\n",
            "Epoch: 2, Loss: 0.191397, Accuracy: 0.960469\n",
            "Epoch: 3, Loss: 0.190467, Accuracy: 0.960469\n",
            "Epoch: 4, Loss: 0.189089, Accuracy: 0.960469\n",
            "Epoch: 5, Loss: 0.188537, Accuracy: 0.960469\n",
            "Epoch: 6, Loss: 0.187759, Accuracy: 0.960469\n",
            "Epoch: 7, Loss: 0.188119, Accuracy: 0.960469\n",
            "Epoch: 8, Loss: 0.186758, Accuracy: 0.960469\n",
            "Epoch: 9, Loss: 0.185515, Accuracy: 0.960469\n",
            "Epoch: 10, Loss: 0.185102, Accuracy: 0.960469\n",
            "Epoch: 11, Loss: 0.186339, Accuracy: 0.960469\n",
            "Epoch: 12, Loss: 0.182382, Accuracy: 0.960469\n",
            "Epoch: 13, Loss: 0.185043, Accuracy: 0.960469\n",
            "Epoch: 14, Loss: 0.182039, Accuracy: 0.960469\n",
            "Epoch: 15, Loss: 0.183741, Accuracy: 0.960469\n",
            "Epoch: 16, Loss: 0.183977, Accuracy: 0.960469\n",
            "Epoch: 17, Loss: 0.184126, Accuracy: 0.960625\n",
            "Epoch: 18, Loss: 0.179760, Accuracy: 0.960625\n",
            "Epoch: 19, Loss: 0.182614, Accuracy: 0.960469\n",
            "Epoch: 20, Loss: 0.179707, Accuracy: 0.960469\n",
            "Epoch: 21, Loss: 0.178834, Accuracy: 0.960469\n",
            "Epoch: 22, Loss: 0.180064, Accuracy: 0.960469\n",
            "Epoch: 23, Loss: 0.182315, Accuracy: 0.960469\n",
            "Epoch: 24, Loss: 0.178898, Accuracy: 0.960469\n",
            "Epoch: 25, Loss: 0.179947, Accuracy: 0.960469\n",
            "Epoch: 26, Loss: 0.180826, Accuracy: 0.960469\n",
            "Epoch: 27, Loss: 0.179550, Accuracy: 0.960469\n",
            "Epoch: 28, Loss: 0.180050, Accuracy: 0.960469\n",
            "Epoch: 29, Loss: 0.182973, Accuracy: 0.960469\n",
            "Epoch: 30, Loss: 0.179131, Accuracy: 0.960469\n",
            "Epoch: 31, Loss: 0.175784, Accuracy: 0.960469\n",
            "Epoch: 32, Loss: 0.180781, Accuracy: 0.960469\n",
            "Epoch: 33, Loss: 0.175865, Accuracy: 0.960469\n",
            "Epoch: 34, Loss: 0.177379, Accuracy: 0.960469\n",
            "Epoch: 35, Loss: 0.180951, Accuracy: 0.960469\n",
            "Epoch: 36, Loss: 0.180294, Accuracy: 0.960469\n",
            "Epoch: 37, Loss: 0.178683, Accuracy: 0.960469\n",
            "Epoch: 38, Loss: 0.181629, Accuracy: 0.960469\n",
            "Epoch: 39, Loss: 0.175988, Accuracy: 0.960469\n",
            "Epoch: 40, Loss: 0.177542, Accuracy: 0.960469\n",
            "Epoch: 41, Loss: 0.173028, Accuracy: 0.960469\n",
            "Epoch: 42, Loss: 0.177744, Accuracy: 0.960469\n",
            "Epoch: 43, Loss: 0.180224, Accuracy: 0.960469\n",
            "Epoch: 44, Loss: 0.175858, Accuracy: 0.960469\n",
            "Epoch: 45, Loss: 0.178938, Accuracy: 0.960469\n",
            "Epoch: 46, Loss: 0.179812, Accuracy: 0.960469\n",
            "Epoch: 47, Loss: 0.175252, Accuracy: 0.960469\n",
            "Epoch: 48, Loss: 0.175671, Accuracy: 0.960469\n",
            "Epoch: 49, Loss: 0.182031, Accuracy: 0.960469\n",
            "Epoch: 50, Loss: 0.179308, Accuracy: 0.960469\n",
            "Epoch: 51, Loss: 0.174144, Accuracy: 0.960469\n",
            "Epoch: 52, Loss: 0.176781, Accuracy: 0.960469\n",
            "Epoch: 53, Loss: 0.175295, Accuracy: 0.960469\n",
            "Epoch: 54, Loss: 0.174576, Accuracy: 0.960469\n",
            "Epoch: 55, Loss: 0.175676, Accuracy: 0.960469\n",
            "Epoch: 56, Loss: 0.172349, Accuracy: 0.960625\n",
            "Epoch: 57, Loss: 0.176055, Accuracy: 0.960625\n",
            "Epoch: 58, Loss: 0.175955, Accuracy: 0.960469\n",
            "Epoch: 59, Loss: 0.175598, Accuracy: 0.960469\n",
            "Epoch: 60, Loss: 0.173947, Accuracy: 0.960469\n",
            "Epoch: 61, Loss: 0.174470, Accuracy: 0.960469\n",
            "Epoch: 62, Loss: 0.173775, Accuracy: 0.960469\n",
            "Epoch: 63, Loss: 0.171294, Accuracy: 0.960469\n",
            "Epoch: 64, Loss: 0.176158, Accuracy: 0.960625\n",
            "Epoch: 65, Loss: 0.171274, Accuracy: 0.960469\n",
            "Epoch: 66, Loss: 0.177255, Accuracy: 0.960469\n",
            "Epoch: 67, Loss: 0.170011, Accuracy: 0.960469\n",
            "Epoch: 68, Loss: 0.171829, Accuracy: 0.960469\n",
            "Epoch: 69, Loss: 0.171462, Accuracy: 0.960469\n",
            "Epoch: 70, Loss: 0.167351, Accuracy: 0.960469\n",
            "Epoch: 71, Loss: 0.171565, Accuracy: 0.960625\n",
            "Epoch: 72, Loss: 0.168872, Accuracy: 0.960625\n",
            "Epoch: 73, Loss: 0.174980, Accuracy: 0.960469\n",
            "Epoch: 74, Loss: 0.168797, Accuracy: 0.960625\n",
            "Epoch: 75, Loss: 0.167660, Accuracy: 0.960469\n",
            "Epoch: 76, Loss: 0.169343, Accuracy: 0.960625\n",
            "Epoch: 77, Loss: 0.172733, Accuracy: 0.960625\n",
            "Epoch: 78, Loss: 0.173073, Accuracy: 0.960469\n",
            "Epoch: 79, Loss: 0.171794, Accuracy: 0.960469\n",
            "Epoch: 80, Loss: 0.170777, Accuracy: 0.960469\n",
            "Epoch: 81, Loss: 0.169162, Accuracy: 0.960469\n",
            "Epoch: 82, Loss: 0.168407, Accuracy: 0.960469\n",
            "Epoch: 83, Loss: 0.170987, Accuracy: 0.960625\n",
            "Epoch: 84, Loss: 0.166469, Accuracy: 0.960625\n",
            "Epoch: 85, Loss: 0.167887, Accuracy: 0.960625\n",
            "Epoch: 86, Loss: 0.166827, Accuracy: 0.961094\n",
            "Epoch: 87, Loss: 0.169791, Accuracy: 0.961094\n",
            "Epoch: 88, Loss: 0.166543, Accuracy: 0.960625\n",
            "Epoch: 89, Loss: 0.170480, Accuracy: 0.960469\n",
            "Epoch: 90, Loss: 0.169126, Accuracy: 0.960469\n",
            "Epoch: 91, Loss: 0.170617, Accuracy: 0.960469\n",
            "Epoch: 92, Loss: 0.167424, Accuracy: 0.960625\n",
            "Epoch: 93, Loss: 0.165405, Accuracy: 0.960625\n",
            "Epoch: 94, Loss: 0.168108, Accuracy: 0.961094\n",
            "Epoch: 95, Loss: 0.160912, Accuracy: 0.960469\n",
            "Epoch: 96, Loss: 0.168499, Accuracy: 0.960469\n",
            "Epoch: 97, Loss: 0.170796, Accuracy: 0.960469\n",
            "Epoch: 98, Loss: 0.169203, Accuracy: 0.960469\n",
            "Epoch: 99, Loss: 0.167802, Accuracy: 0.960625\n",
            "Epoch: 100, Loss: 0.168147, Accuracy: 0.960781\n",
            "Epoch: 101, Loss: 0.167898, Accuracy: 0.960469\n",
            "Epoch: 102, Loss: 0.169157, Accuracy: 0.960781\n",
            "Epoch: 103, Loss: 0.170012, Accuracy: 0.960781\n",
            "Epoch: 104, Loss: 0.165517, Accuracy: 0.960469\n",
            "Epoch: 105, Loss: 0.165613, Accuracy: 0.960469\n",
            "Epoch: 106, Loss: 0.164742, Accuracy: 0.960625\n",
            "Epoch: 107, Loss: 0.160861, Accuracy: 0.960469\n",
            "Epoch: 108, Loss: 0.159462, Accuracy: 0.960469\n",
            "Epoch: 109, Loss: 0.163942, Accuracy: 0.960781\n",
            "Epoch: 110, Loss: 0.164272, Accuracy: 0.960781\n",
            "Epoch: 111, Loss: 0.162236, Accuracy: 0.960781\n",
            "Epoch: 112, Loss: 0.165203, Accuracy: 0.960625\n",
            "Epoch: 113, Loss: 0.160352, Accuracy: 0.960938\n",
            "Epoch: 114, Loss: 0.158621, Accuracy: 0.961094\n",
            "Epoch: 115, Loss: 0.165156, Accuracy: 0.960469\n",
            "Epoch: 116, Loss: 0.167751, Accuracy: 0.960469\n",
            "Epoch: 117, Loss: 0.158345, Accuracy: 0.960469\n",
            "Epoch: 118, Loss: 0.160765, Accuracy: 0.960625\n",
            "Epoch: 119, Loss: 0.166464, Accuracy: 0.960781\n",
            "Epoch: 120, Loss: 0.162466, Accuracy: 0.960781\n",
            "Epoch: 121, Loss: 0.159909, Accuracy: 0.961250\n",
            "Epoch: 122, Loss: 0.161554, Accuracy: 0.960625\n",
            "Epoch: 123, Loss: 0.161566, Accuracy: 0.960625\n",
            "Epoch: 124, Loss: 0.165542, Accuracy: 0.960938\n",
            "Epoch: 125, Loss: 0.156590, Accuracy: 0.960938\n",
            "Epoch: 126, Loss: 0.164693, Accuracy: 0.960625\n",
            "Epoch: 127, Loss: 0.160426, Accuracy: 0.961094\n",
            "Epoch: 128, Loss: 0.161499, Accuracy: 0.960469\n",
            "Epoch: 129, Loss: 0.160494, Accuracy: 0.960781\n",
            "Epoch: 130, Loss: 0.160905, Accuracy: 0.960625\n",
            "Epoch: 131, Loss: 0.158882, Accuracy: 0.960781\n",
            "Epoch: 132, Loss: 0.157913, Accuracy: 0.961563\n",
            "Epoch: 133, Loss: 0.157846, Accuracy: 0.960781\n",
            "Epoch: 134, Loss: 0.157261, Accuracy: 0.960781\n",
            "Epoch: 135, Loss: 0.162735, Accuracy: 0.961094\n",
            "Epoch: 136, Loss: 0.161684, Accuracy: 0.960781\n",
            "Epoch: 137, Loss: 0.160279, Accuracy: 0.960781\n",
            "Epoch: 138, Loss: 0.155450, Accuracy: 0.960781\n",
            "Epoch: 139, Loss: 0.159336, Accuracy: 0.960625\n",
            "Epoch: 140, Loss: 0.153742, Accuracy: 0.961094\n",
            "Epoch: 141, Loss: 0.154714, Accuracy: 0.960938\n",
            "Epoch: 142, Loss: 0.157417, Accuracy: 0.960469\n",
            "Epoch: 143, Loss: 0.159223, Accuracy: 0.961563\n",
            "Epoch: 144, Loss: 0.152217, Accuracy: 0.960625\n",
            "Epoch: 145, Loss: 0.157869, Accuracy: 0.961094\n",
            "Epoch: 146, Loss: 0.157863, Accuracy: 0.960938\n",
            "Epoch: 147, Loss: 0.157981, Accuracy: 0.960469\n",
            "Epoch: 148, Loss: 0.159096, Accuracy: 0.960781\n",
            "Epoch: 149, Loss: 0.159424, Accuracy: 0.960625\n",
            "Epoch: 150, Loss: 0.150733, Accuracy: 0.960625\n",
            "Epoch: 151, Loss: 0.160684, Accuracy: 0.961406\n",
            "Epoch: 152, Loss: 0.158715, Accuracy: 0.961563\n",
            "Epoch: 153, Loss: 0.161534, Accuracy: 0.960781\n",
            "Epoch: 154, Loss: 0.159507, Accuracy: 0.960625\n",
            "Epoch: 155, Loss: 0.155275, Accuracy: 0.960781\n",
            "Epoch: 156, Loss: 0.152980, Accuracy: 0.960938\n",
            "Epoch: 157, Loss: 0.154061, Accuracy: 0.961094\n",
            "Epoch: 158, Loss: 0.156032, Accuracy: 0.961250\n",
            "Epoch: 159, Loss: 0.151506, Accuracy: 0.960781\n",
            "Epoch: 160, Loss: 0.153346, Accuracy: 0.961250\n",
            "Epoch: 161, Loss: 0.155652, Accuracy: 0.961094\n",
            "Epoch: 162, Loss: 0.154072, Accuracy: 0.960625\n",
            "Epoch: 163, Loss: 0.156245, Accuracy: 0.961094\n",
            "Epoch: 164, Loss: 0.151301, Accuracy: 0.961250\n",
            "Epoch: 165, Loss: 0.152273, Accuracy: 0.960781\n",
            "Epoch: 166, Loss: 0.153545, Accuracy: 0.961094\n",
            "Epoch: 167, Loss: 0.154572, Accuracy: 0.960781\n",
            "Epoch: 168, Loss: 0.154237, Accuracy: 0.961875\n",
            "Epoch: 169, Loss: 0.155012, Accuracy: 0.961094\n",
            "Epoch: 170, Loss: 0.149481, Accuracy: 0.961094\n",
            "Epoch: 171, Loss: 0.154485, Accuracy: 0.960938\n",
            "Epoch: 172, Loss: 0.152406, Accuracy: 0.960938\n",
            "Epoch: 173, Loss: 0.156658, Accuracy: 0.961563\n",
            "Epoch: 174, Loss: 0.150074, Accuracy: 0.961094\n",
            "Epoch: 175, Loss: 0.149242, Accuracy: 0.961563\n",
            "Epoch: 176, Loss: 0.152971, Accuracy: 0.961406\n",
            "Epoch: 177, Loss: 0.155305, Accuracy: 0.961094\n",
            "Epoch: 178, Loss: 0.152247, Accuracy: 0.962031\n",
            "Epoch: 179, Loss: 0.148106, Accuracy: 0.961094\n",
            "Epoch: 180, Loss: 0.156160, Accuracy: 0.961719\n",
            "Epoch: 181, Loss: 0.149193, Accuracy: 0.961875\n",
            "Epoch: 182, Loss: 0.147011, Accuracy: 0.961563\n",
            "Epoch: 183, Loss: 0.154133, Accuracy: 0.961406\n",
            "Epoch: 184, Loss: 0.156311, Accuracy: 0.961406\n",
            "Epoch: 185, Loss: 0.158648, Accuracy: 0.961563\n",
            "Epoch: 186, Loss: 0.147749, Accuracy: 0.961875\n",
            "Epoch: 187, Loss: 0.150126, Accuracy: 0.961563\n",
            "Epoch: 188, Loss: 0.150941, Accuracy: 0.961719\n",
            "Epoch: 189, Loss: 0.146087, Accuracy: 0.961719\n",
            "Epoch: 190, Loss: 0.151398, Accuracy: 0.960938\n",
            "Epoch: 191, Loss: 0.150183, Accuracy: 0.961094\n",
            "Epoch: 192, Loss: 0.145138, Accuracy: 0.961563\n",
            "Epoch: 193, Loss: 0.145885, Accuracy: 0.961875\n",
            "Epoch: 194, Loss: 0.146251, Accuracy: 0.961406\n",
            "Epoch: 195, Loss: 0.152722, Accuracy: 0.961875\n",
            "Epoch: 196, Loss: 0.147691, Accuracy: 0.961875\n",
            "Epoch: 197, Loss: 0.148165, Accuracy: 0.961563\n",
            "Epoch: 198, Loss: 0.146301, Accuracy: 0.961719\n",
            "Epoch: 199, Loss: 0.153080, Accuracy: 0.961719\n"
          ],
          "name": "stdout"
        }
      ]
    },
    {
      "cell_type": "code",
      "metadata": {
        "colab_type": "code",
        "id": "86EOo31bxxB9",
        "outputId": "4bd1cc95-f8d8-4d3d-869e-b4a7a44e3ba4",
        "colab": {}
      },
      "source": [
        "for prediction, answer in zip(model.predict(x=example_input_batch), example_target_batch):\n",
        "  print(prediction, answer.numpy())"
      ],
      "execution_count": 0,
      "outputs": [
        {
          "output_type": "stream",
          "text": [
            "[0.02932125 0.05382309 0.05282445 0.02237244 0.01721556 0.00770017\n",
            " 0.01046339 0.01234722 0.02069676 0.03648932 0.02907567 0.00961721\n",
            " 0.01392362 0.01194546 0.00770017 0.01654677 0.00770017 0.00770017\n",
            " 0.00770017 0.00770017 0.00882342 0.00770017 0.00770017 0.00770017\n",
            " 0.00770017 0.00770017 0.00770017 0.00770017 0.00770017 0.00770017\n",
            " 0.00770017 0.00770017 0.00770017 0.00770017 0.00770017 0.00770017\n",
            " 0.00770017 0.00770017 0.00770017 0.00770017 0.00770017 0.00770017\n",
            " 0.00770017 0.00770017 0.00770017 0.00770017 0.00770017 0.00770017\n",
            " 0.00770017 0.00770017 0.00770017 0.00770017 0.00770017 0.00770017\n",
            " 0.00770017 0.00770017 0.00770017 0.00770017 0.00770017 0.00770017\n",
            " 0.00770017 0.00770017 0.00770017 0.00770017 0.00770017 0.00770017\n",
            " 0.00770017 0.00770017 0.00770017 0.00770017 0.00770017 0.00770017\n",
            " 0.00770017 0.00770017 0.00770017 0.00770017 0.00770017 0.00770017\n",
            " 0.00770017 0.00770017 0.00770017 0.00770017 0.00770017 0.00770017\n",
            " 0.00770017 0.00770017 0.00770017 0.00770017 0.00770017 0.00770017\n",
            " 0.00770017 0.00770017 0.00770017 0.00770017 0.00770017 0.00770017\n",
            " 0.00770017 0.00770017 0.00770017 0.00770017] [0 1 1 0 0 0 0 0 0 1 1 0 0 0 0 0 0 0 0 0 0 0 0 0 0 0 0 0 0 0 0 0 0 0 0 0 0\n",
            " 0 0 0 0 0 0 0 0 0 0 0 0 0 0 0 0 0 0 0 0 0 0 0 0 0 0 0 0 0 0 0 0 0 0 0 0 0\n",
            " 0 0 0 0 0 0 0 0 0 0 0 0 0 0 0 0 0 0 0 0 0 0 0 0 0 0]\n",
            "[0.00835517 0.07600346 0.00835517 0.01820081 0.01268999 0.05498028\n",
            " 0.01825764 0.00835517 0.00835517 0.00835517 0.00835983 0.01516983\n",
            " 0.01669935 0.01013833 0.00835517 0.00835517 0.00835517 0.00835517\n",
            " 0.01431985 0.00835517 0.00835517 0.00913278 0.00835517 0.00835517\n",
            " 0.00835517 0.00835517 0.00835517 0.00835517 0.00835517 0.00835517\n",
            " 0.00835517 0.00835517 0.00835517 0.00835517 0.01079263 0.00835517\n",
            " 0.00835517 0.00835517 0.00835517 0.00835517 0.00835517 0.00835517\n",
            " 0.00835517 0.00835517 0.00835517 0.00835517 0.00835517 0.00835517\n",
            " 0.00835517 0.00835517 0.00835517 0.00835517 0.00835517 0.00835517\n",
            " 0.00835517 0.00835517 0.00835517 0.00835517 0.00835517 0.00835517\n",
            " 0.00835517 0.00835517 0.00835517 0.00835517 0.00835517 0.00835517\n",
            " 0.00835517 0.00835517 0.00835517 0.00835517 0.00835517 0.00835517\n",
            " 0.00835517 0.00835517 0.00835517 0.00835517 0.00835517 0.00835517\n",
            " 0.00835517 0.00835517 0.00835517 0.00835517 0.00835517 0.00835517\n",
            " 0.00835517 0.00835517 0.00835517 0.00835517 0.00835517 0.00835517\n",
            " 0.00835517 0.00835517 0.00835517 0.00835517 0.00835517 0.00835517\n",
            " 0.00835517 0.00835517 0.00835517 0.00835517] [0 1 0 0 0 1 0 0 0 0 0 0 0 0 0 0 0 0 0 0 0 0 0 0 0 0 0 0 0 0 0 1 0 0 0 0 0\n",
            " 0 0 0 0 0 0 0 0 0 0 0 0 0 0 0 0 0 0 0 0 0 0 0 0 0 0 0 0 0 0 0 0 0 0 0 0 0\n",
            " 0 0 0 0 0 0 0 0 0 0 0 0 0 0 0 0 0 0 0 0 0 0 0 0 0 0]\n",
            "[0.01829977 0.07573861 0.06567606 0.06479909 0.01343109 0.00723027\n",
            " 0.01896287 0.00723027 0.00723027 0.0100868  0.00723027 0.00723027\n",
            " 0.01963242 0.00723027 0.01460848 0.01437963 0.00723027 0.00723027\n",
            " 0.00723027 0.00723027 0.00929467 0.03529127 0.00723027 0.00723027\n",
            " 0.00964218 0.00723027 0.00723027 0.00723027 0.00723027 0.00723027\n",
            " 0.00723027 0.00835411 0.00723027 0.00723027 0.00723027 0.00723027\n",
            " 0.00723027 0.00723027 0.00723027 0.00723027 0.00723027 0.00723027\n",
            " 0.00723027 0.00723027 0.00723027 0.00723027 0.00723027 0.00723027\n",
            " 0.00723027 0.00723027 0.00723027 0.00723027 0.00723027 0.00723027\n",
            " 0.00723027 0.00723027 0.00723027 0.00723027 0.00723027 0.00723027\n",
            " 0.00723027 0.00723027 0.00723027 0.00723027 0.00723027 0.00723027\n",
            " 0.00723027 0.00723027 0.00723027 0.00723027 0.00723027 0.00723027\n",
            " 0.00723027 0.00723027 0.00723027 0.00723027 0.00723027 0.00723027\n",
            " 0.00723027 0.00723027 0.00723027 0.00723027 0.00723027 0.00723027\n",
            " 0.00723027 0.00723027 0.00723027 0.00723027 0.00723027 0.00723027\n",
            " 0.00723027 0.00723027 0.00723027 0.00723027 0.00723027 0.00723027\n",
            " 0.00723027 0.00723027 0.00723027 0.00723027] [0 1 1 1 0 0 0 0 0 0 0 0 0 0 0 0 0 0 0 0 0 0 0 0 0 0 0 0 0 0 0 0 0 0 0 0 0\n",
            " 0 0 0 0 0 0 0 0 0 0 0 0 0 0 0 0 0 0 0 0 0 0 0 0 0 0 0 0 0 0 0 0 0 0 0 0 0\n",
            " 0 0 0 0 0 0 0 0 0 0 0 0 0 0 0 0 0 0 0 0 0 0 0 0 0 0]\n",
            "[0.01443561 0.01348044 0.04386636 0.03451666 0.04398036 0.00837992\n",
            " 0.01770018 0.02560221 0.00757618 0.01957603 0.00757618 0.00757618\n",
            " 0.00997153 0.01482465 0.00757618 0.00884129 0.00757618 0.00757618\n",
            " 0.00757618 0.00757618 0.00757618 0.04615824 0.02262857 0.00757618\n",
            " 0.01327192 0.00757618 0.00757618 0.00757618 0.00757618 0.01063421\n",
            " 0.00757618 0.00757618 0.00757618 0.00757618 0.00757618 0.00757618\n",
            " 0.00757618 0.00757618 0.00757618 0.00757618 0.00757618 0.00757618\n",
            " 0.01771376 0.00757618 0.01077447 0.00997279 0.00757618 0.00757618\n",
            " 0.00757618 0.00757618 0.00757618 0.00757618 0.00757618 0.00757618\n",
            " 0.00757618 0.00757618 0.00757618 0.00757618 0.00757618 0.00757618\n",
            " 0.00757618 0.00757618 0.00757618 0.00757618 0.00757618 0.00757618\n",
            " 0.00757618 0.00757618 0.00757618 0.00757618 0.00757618 0.00757618\n",
            " 0.00757618 0.00757618 0.00757618 0.00757618 0.00757618 0.00757618\n",
            " 0.00757618 0.00757618 0.00757618 0.00757618 0.00757618 0.00757618\n",
            " 0.00757618 0.00757618 0.00757618 0.00757618 0.00757618 0.00757618\n",
            " 0.00757618 0.00757618 0.00757618 0.00757618 0.00757618 0.00757618\n",
            " 0.00757618 0.00757618 0.00757618 0.00757618] [0 0 0 1 1 0 0 1 0 0 0 0 0 0 0 0 0 0 0 0 0 1 0 0 0 0 0 0 0 0 0 0 0 0 0 0 0\n",
            " 0 0 0 0 0 0 0 0 0 0 0 0 0 0 0 0 0 0 0 0 0 0 0 0 0 0 0 0 0 0 0 0 0 0 0 0 0\n",
            " 0 0 0 0 0 0 0 0 0 0 0 0 0 0 0 0 0 0 0 0 0 0 0 0 0 0]\n",
            "[0.00998603 0.05231825 0.00800622 0.04989047 0.00800622 0.00800622\n",
            " 0.0138188  0.00800622 0.00800622 0.00800622 0.01854014 0.03751599\n",
            " 0.00800622 0.02621105 0.00800622 0.00800622 0.00800622 0.00800622\n",
            " 0.01550347 0.00800622 0.00964168 0.00800622 0.00800622 0.009717\n",
            " 0.00800622 0.00800622 0.00800622 0.00800622 0.00800622 0.00800622\n",
            " 0.00800622 0.00800622 0.00800622 0.00800622 0.01093316 0.00800622\n",
            " 0.00800622 0.00800622 0.00800622 0.00800622 0.00800622 0.00800622\n",
            " 0.00800622 0.00800622 0.00800622 0.00800622 0.00800622 0.01581869\n",
            " 0.00800622 0.03356406 0.00800622 0.00800622 0.00800622 0.00800622\n",
            " 0.00800622 0.00800622 0.00800622 0.00800622 0.00800622 0.00800622\n",
            " 0.00800622 0.00800622 0.00800622 0.00800622 0.00800622 0.00800622\n",
            " 0.00800622 0.00800622 0.00800622 0.00800622 0.00800622 0.00800622\n",
            " 0.00800622 0.00800622 0.00800622 0.00800622 0.00800622 0.00800622\n",
            " 0.00800622 0.00800622 0.00800622 0.00800622 0.00800622 0.00800622\n",
            " 0.00800622 0.00800622 0.00800622 0.00800622 0.00800622 0.00800622\n",
            " 0.00800622 0.00800622 0.00800622 0.00800622 0.00800622 0.00800622\n",
            " 0.00800622 0.00800622 0.00800622 0.00800622] [0 1 0 1 0 0 0 0 0 0 0 1 0 0 0 0 0 0 0 0 0 0 0 0 0 0 0 0 0 0 0 0 0 0 0 0 0\n",
            " 0 0 0 0 0 0 0 0 0 0 0 0 1 0 0 0 0 0 0 0 0 0 0 0 0 0 0 0 0 0 0 0 0 0 0 0 0\n",
            " 0 0 0 0 0 0 0 0 0 0 0 0 0 0 0 0 0 0 0 0 0 0 0 0 0 0]\n",
            "[0.0082446  0.01346682 0.0082446  0.00883536 0.0082446  0.0082446\n",
            " 0.0082446  0.00989441 0.0082446  0.0082446  0.0082446  0.04813809\n",
            " 0.0082446  0.02296272 0.0082446  0.0082446  0.0082446  0.0082446\n",
            " 0.0125159  0.0082446  0.01057764 0.00952849 0.0088248  0.01555698\n",
            " 0.03085505 0.0082446  0.0082446  0.03021083 0.0082446  0.00839587\n",
            " 0.0082446  0.0082446  0.0082446  0.0082446  0.0082446  0.0082446\n",
            " 0.0082446  0.0082446  0.01052787 0.0082446  0.01437255 0.0082446\n",
            " 0.00944012 0.0082446  0.0082446  0.01418122 0.0082446  0.01448099\n",
            " 0.0082446  0.03942145 0.0082446  0.0082446  0.0082446  0.0082446\n",
            " 0.0082446  0.0082446  0.0082446  0.0082446  0.0082446  0.0082446\n",
            " 0.0082446  0.0082446  0.0082446  0.0082446  0.0082446  0.0082446\n",
            " 0.0082446  0.0082446  0.0082446  0.0082446  0.0082446  0.0082446\n",
            " 0.0082446  0.0082446  0.0082446  0.0082446  0.0082446  0.0082446\n",
            " 0.0082446  0.0082446  0.0082446  0.0082446  0.0082446  0.0082446\n",
            " 0.0082446  0.0082446  0.0082446  0.0082446  0.0082446  0.0082446\n",
            " 0.0082446  0.0082446  0.0082446  0.0082446  0.0082446  0.0082446\n",
            " 0.0082446  0.0082446  0.0082446  0.0082446 ] [0 0 0 0 0 0 0 0 0 0 0 1 0 0 0 0 0 0 0 0 0 0 0 1 1 0 0 1 0 0 0 0 0 0 0 0 0\n",
            " 0 0 0 0 0 0 0 0 0 0 0 0 1 0 0 0 0 0 0 0 0 0 0 0 0 0 0 0 0 0 0 0 0 0 0 0 0\n",
            " 0 0 0 0 0 0 0 0 0 0 0 0 0 0 0 0 0 0 0 0 0 0 0 0 0 0]\n",
            "[0.0101313  0.02640766 0.00808573 0.01395848 0.00808573 0.00808573\n",
            " 0.00808573 0.00808573 0.00808573 0.00808573 0.00808573 0.0090761\n",
            " 0.02245843 0.02267295 0.04495076 0.00808573 0.00808573 0.00808573\n",
            " 0.01828886 0.00808573 0.04335434 0.01067543 0.00808573 0.00808573\n",
            " 0.01023628 0.00808573 0.00808573 0.00808573 0.00808573 0.00808573\n",
            " 0.00808573 0.00808573 0.00808573 0.00808573 0.04591976 0.00808573\n",
            " 0.00808573 0.00808573 0.01400402 0.00808573 0.01165526 0.00808573\n",
            " 0.00808573 0.00808573 0.00808573 0.00808573 0.00808573 0.00892341\n",
            " 0.00808573 0.00808573 0.00808573 0.00808573 0.00808573 0.00808573\n",
            " 0.00808573 0.00808573 0.00808573 0.00808573 0.00808573 0.00808573\n",
            " 0.00808573 0.00808573 0.00808573 0.00808573 0.00808573 0.00808573\n",
            " 0.00808573 0.00808573 0.00808573 0.00808573 0.00808573 0.00808573\n",
            " 0.00808573 0.00808573 0.00808573 0.00808573 0.00808573 0.00808573\n",
            " 0.00808573 0.00808573 0.00808573 0.00808573 0.00808573 0.00808573\n",
            " 0.00808573 0.00808573 0.00808573 0.00808573 0.00808573 0.00808573\n",
            " 0.00808573 0.00808573 0.00808573 0.00808573 0.00808573 0.00808573\n",
            " 0.00808573 0.00808573 0.00808573 0.00808573] [0 0 0 0 0 0 0 0 0 0 0 0 0 1 1 0 0 0 0 0 1 0 0 0 0 0 0 0 0 0 0 0 0 0 1 0 0\n",
            " 0 0 0 0 0 0 0 0 0 0 0 0 0 0 0 0 0 0 0 0 0 0 0 0 0 0 0 0 0 0 0 0 0 0 0 0 0\n",
            " 0 0 0 0 0 0 0 0 0 0 0 0 0 0 0 0 0 0 0 0 0 0 0 0 0 0]\n",
            "[0.0074929  0.00994945 0.03576009 0.01805263 0.01578638 0.02997062\n",
            " 0.02507029 0.01424858 0.0074929  0.01020886 0.0074929  0.01222966\n",
            " 0.0074929  0.01883295 0.0074929  0.0074929  0.0074929  0.0074929\n",
            " 0.00825436 0.0074929  0.0074929  0.03138106 0.04564764 0.0074929\n",
            " 0.01493868 0.0074929  0.0074929  0.0074929  0.0074929  0.0205805\n",
            " 0.0074929  0.0074929  0.0074929  0.0074929  0.0074929  0.0074929\n",
            " 0.0074929  0.0074929  0.0074929  0.0074929  0.00915379 0.0074929\n",
            " 0.03231987 0.0074929  0.0074929  0.02713942 0.0074929  0.0074929\n",
            " 0.0074929  0.01354996 0.0074929  0.0074929  0.0074929  0.0074929\n",
            " 0.0074929  0.0074929  0.0074929  0.0074929  0.0074929  0.0074929\n",
            " 0.0074929  0.0074929  0.0074929  0.0074929  0.0074929  0.0074929\n",
            " 0.0074929  0.0074929  0.0074929  0.0074929  0.0074929  0.0074929\n",
            " 0.0074929  0.0074929  0.0074929  0.0074929  0.0074929  0.0074929\n",
            " 0.0074929  0.0074929  0.0074929  0.0074929  0.0074929  0.0074929\n",
            " 0.0074929  0.0074929  0.0074929  0.0074929  0.0074929  0.0074929\n",
            " 0.0074929  0.0074929  0.0074929  0.0074929  0.0074929  0.0074929\n",
            " 0.0074929  0.0074929  0.0074929  0.0074929 ] [0 0 1 0 0 1 1 0 0 0 0 0 0 0 0 0 0 0 0 0 0 0 1 0 0 0 0 0 0 0 0 0 0 0 0 0 0\n",
            " 0 0 0 0 0 1 0 0 1 0 0 0 0 0 0 0 0 0 0 0 0 0 0 0 0 0 0 0 0 0 0 0 0 0 0 0 0\n",
            " 0 0 0 0 0 0 0 0 0 0 0 0 0 0 0 0 0 0 0 0 0 0 0 0 0 0]\n",
            "[0.01025499 0.05713736 0.05684518 0.02155668 0.02158549 0.0134251\n",
            " 0.02121161 0.01085614 0.00949724 0.02544445 0.01021809 0.01314864\n",
            " 0.00803348 0.0102387  0.00803348 0.00913745 0.00803348 0.00803348\n",
            " 0.02417675 0.00803348 0.00910535 0.00938166 0.00803348 0.00803348\n",
            " 0.00803348 0.00803348 0.00803348 0.00803348 0.00803348 0.00803348\n",
            " 0.00803348 0.00803348 0.00803348 0.00803348 0.00803348 0.00803348\n",
            " 0.00803348 0.00803348 0.00803348 0.00803348 0.00803348 0.00803348\n",
            " 0.00803348 0.00803348 0.00803348 0.00803348 0.00803348 0.00803348\n",
            " 0.00803348 0.00803348 0.00803348 0.00803348 0.00803348 0.00803348\n",
            " 0.00803348 0.00803348 0.00803348 0.00803348 0.00803348 0.00803348\n",
            " 0.00803348 0.00803348 0.00803348 0.00803348 0.00803348 0.00803348\n",
            " 0.00803348 0.00803348 0.00803348 0.00803348 0.00803348 0.00803348\n",
            " 0.00803348 0.00803348 0.00803348 0.00803348 0.00803348 0.00803348\n",
            " 0.00803348 0.00803348 0.00803348 0.00803348 0.00803348 0.00803348\n",
            " 0.00803348 0.00803348 0.00803348 0.00803348 0.00803348 0.00803348\n",
            " 0.00803348 0.00803348 0.00803348 0.00803348 0.00803348 0.00803348\n",
            " 0.00803348 0.00803348 0.00803348 0.00803348] [0 1 1 0 0 0 0 0 0 0 0 0 0 0 0 0 0 0 1 0 0 0 0 0 0 0 0 0 0 0 0 0 0 0 0 0 0\n",
            " 0 0 0 0 0 0 0 0 0 0 0 0 0 0 0 0 0 0 0 0 0 0 0 0 0 0 0 0 0 0 0 0 0 0 0 0 0\n",
            " 0 0 0 0 0 0 0 0 0 0 0 0 0 0 0 0 0 0 0 0 0 0 0 0 0 0]\n",
            "[0.01076907 0.06355014 0.00754923 0.01586394 0.00754923 0.00997179\n",
            " 0.00754923 0.01004321 0.01719349 0.00754923 0.01811328 0.07550748\n",
            " 0.01413048 0.06022925 0.00754923 0.00754923 0.00754923 0.00754923\n",
            " 0.00754923 0.00754923 0.00754923 0.00754923 0.00754923 0.01166719\n",
            " 0.00754923 0.00754923 0.00754923 0.00833051 0.00754923 0.00754923\n",
            " 0.00754923 0.00754923 0.01239551 0.00754923 0.00754923 0.00754923\n",
            " 0.00754923 0.00754923 0.00754923 0.00754923 0.00754923 0.00754923\n",
            " 0.00754923 0.00754923 0.00754923 0.01684634 0.00754923 0.00939327\n",
            " 0.00754923 0.0118598  0.00754923 0.00754923 0.00754923 0.00754923\n",
            " 0.00754923 0.00754923 0.00754923 0.00754923 0.00754923 0.00754923\n",
            " 0.00754923 0.00754923 0.00754923 0.00754923 0.00754923 0.00754923\n",
            " 0.00754923 0.00754923 0.00754923 0.00754923 0.00754923 0.00754923\n",
            " 0.00754923 0.00754923 0.00754923 0.00754923 0.00754923 0.00754923\n",
            " 0.00754923 0.00754923 0.00754923 0.00754923 0.00754923 0.00754923\n",
            " 0.00754923 0.00754923 0.00754923 0.00754923 0.00754923 0.00754923\n",
            " 0.00754923 0.00754923 0.00754923 0.00754923 0.00754923 0.00754923\n",
            " 0.00754923 0.00754923 0.00754923 0.00754923] [0 1 0 0 0 0 0 0 0 0 0 1 0 1 0 0 0 0 0 0 0 0 0 0 0 0 0 0 0 0 0 0 0 0 0 0 0\n",
            " 0 0 0 0 0 0 0 0 0 0 0 0 0 0 0 0 0 0 0 0 0 0 0 0 0 0 0 0 0 0 0 0 0 0 0 0 0\n",
            " 0 0 0 0 0 0 0 0 0 0 0 0 0 0 0 0 0 0 0 0 0 0 0 0 0 0]\n",
            "[0.0154031  0.03953974 0.0087601  0.01836496 0.01487219 0.00993321\n",
            " 0.03192098 0.00827801 0.00827801 0.00832588 0.00827801 0.00827801\n",
            " 0.00959743 0.00827801 0.00827801 0.00827801 0.00827801 0.00827801\n",
            " 0.00827801 0.00827801 0.00827801 0.0152929  0.03135877 0.00827801\n",
            " 0.00827801 0.00827801 0.00827801 0.00827801 0.00827801 0.01062156\n",
            " 0.00827801 0.00827801 0.01252573 0.00827801 0.00827801 0.00827801\n",
            " 0.00827801 0.00827801 0.00827801 0.00827801 0.00827801 0.00827801\n",
            " 0.03792021 0.00827801 0.03193249 0.00827801 0.00827801 0.00827801\n",
            " 0.00827801 0.00827801 0.00827801 0.00827801 0.00827801 0.00827801\n",
            " 0.00827801 0.00827801 0.00827801 0.00827801 0.00827801 0.00827801\n",
            " 0.00827801 0.00827801 0.00827801 0.00827801 0.00827801 0.00827801\n",
            " 0.00827801 0.00827801 0.00827801 0.00827801 0.00827801 0.00827801\n",
            " 0.00827801 0.00827801 0.00827801 0.00827801 0.00827801 0.00827801\n",
            " 0.00827801 0.00827801 0.00827801 0.00827801 0.00827801 0.00827801\n",
            " 0.00827801 0.00827801 0.00827801 0.00827801 0.00827801 0.00827801\n",
            " 0.00827801 0.00827801 0.00827801 0.00827801 0.00827801 0.00827801\n",
            " 0.00827801 0.00827801 0.00827801 0.00827801] [0 1 0 0 0 0 1 0 0 0 0 0 0 0 0 0 0 0 0 0 0 0 1 0 0 0 1 0 0 0 0 0 0 0 0 0 0\n",
            " 0 0 0 0 0 1 0 1 0 0 0 0 0 0 0 0 0 0 0 0 0 0 0 0 0 0 0 0 0 0 0 0 0 0 0 0 0\n",
            " 0 0 0 0 0 0 0 0 0 0 0 0 0 0 0 0 0 0 0 0 0 0 0 0 0 0]\n",
            "[0.04796499 0.04579334 0.01162294 0.03855269 0.00862079 0.00793358\n",
            " 0.04256508 0.00793358 0.00793358 0.01255176 0.01517734 0.00793358\n",
            " 0.02082551 0.00793358 0.01735687 0.00793358 0.00793358 0.00793358\n",
            " 0.00793358 0.00793358 0.02146892 0.01206951 0.00793358 0.00793358\n",
            " 0.00793358 0.00793358 0.00793358 0.00793358 0.00793358 0.00793358\n",
            " 0.00793358 0.01199918 0.01114294 0.00793358 0.00793358 0.00793358\n",
            " 0.00793358 0.00793358 0.00793358 0.00793358 0.00793358 0.00793358\n",
            " 0.00793358 0.00793358 0.00793358 0.00793358 0.00793358 0.00793358\n",
            " 0.00793358 0.00793358 0.00793358 0.00793358 0.00793358 0.00793358\n",
            " 0.00793358 0.00793358 0.00793358 0.00793358 0.00793358 0.00793358\n",
            " 0.00793358 0.00793358 0.00793358 0.00793358 0.00793358 0.00793358\n",
            " 0.00793358 0.00793358 0.00793358 0.00793358 0.00793358 0.00793358\n",
            " 0.00793358 0.00793358 0.00793358 0.00793358 0.00793358 0.00793358\n",
            " 0.00793358 0.00793358 0.00793358 0.00793358 0.00793358 0.00793358\n",
            " 0.00793358 0.00793358 0.00793358 0.00793358 0.00793358 0.00793358\n",
            " 0.00793358 0.00793358 0.00793358 0.00793358 0.00793358 0.00793358\n",
            " 0.00793358 0.00793358 0.00793358 0.00793358] [1 1 0 0 0 0 1 0 0 0 0 0 0 0 0 0 0 0 0 0 1 0 0 0 0 0 0 0 0 0 0 0 0 0 0 0 0\n",
            " 0 0 0 0 0 0 0 0 0 0 0 0 0 0 0 0 0 0 0 0 0 0 0 0 0 0 0 0 0 0 0 0 0 0 0 0 0\n",
            " 0 0 0 0 0 0 0 0 0 0 0 0 0 0 0 0 0 0 0 0 0 0 0 0 0 0]\n",
            "[0.01402827 0.06588998 0.05932023 0.05810516 0.06546826 0.00763809\n",
            " 0.01925474 0.00926807 0.01011849 0.01448146 0.00991552 0.00732047\n",
            " 0.01117055 0.00732047 0.00732047 0.01099176 0.00732047 0.00732047\n",
            " 0.00732047 0.00732047 0.00732047 0.01362093 0.00732047 0.00732047\n",
            " 0.00848871 0.00732047 0.00732047 0.00732047 0.00732047 0.00732047\n",
            " 0.00732047 0.00732047 0.00732047 0.00732047 0.00732047 0.00732047\n",
            " 0.00732047 0.00732047 0.00732047 0.00732047 0.00732047 0.00732047\n",
            " 0.00732047 0.00732047 0.00732047 0.00732047 0.00732047 0.00732047\n",
            " 0.00732047 0.00732047 0.00732047 0.00732047 0.00732047 0.00732047\n",
            " 0.00732047 0.00732047 0.00732047 0.00732047 0.00732047 0.00732047\n",
            " 0.00732047 0.00732047 0.00732047 0.00732047 0.00732047 0.00732047\n",
            " 0.00732047 0.00732047 0.00732047 0.00732047 0.00732047 0.00732047\n",
            " 0.00732047 0.00732047 0.00732047 0.00732047 0.00732047 0.00732047\n",
            " 0.00732047 0.00732047 0.00732047 0.00732047 0.00732047 0.00732047\n",
            " 0.00732047 0.00732047 0.00732047 0.00732047 0.00732047 0.00732047\n",
            " 0.00732047 0.00732047 0.00732047 0.00732047 0.00732047 0.00732047\n",
            " 0.00732047 0.00732047 0.00732047 0.00732047] [0 1 1 1 1 0 0 0 0 0 0 0 0 0 0 0 0 0 0 0 0 0 0 0 0 0 0 0 0 0 0 0 0 0 0 0 0\n",
            " 0 0 0 0 0 0 0 0 0 0 0 0 0 0 0 0 0 0 0 0 0 0 0 0 0 0 0 0 0 0 0 0 0 0 0 0 0\n",
            " 0 0 0 0 0 0 0 0 0 0 0 0 0 0 0 0 0 0 0 0 0 0 0 0 0 0]\n",
            "[0.00815879 0.02140545 0.00815879 0.01237549 0.00815879 0.00815879\n",
            " 0.00815879 0.00815879 0.00815879 0.00815879 0.02500274 0.01439698\n",
            " 0.00815879 0.01821771 0.00815879 0.00815879 0.00815879 0.02124474\n",
            " 0.0089277  0.00815879 0.02145726 0.00815879 0.00815879 0.01626414\n",
            " 0.00893999 0.00815879 0.00815879 0.00815879 0.00815879 0.00815879\n",
            " 0.00815879 0.00815879 0.00815879 0.00815879 0.01727811 0.00815879\n",
            " 0.00815879 0.00815879 0.03332911 0.00815879 0.02962762 0.00815879\n",
            " 0.01911183 0.00815879 0.00815879 0.00815879 0.00815879 0.03739298\n",
            " 0.00815879 0.00968982 0.00815879 0.00815879 0.00815879 0.00815879\n",
            " 0.00815879 0.00815879 0.00815879 0.00815879 0.00815879 0.00815879\n",
            " 0.00815879 0.00815879 0.00815879 0.00815879 0.00815879 0.00815879\n",
            " 0.00815879 0.00815879 0.00815879 0.00815879 0.00815879 0.00815879\n",
            " 0.00815879 0.00815879 0.00815879 0.00815879 0.00815879 0.00815879\n",
            " 0.00815879 0.00815879 0.00815879 0.00815879 0.00815879 0.00815879\n",
            " 0.00815879 0.00815879 0.00815879 0.00815879 0.00815879 0.00815879\n",
            " 0.00815879 0.00815879 0.00815879 0.00815879 0.00815879 0.00815879\n",
            " 0.00815879 0.00815879 0.00815879 0.00815879] [0 0 0 0 0 0 0 0 0 0 1 0 0 0 0 0 0 0 0 0 1 0 0 0 0 0 0 0 0 0 0 0 0 0 0 0 0\n",
            " 0 1 0 1 0 0 0 0 0 0 1 0 0 0 0 0 0 0 0 0 0 0 0 0 0 0 0 0 0 0 0 0 0 0 0 0 0\n",
            " 0 0 0 0 0 0 0 0 0 0 0 0 0 0 0 0 0 0 0 0 0 0 0 0 0 0]\n",
            "[0.05401456 0.01751726 0.09115937 0.01225903 0.0100941  0.00731156\n",
            " 0.00731156 0.01954621 0.05446441 0.0286146  0.00971951 0.00841302\n",
            " 0.01257412 0.0145708  0.00851925 0.02325375 0.00731156 0.00731156\n",
            " 0.00731156 0.00731156 0.00731156 0.00731156 0.00731156 0.00731156\n",
            " 0.01379735 0.00731156 0.00731156 0.00731156 0.00731156 0.00731156\n",
            " 0.00731156 0.00731156 0.00731156 0.00731156 0.00731156 0.00731156\n",
            " 0.00731156 0.00731156 0.00731156 0.00731156 0.00731156 0.00731156\n",
            " 0.00731156 0.00731156 0.00731156 0.00731156 0.00731156 0.00731156\n",
            " 0.00731156 0.00731156 0.00731156 0.00731156 0.00731156 0.00731156\n",
            " 0.00731156 0.00731156 0.00731156 0.00731156 0.00731156 0.00731156\n",
            " 0.00731156 0.00731156 0.00731156 0.00731156 0.00731156 0.00731156\n",
            " 0.00731156 0.00731156 0.00731156 0.00731156 0.00731156 0.00731156\n",
            " 0.00731156 0.00731156 0.00731156 0.00731156 0.00731156 0.00731156\n",
            " 0.00731156 0.00731156 0.00731156 0.00731156 0.00731156 0.00731156\n",
            " 0.00731156 0.00731156 0.00731156 0.00731156 0.00731156 0.00731156\n",
            " 0.00731156 0.00731156 0.00731156 0.00731156 0.00731156 0.00731156\n",
            " 0.00731156 0.00731156 0.00731156 0.00731156] [1 0 1 0 0 0 0 0 1 0 0 0 0 0 0 0 0 0 0 0 0 0 0 0 0 0 0 0 0 0 0 0 0 0 0 0 0\n",
            " 0 0 0 0 0 0 0 0 0 0 0 0 0 0 0 0 0 0 0 0 0 0 0 0 0 0 0 0 0 0 0 0 0 0 0 0 0\n",
            " 0 0 0 0 0 0 0 0 0 0 0 0 0 0 0 0 0 0 0 0 0 0 0 0 0 0]\n",
            "[0.00883453 0.07941481 0.0084244  0.02191376 0.01518206 0.04543442\n",
            " 0.02192944 0.0084244  0.00868849 0.0084244  0.0084244  0.0098394\n",
            " 0.01378269 0.0084244  0.0084244  0.0084244  0.0084244  0.0084244\n",
            " 0.0085583  0.0084244  0.0084244  0.01152822 0.0084244  0.0084244\n",
            " 0.0084244  0.0084244  0.0084244  0.0084244  0.0084244  0.0084244\n",
            " 0.0084244  0.0084244  0.00894961 0.0084244  0.0103846  0.0084244\n",
            " 0.0084244  0.0084244  0.0084244  0.0084244  0.0084244  0.0084244\n",
            " 0.01106166 0.0084244  0.0084244  0.0084244  0.0084244  0.0084244\n",
            " 0.0084244  0.0084244  0.0084244  0.0084244  0.0084244  0.0084244\n",
            " 0.0084244  0.0084244  0.0084244  0.0084244  0.0084244  0.0084244\n",
            " 0.0084244  0.0084244  0.0084244  0.0084244  0.0084244  0.0084244\n",
            " 0.0084244  0.0084244  0.0084244  0.0084244  0.0084244  0.0084244\n",
            " 0.0084244  0.0084244  0.0084244  0.0084244  0.0084244  0.0084244\n",
            " 0.0084244  0.0084244  0.0084244  0.0084244  0.0084244  0.0084244\n",
            " 0.0084244  0.0084244  0.0084244  0.0084244  0.0084244  0.0084244\n",
            " 0.0084244  0.0084244  0.0084244  0.0084244  0.0084244  0.0084244\n",
            " 0.0084244  0.0084244  0.0084244  0.0084244 ] [0 1 0 0 0 1 0 0 0 0 0 0 0 0 0 0 1 0 0 0 0 0 0 0 0 0 0 0 0 0 0 0 0 0 0 0 0\n",
            " 0 0 0 0 0 0 0 0 0 0 0 0 0 0 0 0 0 0 0 0 0 0 0 0 0 0 0 0 0 0 0 0 0 0 0 0 0\n",
            " 0 0 0 0 0 0 0 0 0 0 0 0 0 0 0 0 0 0 0 0 0 0 0 0 0 0]\n",
            "[0.00821459 0.02094299 0.01052683 0.01484549 0.00821459 0.00872537\n",
            " 0.01622725 0.00821459 0.00821459 0.00997889 0.01047867 0.04487509\n",
            " 0.00821459 0.01842803 0.00879658 0.00821459 0.00821459 0.00821459\n",
            " 0.04220732 0.00821459 0.00985174 0.00821459 0.00821459 0.00821459\n",
            " 0.00979165 0.00821459 0.00821459 0.01435778 0.00821459 0.01042686\n",
            " 0.00821459 0.00821459 0.00821459 0.00821459 0.01017207 0.00821459\n",
            " 0.00821459 0.00821459 0.00821459 0.00821459 0.00946558 0.00821459\n",
            " 0.00821459 0.00821459 0.00821459 0.00821459 0.00821459 0.00821459\n",
            " 0.00821459 0.05630504 0.00821459 0.00821459 0.00821459 0.00821459\n",
            " 0.00821459 0.00821459 0.00821459 0.00821459 0.00821459 0.00821459\n",
            " 0.00821459 0.00821459 0.00821459 0.00821459 0.00821459 0.00821459\n",
            " 0.00821459 0.00821459 0.00821459 0.00821459 0.00821459 0.00821459\n",
            " 0.00821459 0.00821459 0.00821459 0.00821459 0.00821459 0.00821459\n",
            " 0.00821459 0.00821459 0.00821459 0.00821459 0.00821459 0.00821459\n",
            " 0.00821459 0.00821459 0.00821459 0.00821459 0.00821459 0.00821459\n",
            " 0.00821459 0.00821459 0.00821459 0.00821459 0.00821459 0.00821459\n",
            " 0.00821459 0.00821459 0.00821459 0.00821459] [0 0 0 0 0 0 0 0 0 0 0 1 0 0 0 0 0 0 1 0 0 0 0 0 0 0 0 0 0 0 0 0 0 0 0 0 0\n",
            " 0 0 0 0 0 0 0 0 0 0 0 0 1 0 0 0 0 0 0 0 0 0 0 0 0 0 0 0 0 0 0 0 0 0 0 0 0\n",
            " 0 0 0 0 0 0 0 0 0 0 0 0 0 0 0 0 0 0 0 0 0 0 0 0 0 0]\n",
            "[0.00765326 0.02944184 0.00765326 0.05815955 0.06128314 0.00827733\n",
            " 0.00765326 0.00937711 0.05969171 0.00765326 0.05188049 0.00765326\n",
            " 0.00858175 0.010282   0.00765326 0.00765326 0.00765326 0.00765326\n",
            " 0.00765326 0.00765326 0.00765326 0.00765326 0.00765326 0.00765326\n",
            " 0.00765326 0.00765326 0.00765326 0.00765326 0.00765326 0.00765326\n",
            " 0.00765326 0.00765326 0.0118664  0.00765326 0.00765326 0.00765326\n",
            " 0.00765326 0.00765326 0.00921285 0.00765326 0.00765326 0.00765326\n",
            " 0.00845867 0.00765326 0.00765326 0.00765326 0.00765326 0.00765326\n",
            " 0.00765326 0.00765326 0.00765326 0.00765326 0.00765326 0.00765326\n",
            " 0.00765326 0.00765326 0.00765326 0.00765326 0.00765326 0.00765326\n",
            " 0.00765326 0.00765326 0.00765326 0.00765326 0.00765326 0.00765326\n",
            " 0.00765326 0.00765326 0.00765326 0.00765326 0.00765326 0.00765326\n",
            " 0.00765326 0.00765326 0.00765326 0.00765326 0.00765326 0.00765326\n",
            " 0.00765326 0.00765326 0.00765326 0.00765326 0.00765326 0.00765326\n",
            " 0.00765326 0.00765326 0.00765326 0.00765326 0.00765326 0.00765326\n",
            " 0.00765326 0.00765326 0.00765326 0.00765326 0.00765326 0.00765326\n",
            " 0.00765326 0.00765326 0.00765326 0.00765326] [0 0 0 1 1 0 0 0 1 0 1 0 0 0 0 0 0 0 0 0 0 0 0 0 0 0 0 0 0 0 0 0 0 0 0 0 0\n",
            " 0 0 0 0 0 0 0 0 0 0 0 0 0 0 0 0 0 0 0 0 0 0 0 0 0 0 0 0 0 0 0 0 0 0 0 0 0\n",
            " 0 0 0 0 0 0 0 0 0 0 0 0 0 0 0 0 0 0 0 0 0 0 0 0 0 0]\n",
            "[0.00818951 0.0655105  0.00818951 0.01323718 0.00921196 0.00818951\n",
            " 0.00818951 0.00832652 0.05818725 0.00818951 0.01592667 0.01004439\n",
            " 0.01730987 0.00818951 0.00818951 0.00818951 0.00818951 0.00818951\n",
            " 0.00818951 0.00818951 0.00818951 0.00818951 0.00818951 0.00818951\n",
            " 0.00818951 0.00818951 0.00818951 0.00818951 0.00818951 0.00818951\n",
            " 0.00818951 0.00818951 0.04309518 0.00818951 0.00818951 0.00818951\n",
            " 0.00818951 0.00818951 0.01828757 0.00818951 0.00818951 0.00818951\n",
            " 0.01199609 0.00818951 0.00818951 0.00818951 0.00818951 0.00818951\n",
            " 0.00818951 0.00818951 0.00818951 0.00818951 0.00818951 0.00818951\n",
            " 0.00818951 0.00818951 0.00818951 0.00818951 0.00818951 0.00818951\n",
            " 0.00818951 0.00818951 0.00818951 0.00818951 0.00818951 0.00818951\n",
            " 0.00818951 0.00818951 0.00818951 0.00818951 0.00818951 0.00818951\n",
            " 0.00818951 0.00818951 0.00818951 0.00818951 0.00818951 0.00818951\n",
            " 0.00818951 0.00818951 0.00818951 0.00818951 0.00818951 0.00818951\n",
            " 0.00818951 0.00818951 0.00818951 0.00818951 0.00818951 0.00818951\n",
            " 0.00818951 0.00818951 0.00818951 0.00818951 0.00818951 0.00818951\n",
            " 0.00818951 0.00818951 0.00818951 0.00818951] [0 1 0 0 0 0 0 0 1 0 0 0 0 0 0 0 0 0 0 0 0 0 0 0 0 0 0 0 0 0 0 0 1 0 0 0 0\n",
            " 0 0 0 0 0 0 0 0 0 0 0 0 0 0 0 0 0 0 0 0 0 0 0 0 0 0 0 0 0 0 0 0 0 0 0 0 0\n",
            " 0 0 0 0 0 0 0 0 0 0 0 0 0 0 0 0 0 0 0 0 0 0 0 0 0 0]\n",
            "[0.01310429 0.0302471  0.01175444 0.07765479 0.05817997 0.01109106\n",
            " 0.04442011 0.00792064 0.00792064 0.00792064 0.00910287 0.00792064\n",
            " 0.00792064 0.00792064 0.00792064 0.00792064 0.00792064 0.00792064\n",
            " 0.00852928 0.00792064 0.00792064 0.02195036 0.00902926 0.00792064\n",
            " 0.00792064 0.00792064 0.00792064 0.00792064 0.00792064 0.00792064\n",
            " 0.00792064 0.00792064 0.00792064 0.00792064 0.00792064 0.00792064\n",
            " 0.00792064 0.00792064 0.00792064 0.00792064 0.00792064 0.00792064\n",
            " 0.00792064 0.00792064 0.00792064 0.00792064 0.00792064 0.00792064\n",
            " 0.00792064 0.00792064 0.00792064 0.00792064 0.00792064 0.00792064\n",
            " 0.00792064 0.00792064 0.00792064 0.00792064 0.00792064 0.00792064\n",
            " 0.00792064 0.00792064 0.00792064 0.00792064 0.00792064 0.00792064\n",
            " 0.00792064 0.00792064 0.00792064 0.00792064 0.00792064 0.00792064\n",
            " 0.00792064 0.00792064 0.00792064 0.00792064 0.00792064 0.00792064\n",
            " 0.00792064 0.00792064 0.00792064 0.00792064 0.00792064 0.00792064\n",
            " 0.00792064 0.00792064 0.00792064 0.00792064 0.00792064 0.00792064\n",
            " 0.00792064 0.00792064 0.00792064 0.00792064 0.00792064 0.00792064\n",
            " 0.00792064 0.00792064 0.00792064 0.00792064] [0 0 0 1 1 0 1 0 0 0 0 0 0 0 0 0 0 0 0 0 0 0 0 0 0 0 0 0 0 0 0 0 0 0 0 0 0\n",
            " 0 0 0 0 0 0 0 0 0 0 0 0 0 0 0 0 0 0 0 0 0 0 0 0 0 0 0 0 0 0 0 0 0 0 0 0 0\n",
            " 0 0 0 0 0 0 0 0 0 0 0 0 0 0 0 0 0 0 0 0 0 0 0 0 0 0]\n",
            "[0.00758172 0.07422021 0.01627919 0.0593488  0.06279596 0.04295174\n",
            " 0.02125004 0.00758172 0.01320075 0.00758172 0.00864928 0.00758172\n",
            " 0.00765827 0.00758172 0.00758172 0.00758172 0.00758172 0.00758172\n",
            " 0.0102076  0.00758172 0.00758172 0.00831731 0.00758172 0.00758172\n",
            " 0.00758172 0.00758172 0.00758172 0.00758172 0.00758172 0.00758172\n",
            " 0.00758172 0.00758172 0.00758172 0.00758172 0.00758172 0.00758172\n",
            " 0.00758172 0.00758172 0.00758172 0.00758172 0.00758172 0.00758172\n",
            " 0.00792908 0.00758172 0.00758172 0.00758172 0.00758172 0.00758172\n",
            " 0.00758172 0.00758172 0.00758172 0.00758172 0.00758172 0.00758172\n",
            " 0.00758172 0.00758172 0.00758172 0.00758172 0.00758172 0.00758172\n",
            " 0.00758172 0.00758172 0.00758172 0.00758172 0.00758172 0.00758172\n",
            " 0.00758172 0.00758172 0.00758172 0.00758172 0.00758172 0.00758172\n",
            " 0.00758172 0.00758172 0.00758172 0.00758172 0.00758172 0.00758172\n",
            " 0.00758172 0.00758172 0.00758172 0.00758172 0.00758172 0.00758172\n",
            " 0.00758172 0.00758172 0.00758172 0.00758172 0.00758172 0.00758172\n",
            " 0.00758172 0.00758172 0.00758172 0.00758172 0.00758172 0.00758172\n",
            " 0.00758172 0.00758172 0.00758172 0.00758172] [0 1 0 1 1 1 0 0 0 0 0 0 0 0 0 0 0 0 0 0 0 0 0 0 0 0 0 0 0 0 0 0 0 0 0 0 0\n",
            " 0 0 0 0 0 0 0 0 0 0 0 0 0 0 0 0 0 0 0 0 0 0 0 0 0 0 0 0 0 0 0 0 0 0 0 0 0\n",
            " 0 0 0 0 0 0 0 0 0 0 0 0 0 0 0 0 0 0 0 0 0 0 0 0 0 0]\n",
            "[0.00761484 0.01266294 0.04737273 0.01631599 0.02139222 0.02583756\n",
            " 0.0149915  0.02171706 0.0106361  0.01592457 0.00761484 0.01449713\n",
            " 0.00761484 0.03829972 0.00761484 0.00761484 0.00761484 0.00761484\n",
            " 0.01301803 0.00761484 0.00761484 0.01138836 0.02272718 0.00761484\n",
            " 0.00774784 0.00761484 0.00761484 0.00988174 0.00761484 0.01448988\n",
            " 0.00761484 0.00761484 0.00761484 0.00761484 0.00761484 0.00761484\n",
            " 0.00761484 0.00761484 0.00761484 0.00761484 0.00761484 0.00761484\n",
            " 0.00994611 0.00761484 0.00761484 0.01821906 0.00761484 0.00761484\n",
            " 0.00761484 0.04374738 0.00761484 0.00761484 0.00761484 0.00761484\n",
            " 0.00761484 0.00761484 0.00761484 0.00761484 0.00761484 0.00761484\n",
            " 0.00761484 0.00761484 0.00761484 0.00761484 0.00761484 0.00761484\n",
            " 0.00761484 0.00761484 0.00761484 0.00761484 0.00761484 0.00761484\n",
            " 0.00761484 0.00761484 0.00761484 0.00761484 0.00761484 0.00761484\n",
            " 0.00761484 0.00761484 0.00761484 0.00761484 0.00761484 0.00761484\n",
            " 0.00761484 0.00761484 0.00761484 0.00761484 0.00761484 0.00761484\n",
            " 0.00761484 0.00761484 0.00761484 0.00761484 0.00761484 0.00761484\n",
            " 0.00761484 0.00761484 0.00761484 0.00761484] [0 0 1 0 0 0 0 0 0 0 0 0 0 1 0 0 0 0 0 0 0 0 0 0 0 0 0 0 0 0 0 0 0 0 0 0 0\n",
            " 0 0 0 0 0 0 0 0 0 0 0 0 1 0 0 0 0 0 0 0 0 0 0 0 0 0 0 0 0 0 0 0 0 0 0 0 0\n",
            " 0 0 0 0 0 0 0 0 0 0 0 0 0 0 0 0 0 0 0 0 0 0 0 0 0 0]\n",
            "[0.06025061 0.02512507 0.05742536 0.02170356 0.01311383 0.00753711\n",
            " 0.01144411 0.0151753  0.00933052 0.01863974 0.00753711 0.00753711\n",
            " 0.04823769 0.00843265 0.0084302  0.04323607 0.00753711 0.00753711\n",
            " 0.00753711 0.00753711 0.00753711 0.00753711 0.00753711 0.00753711\n",
            " 0.00963257 0.00753711 0.00753711 0.00753711 0.00753711 0.00753711\n",
            " 0.00753711 0.00916798 0.00753711 0.00753711 0.00753711 0.00753711\n",
            " 0.00753711 0.00753711 0.00753711 0.00753711 0.00753711 0.00753711\n",
            " 0.00753711 0.00753711 0.00753711 0.00753711 0.00753711 0.00753711\n",
            " 0.00753711 0.00753711 0.00753711 0.00753711 0.00753711 0.00753711\n",
            " 0.00753711 0.00753711 0.00753711 0.00753711 0.00753711 0.00753711\n",
            " 0.00753711 0.00753711 0.00753711 0.00753711 0.00753711 0.00753711\n",
            " 0.00753711 0.00753711 0.00753711 0.00753711 0.00753711 0.00753711\n",
            " 0.00753711 0.00753711 0.00753711 0.00753711 0.00753711 0.00753711\n",
            " 0.00753711 0.00753711 0.00753711 0.00753711 0.00753711 0.00753711\n",
            " 0.00753711 0.00753711 0.00753711 0.00753711 0.00753711 0.00753711\n",
            " 0.00753711 0.00753711 0.00753711 0.00753711 0.00753711 0.00753711\n",
            " 0.00753711 0.00753711 0.00753711 0.00753711] [1 0 1 0 0 0 0 0 0 0 0 0 1 0 0 1 0 0 0 0 0 0 0 0 0 0 0 0 0 0 0 0 0 0 0 0 0\n",
            " 0 0 0 0 0 0 0 0 0 0 0 0 0 0 0 0 0 0 0 0 0 0 0 0 0 0 0 0 0 0 0 0 0 0 0 0 0\n",
            " 0 0 0 0 0 0 0 0 0 0 0 0 0 0 0 0 0 0 0 0 0 0 0 0 0 0]\n",
            "[0.06134261 0.01620696 0.03237922 0.03628276 0.02035507 0.00799439\n",
            " 0.00978726 0.01096172 0.00799439 0.0346049  0.00799439 0.00799439\n",
            " 0.02075241 0.01311208 0.0091562  0.02062338 0.00799439 0.00799439\n",
            " 0.00799439 0.00799439 0.00799439 0.00977402 0.00799439 0.00799439\n",
            " 0.00832911 0.00799439 0.00799439 0.00799439 0.00799439 0.00925125\n",
            " 0.00799439 0.01497126 0.00799439 0.00799439 0.00799439 0.00799439\n",
            " 0.00799439 0.00799439 0.00799439 0.00799439 0.00799439 0.00799439\n",
            " 0.00857515 0.00799439 0.00799439 0.00799439 0.00799439 0.00799439\n",
            " 0.00799439 0.00799439 0.00799439 0.00799439 0.00799439 0.00799439\n",
            " 0.00799439 0.00799439 0.00799439 0.00799439 0.00799439 0.00799439\n",
            " 0.00799439 0.00799439 0.00799439 0.00799439 0.00799439 0.00799439\n",
            " 0.00799439 0.00799439 0.00799439 0.00799439 0.00799439 0.00799439\n",
            " 0.00799439 0.00799439 0.00799439 0.00799439 0.00799439 0.00799439\n",
            " 0.00799439 0.00799439 0.00799439 0.00799439 0.00799439 0.00799439\n",
            " 0.00799439 0.00799439 0.00799439 0.00799439 0.00799439 0.00799439\n",
            " 0.00799439 0.00799439 0.00799439 0.00799439 0.00799439 0.00799439\n",
            " 0.00799439 0.00799439 0.00799439 0.00799439] [1 0 1 1 0 0 0 0 0 1 0 0 0 0 0 0 0 0 0 0 0 0 0 0 0 0 0 0 0 0 0 0 0 0 0 0 0\n",
            " 0 0 0 0 0 0 0 0 0 0 0 0 0 0 0 0 0 0 0 0 0 0 0 0 0 0 0 0 0 0 0 0 0 0 0 0 0\n",
            " 0 0 0 0 0 0 0 0 0 0 0 0 0 0 0 0 0 0 0 0 0 0 0 0 0 0]\n",
            "[0.0241479  0.05636686 0.05841544 0.02091807 0.01917102 0.00846759\n",
            " 0.04524991 0.00804225 0.00773443 0.05154431 0.00985034 0.00764275\n",
            " 0.00764275 0.00764275 0.00764275 0.00909153 0.00764275 0.00764275\n",
            " 0.01457588 0.00764275 0.00764275 0.00914761 0.00764275 0.00764275\n",
            " 0.00764275 0.00764275 0.00764275 0.00764275 0.00764275 0.00764275\n",
            " 0.00764275 0.00764275 0.00764275 0.00764275 0.00764275 0.00764275\n",
            " 0.00764275 0.00764275 0.00764275 0.00764275 0.00764275 0.00764275\n",
            " 0.00764275 0.00764275 0.00764275 0.00764275 0.00764275 0.00764275\n",
            " 0.00764275 0.00764275 0.00764275 0.00764275 0.00764275 0.00764275\n",
            " 0.00764275 0.00764275 0.00764275 0.00764275 0.00764275 0.00764275\n",
            " 0.00764275 0.00764275 0.00764275 0.00764275 0.00764275 0.00764275\n",
            " 0.00764275 0.00764275 0.00764275 0.00764275 0.00764275 0.00764275\n",
            " 0.00764275 0.00764275 0.00764275 0.00764275 0.00764275 0.00764275\n",
            " 0.00764275 0.00764275 0.00764275 0.00764275 0.00764275 0.00764275\n",
            " 0.00764275 0.00764275 0.00764275 0.00764275 0.00764275 0.00764275\n",
            " 0.00764275 0.00764275 0.00764275 0.00764275 0.00764275 0.00764275\n",
            " 0.00764275 0.00764275 0.00764275 0.00764275] [0 1 1 0 0 0 1 0 0 1 0 0 0 0 0 0 0 0 0 0 0 0 0 0 0 0 0 0 0 0 0 0 0 0 0 0 0\n",
            " 0 0 0 0 0 0 0 0 0 0 0 0 0 0 0 0 0 0 0 0 0 0 0 0 0 0 0 0 0 0 0 0 0 0 0 0 0\n",
            " 0 0 0 0 0 0 0 0 0 0 0 0 0 0 0 0 0 0 0 0 0 0 0 0 0 0]\n",
            "[0.00767204 0.06686655 0.01688715 0.03326593 0.06069587 0.05665499\n",
            " 0.0125814  0.01179468 0.02314021 0.00767204 0.01176924 0.01016046\n",
            " 0.01139575 0.00906117 0.00767204 0.00767204 0.00767204 0.00767204\n",
            " 0.00767204 0.00767204 0.00767204 0.00767204 0.00825918 0.00767204\n",
            " 0.00767204 0.00767204 0.00767204 0.00767204 0.00767204 0.00767204\n",
            " 0.00767204 0.00767204 0.00767204 0.00767204 0.00767204 0.00767204\n",
            " 0.00767204 0.00767204 0.00767204 0.00767204 0.00767204 0.00767204\n",
            " 0.00767204 0.00767204 0.00767204 0.00767204 0.00767204 0.00767204\n",
            " 0.00767204 0.00767204 0.00767204 0.00767204 0.00767204 0.00767204\n",
            " 0.00767204 0.00767204 0.00767204 0.00767204 0.00767204 0.00767204\n",
            " 0.00767204 0.00767204 0.00767204 0.00767204 0.00767204 0.00767204\n",
            " 0.00767204 0.00767204 0.00767204 0.00767204 0.00767204 0.00767204\n",
            " 0.00767204 0.00767204 0.00767204 0.00767204 0.00767204 0.00767204\n",
            " 0.00767204 0.00767204 0.00767204 0.00767204 0.00767204 0.00767204\n",
            " 0.00767204 0.00767204 0.00767204 0.00767204 0.00767204 0.00767204\n",
            " 0.00767204 0.00767204 0.00767204 0.00767204 0.00767204 0.00767204\n",
            " 0.00767204 0.00767204 0.00767204 0.00767204] [0 1 0 0 1 1 0 0 0 0 0 0 0 0 0 0 0 0 0 0 0 0 0 0 0 0 0 0 0 0 0 0 0 0 0 0 0\n",
            " 0 0 0 0 0 0 0 0 0 0 0 0 0 0 0 0 0 0 0 0 0 0 0 0 0 0 0 0 0 0 0 0 0 0 0 0 0\n",
            " 0 0 0 0 0 0 0 0 0 0 0 0 0 0 0 0 0 0 0 0 0 0 0 0 0 0]\n",
            "[0.00814268 0.04107292 0.00814268 0.00814268 0.00814268 0.00827349\n",
            " 0.00814268 0.00814268 0.01065576 0.00814268 0.01839667 0.00905697\n",
            " 0.00814268 0.01644986 0.01084352 0.00814268 0.00814268 0.02521809\n",
            " 0.00814268 0.00814268 0.01711518 0.00958727 0.00814268 0.00834184\n",
            " 0.00842335 0.00814268 0.00814268 0.00814268 0.00814268 0.00814268\n",
            " 0.00814268 0.00814268 0.00926846 0.00814268 0.03875093 0.00814268\n",
            " 0.00814268 0.00814268 0.04342568 0.00814268 0.0141468  0.00814268\n",
            " 0.02252214 0.00814268 0.00814268 0.00814268 0.00814268 0.02075139\n",
            " 0.00814268 0.00814268 0.00814268 0.00814268 0.00814268 0.00814268\n",
            " 0.00814268 0.00814268 0.00814268 0.00814268 0.00814268 0.00814268\n",
            " 0.00814268 0.00814268 0.00814268 0.00814268 0.00814268 0.00814268\n",
            " 0.00814268 0.00814268 0.00814268 0.00814268 0.00814268 0.00814268\n",
            " 0.00814268 0.00814268 0.00814268 0.00814268 0.00814268 0.00814268\n",
            " 0.00814268 0.00814268 0.00814268 0.00814268 0.00814268 0.00814268\n",
            " 0.00814268 0.00814268 0.00814268 0.00814268 0.00814268 0.00814268\n",
            " 0.00814268 0.00814268 0.00814268 0.00814268 0.00814268 0.00814268\n",
            " 0.00814268 0.00814268 0.00814268 0.00814268] [0 1 0 0 0 0 0 0 0 0 0 0 0 0 0 0 0 1 0 0 0 0 0 0 0 0 0 0 0 0 0 0 0 0 1 0 0\n",
            " 0 1 0 0 0 1 0 0 0 0 0 0 0 0 0 0 0 0 0 0 0 0 0 0 0 0 0 0 0 0 0 0 0 0 0 0 0\n",
            " 0 0 0 0 0 0 0 0 0 0 0 0 0 0 0 0 0 0 0 0 0 0 0 0 0 0]\n",
            "[0.00778436 0.0634157  0.00778436 0.01794035 0.00932328 0.01134486\n",
            " 0.00778436 0.00786897 0.01247617 0.00778436 0.04127808 0.05406334\n",
            " 0.00790876 0.04753796 0.00778436 0.00778436 0.00778436 0.01069377\n",
            " 0.00934964 0.00778436 0.00778436 0.00778436 0.00778436 0.01167873\n",
            " 0.00778436 0.00778436 0.00778436 0.00778436 0.00778436 0.00778436\n",
            " 0.00778436 0.00778436 0.00960667 0.00778436 0.00994109 0.00778436\n",
            " 0.00778436 0.00778436 0.00833761 0.00778436 0.00778436 0.00778436\n",
            " 0.00778436 0.00778436 0.00778436 0.01082534 0.00778436 0.01239413\n",
            " 0.00778436 0.01348201 0.00778436 0.00778436 0.00778436 0.00778436\n",
            " 0.00778436 0.00778436 0.00778436 0.00778436 0.00778436 0.00778436\n",
            " 0.00778436 0.00778436 0.00778436 0.00778436 0.00778436 0.00778436\n",
            " 0.00778436 0.00778436 0.00778436 0.00778436 0.00778436 0.00778436\n",
            " 0.00778436 0.00778436 0.00778436 0.00778436 0.00778436 0.00778436\n",
            " 0.00778436 0.00778436 0.00778436 0.00778436 0.00778436 0.00778436\n",
            " 0.00778436 0.00778436 0.00778436 0.00778436 0.00778436 0.00778436\n",
            " 0.00778436 0.00778436 0.00778436 0.00778436 0.00778436 0.00778436\n",
            " 0.00778436 0.00778436 0.00778436 0.00778436] [0 1 0 0 0 0 0 0 0 0 1 1 0 1 0 0 0 0 0 0 0 0 0 0 0 0 0 0 0 0 0 0 0 0 0 0 0\n",
            " 0 0 0 0 0 0 0 0 0 0 0 0 0 0 0 0 0 0 0 0 0 0 0 0 0 0 0 0 0 0 0 0 0 0 0 0 0\n",
            " 0 0 0 0 0 0 0 0 0 0 0 0 0 0 0 0 0 0 0 0 0 0 0 0 0 0]\n",
            "[0.01525458 0.05674868 0.04763429 0.04738217 0.01100818 0.00758757\n",
            " 0.01048624 0.00877702 0.0096873  0.01084224 0.00756926 0.00756926\n",
            " 0.03504617 0.00756926 0.03292527 0.03669659 0.00756926 0.00756926\n",
            " 0.00756926 0.00756926 0.00758766 0.01475194 0.00756926 0.00756926\n",
            " 0.01176633 0.00756926 0.00756926 0.00756926 0.00756926 0.00756926\n",
            " 0.00756926 0.00756926 0.00756926 0.00756926 0.00756926 0.00756926\n",
            " 0.00756926 0.00756926 0.00756926 0.00756926 0.00756926 0.00756926\n",
            " 0.00756926 0.00756926 0.00756926 0.00756926 0.00756926 0.00756926\n",
            " 0.00756926 0.00756926 0.00756926 0.00756926 0.00756926 0.00756926\n",
            " 0.00756926 0.00756926 0.00756926 0.00756926 0.00756926 0.00756926\n",
            " 0.00756926 0.00756926 0.00756926 0.00756926 0.00756926 0.00756926\n",
            " 0.00756926 0.00756926 0.00756926 0.00756926 0.00756926 0.00756926\n",
            " 0.00756926 0.00756926 0.00756926 0.00756926 0.00756926 0.00756926\n",
            " 0.00756926 0.00756926 0.00756926 0.00756926 0.00756926 0.00756926\n",
            " 0.00756926 0.00756926 0.00756926 0.00756926 0.00756926 0.00756926\n",
            " 0.00756926 0.00756926 0.00756926 0.00756926 0.00756926 0.00756926\n",
            " 0.00756926 0.00756926 0.00756926 0.00756926] [0 1 1 1 0 0 0 0 0 0 0 0 1 0 1 1 0 0 0 0 0 0 0 0 0 0 0 0 0 0 0 0 0 0 0 0 0\n",
            " 0 0 0 0 0 0 0 0 0 0 0 0 0 0 0 0 0 0 0 0 0 0 0 0 0 0 0 0 0 0 0 0 0 0 0 0 0\n",
            " 0 0 0 0 0 0 0 0 0 0 0 0 0 0 0 0 0 0 0 0 0 0 0 0 0 0]\n",
            "[0.01364865 0.00847327 0.01299293 0.02824385 0.0372432  0.00800411\n",
            " 0.01626989 0.00800411 0.00800411 0.05540432 0.00800411 0.00800411\n",
            " 0.00800411 0.01815869 0.00800411 0.00800411 0.00800411 0.00800411\n",
            " 0.01556346 0.00800411 0.00800411 0.0103342  0.01038277 0.00800411\n",
            " 0.00800411 0.00800411 0.00800411 0.00800411 0.00800411 0.05361985\n",
            " 0.00800411 0.00947858 0.00800411 0.00800411 0.00800411 0.00800411\n",
            " 0.00800411 0.00800411 0.00800411 0.00800411 0.00800411 0.00800411\n",
            " 0.0184262  0.00800411 0.00800411 0.00839898 0.00800411 0.00800411\n",
            " 0.00800411 0.01101611 0.00800411 0.00800411 0.00800411 0.00800411\n",
            " 0.00800411 0.00800411 0.00800411 0.00800411 0.00800411 0.00800411\n",
            " 0.00800411 0.00800411 0.00800411 0.00800411 0.00800411 0.00800411\n",
            " 0.00800411 0.00800411 0.00800411 0.00800411 0.00800411 0.00800411\n",
            " 0.00800411 0.00800411 0.00800411 0.00800411 0.00800411 0.00800411\n",
            " 0.00800411 0.00800411 0.00800411 0.00800411 0.00800411 0.00800411\n",
            " 0.00800411 0.00800411 0.00800411 0.00800411 0.00800411 0.00800411\n",
            " 0.00800411 0.00800411 0.00800411 0.00800411 0.00800411 0.00800411\n",
            " 0.00800411 0.00800411 0.00800411 0.00800411] [0 0 0 0 1 0 0 0 0 1 0 0 0 0 0 0 0 0 0 0 0 0 0 0 0 0 0 0 0 1 0 0 0 0 0 0 0\n",
            " 0 0 0 0 0 0 0 0 0 1 0 0 0 0 0 0 0 0 0 0 0 0 0 0 0 0 0 0 0 0 0 0 0 0 0 0 0\n",
            " 0 0 0 0 0 0 0 0 0 0 0 0 0 0 0 0 0 0 0 0 0 0 0 0 0 0]\n",
            "[0.00801757 0.03555863 0.00881041 0.00801757 0.00801757 0.00801757\n",
            " 0.00801757 0.00801757 0.03928643 0.00801757 0.00801757 0.00801757\n",
            " 0.04589157 0.00801757 0.04361245 0.01121101 0.00801757 0.00801757\n",
            " 0.00801757 0.00801757 0.01100353 0.01526302 0.00801757 0.00801757\n",
            " 0.02158724 0.00801757 0.00801757 0.00801757 0.00801757 0.00801757\n",
            " 0.00801757 0.00801757 0.00961701 0.00801757 0.01263139 0.00801757\n",
            " 0.00801757 0.00801757 0.03996669 0.00801757 0.00801757 0.00801757\n",
            " 0.00801757 0.00801757 0.00801757 0.0080319  0.00801757 0.00801757\n",
            " 0.00801757 0.00801757 0.00801757 0.00801757 0.00801757 0.00801757\n",
            " 0.00801757 0.00801757 0.00801757 0.00801757 0.00801757 0.00801757\n",
            " 0.00801757 0.00801757 0.00801757 0.00801757 0.00801757 0.00801757\n",
            " 0.00801757 0.00801757 0.00801757 0.00801757 0.00801757 0.00801757\n",
            " 0.00801757 0.00801757 0.00801757 0.00801757 0.00801757 0.00801757\n",
            " 0.00801757 0.00801757 0.00801757 0.00801757 0.00801757 0.00801757\n",
            " 0.00801757 0.00801757 0.00801757 0.00801757 0.00801757 0.00801757\n",
            " 0.00801757 0.00801757 0.00801757 0.00801757 0.00801757 0.00801757\n",
            " 0.00801757 0.00801757 0.00801757 0.00801757] [0 0 0 0 0 0 0 0 1 0 0 0 1 0 1 0 0 0 0 0 0 0 0 0 0 0 0 0 0 0 0 0 0 0 0 0 0\n",
            " 0 1 0 0 0 0 0 0 0 0 0 0 0 0 0 0 0 0 0 0 0 0 0 0 0 0 0 0 0 0 0 0 0 0 0 0 0\n",
            " 0 0 0 0 0 0 0 0 0 0 0 0 0 0 0 0 0 0 0 0 0 0 0 0 0 0]\n",
            "[0.05309353 0.01480455 0.00810274 0.05602067 0.00850011 0.00810274\n",
            " 0.01387275 0.00810274 0.00810274 0.0140789  0.00810274 0.00810274\n",
            " 0.01367838 0.0100878  0.01464717 0.01056949 0.00810274 0.00810274\n",
            " 0.00810274 0.00810274 0.010393   0.01584262 0.00828466 0.00810274\n",
            " 0.01021478 0.00810274 0.00810274 0.00810274 0.00810274 0.0172279\n",
            " 0.00810274 0.04313177 0.00810274 0.00810274 0.00810274 0.00810274\n",
            " 0.00810274 0.00810274 0.00810274 0.00810274 0.00810274 0.00810274\n",
            " 0.01302419 0.00810274 0.00810274 0.00810274 0.00810274 0.00810274\n",
            " 0.00810274 0.00810274 0.00810274 0.00810274 0.00810274 0.00810274\n",
            " 0.00810274 0.00810274 0.00810274 0.00810274 0.00810274 0.00810274\n",
            " 0.00810274 0.00810274 0.00810274 0.00810274 0.00810274 0.00810274\n",
            " 0.00810274 0.00810274 0.00810274 0.00810274 0.00810274 0.00810274\n",
            " 0.00810274 0.00810274 0.00810274 0.00810274 0.00810274 0.00810274\n",
            " 0.00810274 0.00810274 0.00810274 0.00810274 0.00810274 0.00810274\n",
            " 0.00810274 0.00810274 0.00810274 0.00810274 0.00810274 0.00810274\n",
            " 0.00810274 0.00810274 0.00810274 0.00810274 0.00810274 0.00810274\n",
            " 0.00810274 0.00810274 0.00810274 0.00810274] [1 0 0 1 0 0 0 0 0 0 0 0 0 0 0 0 0 0 0 0 0 0 0 0 0 0 0 0 0 0 0 1 0 0 0 1 0\n",
            " 0 0 0 0 0 0 0 0 0 0 0 0 0 0 0 0 0 0 0 0 0 0 0 0 0 0 0 0 0 0 0 0 0 0 0 0 0\n",
            " 0 0 0 0 0 0 0 0 0 0 0 0 0 0 0 0 0 0 0 0 0 0 0 0 0 0]\n",
            "[0.00793664 0.10123495 0.01037307 0.02938771 0.01778799 0.06541813\n",
            " 0.01591103 0.00768214 0.01192215 0.00768214 0.01105211 0.01440824\n",
            " 0.02551898 0.01071207 0.00768214 0.00768214 0.00768214 0.00768214\n",
            " 0.00768214 0.00768214 0.00768214 0.00947835 0.00768214 0.00768214\n",
            " 0.00768214 0.00768214 0.00768214 0.00768214 0.00768214 0.00768214\n",
            " 0.00768214 0.00768214 0.00819485 0.00768214 0.00768214 0.00768214\n",
            " 0.00768214 0.00768214 0.00768214 0.00768214 0.00768214 0.00768214\n",
            " 0.00768214 0.00768214 0.00768214 0.00768214 0.00768214 0.00768214\n",
            " 0.00768214 0.00768214 0.00768214 0.00768214 0.00768214 0.00768214\n",
            " 0.00768214 0.00768214 0.00768214 0.00768214 0.00768214 0.00768214\n",
            " 0.00768214 0.00768214 0.00768214 0.00768214 0.00768214 0.00768214\n",
            " 0.00768214 0.00768214 0.00768214 0.00768214 0.00768214 0.00768214\n",
            " 0.00768214 0.00768214 0.00768214 0.00768214 0.00768214 0.00768214\n",
            " 0.00768214 0.00768214 0.00768214 0.00768214 0.00768214 0.00768214\n",
            " 0.00768214 0.00768214 0.00768214 0.00768214 0.00768214 0.00768214\n",
            " 0.00768214 0.00768214 0.00768214 0.00768214 0.00768214 0.00768214\n",
            " 0.00768214 0.00768214 0.00768214 0.00768214] [0 1 0 1 0 1 0 0 0 0 0 0 0 0 0 0 0 0 0 0 0 0 0 0 0 0 0 0 0 0 0 0 0 0 0 0 0\n",
            " 0 0 0 0 0 0 0 0 0 0 0 0 0 0 0 0 0 0 0 0 0 0 0 0 0 0 0 0 0 0 0 0 0 0 0 0 0\n",
            " 0 0 0 0 0 0 0 0 0 0 0 0 0 0 0 0 0 0 0 0 0 0 0 0 0 0]\n",
            "[0.02131114 0.01312324 0.0522972  0.04385186 0.0480181  0.00898315\n",
            " 0.01318188 0.00973236 0.00742893 0.03463418 0.00742893 0.00742893\n",
            " 0.00742893 0.02001968 0.00742893 0.01373923 0.00742893 0.00742893\n",
            " 0.00742893 0.00742893 0.00742893 0.01938075 0.01473015 0.00742893\n",
            " 0.00977649 0.00742893 0.00742893 0.00742893 0.00742893 0.01389284\n",
            " 0.00742893 0.00887259 0.00742893 0.00742893 0.00742893 0.00742893\n",
            " 0.00742893 0.00742893 0.00742893 0.00742893 0.00742893 0.00742893\n",
            " 0.03707163 0.00742893 0.00742893 0.00821118 0.00742893 0.00742893\n",
            " 0.00742893 0.00742893 0.00742893 0.00742893 0.00742893 0.00742893\n",
            " 0.00742893 0.00742893 0.00742893 0.00742893 0.00742893 0.00742893\n",
            " 0.00742893 0.00742893 0.00742893 0.00742893 0.00742893 0.00742893\n",
            " 0.00742893 0.00742893 0.00742893 0.00742893 0.00742893 0.00742893\n",
            " 0.00742893 0.00742893 0.00742893 0.00742893 0.00742893 0.00742893\n",
            " 0.00742893 0.00742893 0.00742893 0.00742893 0.00742893 0.00742893\n",
            " 0.00742893 0.00742893 0.00742893 0.00742893 0.00742893 0.00742893\n",
            " 0.00742893 0.00742893 0.00742893 0.00742893 0.00742893 0.00742893\n",
            " 0.00742893 0.00742893 0.00742893 0.00742893] [0 0 1 1 1 0 0 0 0 1 0 0 0 1 0 0 0 0 0 0 0 0 0 0 0 0 0 0 0 0 0 0 0 0 0 0 0\n",
            " 0 0 0 0 0 1 0 0 0 0 0 0 0 0 0 0 0 0 0 0 0 0 0 0 0 0 0 0 0 0 0 0 0 0 0 0 0\n",
            " 0 0 0 0 0 0 0 0 0 0 0 0 0 0 0 0 0 0 0 0 0 0 0 0 0 0]\n",
            "[0.01136666 0.05880312 0.05568201 0.00877892 0.01115737 0.01048659\n",
            " 0.00716073 0.05387717 0.07627114 0.01192974 0.01002789 0.01674808\n",
            " 0.02744044 0.00797978 0.00809988 0.02041278 0.00716073 0.00716073\n",
            " 0.00716073 0.00716073 0.00716073 0.00716073 0.00716073 0.00716073\n",
            " 0.00758442 0.00716073 0.00716073 0.00716073 0.00716073 0.00716073\n",
            " 0.00716073 0.00716073 0.00716073 0.00716073 0.00716073 0.00716073\n",
            " 0.00716073 0.00716073 0.00716073 0.00716073 0.00716073 0.00716073\n",
            " 0.00716073 0.00716073 0.00716073 0.00901368 0.00716073 0.00716073\n",
            " 0.00716073 0.00716073 0.00716073 0.00716073 0.00716073 0.00716073\n",
            " 0.00716073 0.00716073 0.00716073 0.00716073 0.00716073 0.00716073\n",
            " 0.00716073 0.00716073 0.00716073 0.00716073 0.00716073 0.00716073\n",
            " 0.00716073 0.00716073 0.00716073 0.00716073 0.00716073 0.00716073\n",
            " 0.00716073 0.00716073 0.00716073 0.00716073 0.00716073 0.00716073\n",
            " 0.00716073 0.00716073 0.00716073 0.00716073 0.00716073 0.00716073\n",
            " 0.00716073 0.00716073 0.00716073 0.00716073 0.00716073 0.00716073\n",
            " 0.00716073 0.00716073 0.00716073 0.00716073 0.00716073 0.00716073\n",
            " 0.00716073 0.00716073 0.00716073 0.00716073] [0 1 1 0 0 0 0 1 1 0 0 0 0 0 0 0 0 0 0 0 0 0 0 0 0 0 0 0 0 0 0 0 0 0 0 0 0\n",
            " 0 0 0 0 0 0 0 0 0 0 0 0 0 0 0 0 0 0 0 0 0 0 0 0 0 0 0 0 0 0 0 0 0 0 0 0 0\n",
            " 0 0 0 0 0 0 0 0 0 0 0 0 0 0 0 0 0 0 0 0 0 0 0 0 0 0]\n",
            "[0.008128   0.05592628 0.01288209 0.00924906 0.008128   0.008128\n",
            " 0.00964966 0.03094683 0.04701248 0.008128   0.01265707 0.04693824\n",
            " 0.01725915 0.00883125 0.008128   0.008128   0.008128   0.008128\n",
            " 0.008128   0.008128   0.008128   0.00962161 0.008128   0.01008067\n",
            " 0.008128   0.008128   0.008128   0.008128   0.008128   0.008128\n",
            " 0.008128   0.008128   0.01474749 0.008128   0.008128   0.008128\n",
            " 0.008128   0.008128   0.008128   0.008128   0.008128   0.008128\n",
            " 0.008128   0.008128   0.008128   0.01489827 0.008128   0.008128\n",
            " 0.008128   0.00842    0.008128   0.008128   0.008128   0.008128\n",
            " 0.008128   0.008128   0.008128   0.008128   0.008128   0.008128\n",
            " 0.008128   0.008128   0.008128   0.008128   0.008128   0.008128\n",
            " 0.008128   0.008128   0.008128   0.008128   0.008128   0.008128\n",
            " 0.008128   0.008128   0.008128   0.008128   0.008128   0.008128\n",
            " 0.008128   0.008128   0.008128   0.008128   0.008128   0.008128\n",
            " 0.008128   0.008128   0.008128   0.008128   0.008128   0.008128\n",
            " 0.008128   0.008128   0.008128   0.008128   0.008128   0.008128\n",
            " 0.008128   0.008128   0.008128   0.008128  ] [0 1 0 0 0 0 0 1 1 0 0 1 0 0 0 0 0 0 0 0 0 0 0 0 0 0 0 0 0 0 0 0 0 0 0 0 0\n",
            " 0 0 0 0 0 0 0 0 0 0 0 0 0 0 0 0 0 0 0 0 0 0 0 0 0 0 0 0 0 0 0 0 0 0 0 0 0\n",
            " 0 0 0 0 0 0 0 0 0 0 0 0 0 0 0 0 0 0 0 0 0 0 0 0 0 0]\n",
            "[0.00892283 0.04328816 0.01007399 0.01176129 0.00920447 0.00892283\n",
            " 0.02847233 0.00892283 0.00892283 0.00892283 0.00892283 0.00892283\n",
            " 0.00892283 0.00892283 0.01063917 0.00892283 0.00892283 0.01020999\n",
            " 0.00892283 0.00892283 0.00892283 0.05090187 0.0090404  0.00892283\n",
            " 0.01040388 0.00892283 0.00892283 0.00892283 0.00892283 0.00892283\n",
            " 0.01000352 0.00892283 0.00892283 0.00892283 0.00892283 0.00892283\n",
            " 0.00892283 0.00892283 0.01079181 0.00892283 0.00892283 0.00892283\n",
            " 0.00892283 0.00892283 0.00892283 0.00892283 0.00892283 0.00892283\n",
            " 0.00892283 0.00892283 0.00892283 0.00892283 0.00892283 0.00892283\n",
            " 0.00892283 0.00892283 0.00892283 0.00892283 0.00892283 0.00892283\n",
            " 0.00892283 0.00892283 0.00892283 0.00892283 0.00892283 0.00892283\n",
            " 0.00892283 0.00892283 0.00892283 0.00892283 0.00892283 0.00892283\n",
            " 0.00892283 0.00892283 0.00892283 0.00892283 0.00892283 0.00892283\n",
            " 0.00892283 0.00892283 0.00892283 0.00892283 0.00892283 0.00892283\n",
            " 0.00892283 0.00892283 0.00892283 0.00892283 0.00892283 0.00892283\n",
            " 0.00892283 0.00892283 0.00892283 0.00892283 0.00892283 0.00892283\n",
            " 0.00892283 0.00892283 0.00892283 0.00892283] [0 1 0 0 0 0 1 0 0 0 0 0 0 0 0 0 0 1 0 0 0 1 0 0 0 0 0 0 0 0 1 0 0 0 0 0 0\n",
            " 0 0 0 0 1 0 0 0 0 0 0 0 0 0 0 0 0 0 0 0 0 0 0 0 0 0 0 0 0 0 0 0 0 0 0 0 0\n",
            " 0 0 0 0 0 0 0 0 0 0 0 0 0 0 0 0 0 0 0 0 0 0 0 0 0 0]\n",
            "[0.0154085  0.07469204 0.00848459 0.05875953 0.02905783 0.01534454\n",
            " 0.06717391 0.00772158 0.00772158 0.00772158 0.0080363  0.00772158\n",
            " 0.01018738 0.00772158 0.00772158 0.00772158 0.00772158 0.00772158\n",
            " 0.00772158 0.00772158 0.00772158 0.01211871 0.00772158 0.00772158\n",
            " 0.00772158 0.00772158 0.00772158 0.00772158 0.00772158 0.00772158\n",
            " 0.00772158 0.00772158 0.01351596 0.00772158 0.00772158 0.00772158\n",
            " 0.00772158 0.00772158 0.00772158 0.00772158 0.00772158 0.00772158\n",
            " 0.00772158 0.00772158 0.00772158 0.00772158 0.00772158 0.00772158\n",
            " 0.00772158 0.00772158 0.00772158 0.00772158 0.00772158 0.00772158\n",
            " 0.00772158 0.00772158 0.00772158 0.00772158 0.00772158 0.00772158\n",
            " 0.00772158 0.00772158 0.00772158 0.00772158 0.00772158 0.00772158\n",
            " 0.00772158 0.00772158 0.00772158 0.00772158 0.00772158 0.00772158\n",
            " 0.00772158 0.00772158 0.00772158 0.00772158 0.00772158 0.00772158\n",
            " 0.00772158 0.00772158 0.00772158 0.00772158 0.00772158 0.00772158\n",
            " 0.00772158 0.00772158 0.00772158 0.00772158 0.00772158 0.00772158\n",
            " 0.00772158 0.00772158 0.00772158 0.00772158 0.00772158 0.00772158\n",
            " 0.00772158 0.00772158 0.00772158 0.00772158] [0 1 0 1 0 0 1 0 0 0 0 0 0 0 0 0 0 0 0 0 0 0 0 0 0 0 0 0 0 0 0 0 0 0 0 0 0\n",
            " 0 0 0 0 0 0 0 0 0 0 0 0 0 0 0 0 0 0 0 0 0 0 0 0 0 0 0 0 0 0 0 0 0 0 0 0 0\n",
            " 0 0 0 0 0 0 0 0 0 0 0 0 0 0 0 0 0 0 0 0 0 0 0 0 0 0]\n",
            "[0.0077475  0.05237157 0.01271908 0.02244857 0.04708212 0.04144482\n",
            " 0.04778295 0.0077475  0.0077475  0.01215535 0.0077475  0.0077475\n",
            " 0.00861422 0.01051511 0.0077475  0.0077475  0.0077475  0.0077475\n",
            " 0.04634751 0.0077475  0.0077475  0.0077475  0.0077475  0.0077475\n",
            " 0.0077475  0.0077475  0.0077475  0.0077475  0.0077475  0.00899084\n",
            " 0.0077475  0.0077475  0.0077475  0.0077475  0.0077475  0.0077475\n",
            " 0.0077475  0.0077475  0.0077475  0.0077475  0.0077475  0.0077475\n",
            " 0.0077475  0.0077475  0.0077475  0.0077475  0.0077475  0.0077475\n",
            " 0.0077475  0.0077475  0.0077475  0.0077475  0.0077475  0.0077475\n",
            " 0.0077475  0.0077475  0.0077475  0.0077475  0.0077475  0.0077475\n",
            " 0.0077475  0.0077475  0.0077475  0.0077475  0.0077475  0.0077475\n",
            " 0.0077475  0.0077475  0.0077475  0.0077475  0.0077475  0.0077475\n",
            " 0.0077475  0.0077475  0.0077475  0.0077475  0.0077475  0.0077475\n",
            " 0.0077475  0.0077475  0.0077475  0.0077475  0.0077475  0.0077475\n",
            " 0.0077475  0.0077475  0.0077475  0.0077475  0.0077475  0.0077475\n",
            " 0.0077475  0.0077475  0.0077475  0.0077475  0.0077475  0.0077475\n",
            " 0.0077475  0.0077475  0.0077475  0.0077475 ] [0 1 0 0 1 1 1 0 0 0 0 0 0 0 0 0 0 0 1 0 0 0 0 0 0 0 0 0 0 0 0 0 0 0 0 0 0\n",
            " 0 0 0 0 0 0 0 0 0 0 0 0 0 0 0 0 0 0 0 0 0 0 0 0 0 0 0 0 0 0 0 0 0 0 0 0 0\n",
            " 0 0 0 0 0 0 0 0 0 0 0 0 0 0 0 0 0 0 0 0 0 0 0 0 0 0]\n",
            "[0.00758423 0.05995123 0.05943679 0.01700355 0.01057091 0.04918673\n",
            " 0.05417489 0.01266749 0.00758423 0.01108584 0.00758423 0.01077775\n",
            " 0.01331707 0.00758423 0.00758423 0.00758423 0.00758423 0.00758423\n",
            " 0.01384345 0.00758423 0.00758423 0.01751831 0.01025769 0.00758423\n",
            " 0.00758423 0.00758423 0.00758423 0.00758423 0.00758423 0.00758423\n",
            " 0.00758423 0.00758423 0.00758423 0.00758423 0.00758423 0.00758423\n",
            " 0.00758423 0.00758423 0.00758423 0.00758423 0.00758423 0.00758423\n",
            " 0.00758423 0.00758423 0.00758423 0.00758423 0.00758423 0.00758423\n",
            " 0.00758423 0.00796498 0.00758423 0.00758423 0.00758423 0.00758423\n",
            " 0.00758423 0.00758423 0.00758423 0.00758423 0.00758423 0.00758423\n",
            " 0.00758423 0.00758423 0.00758423 0.00758423 0.00758423 0.00758423\n",
            " 0.00758423 0.00758423 0.00758423 0.00758423 0.00758423 0.00758423\n",
            " 0.00758423 0.00758423 0.00758423 0.00758423 0.00758423 0.00758423\n",
            " 0.00758423 0.00758423 0.00758423 0.00758423 0.00758423 0.00758423\n",
            " 0.00758423 0.00758423 0.00758423 0.00758423 0.00758423 0.00758423\n",
            " 0.00758423 0.00758423 0.00758423 0.00758423 0.00758423 0.00758423\n",
            " 0.00758423 0.00758423 0.00758423 0.00758423] [0 1 1 0 0 1 1 0 0 0 0 0 0 0 0 0 0 0 0 0 0 0 0 0 0 0 0 0 0 0 0 0 0 0 0 0 0\n",
            " 0 0 0 0 0 0 0 0 0 0 0 0 0 0 0 0 0 0 0 0 0 0 0 0 0 0 0 0 0 0 0 0 0 0 0 0 0\n",
            " 0 0 0 0 0 0 0 0 0 0 0 0 0 0 0 0 0 0 0 0 0 0 0 0 0 0]\n",
            "[0.06556463 0.01616198 0.08144902 0.01581898 0.01457554 0.0073286\n",
            " 0.00870859 0.01576508 0.01251682 0.01404329 0.0073286  0.0073286\n",
            " 0.01748993 0.01097479 0.0073286  0.0389309  0.0073286  0.0073286\n",
            " 0.0073286  0.0073286  0.0073286  0.00993403 0.0073286  0.0073286\n",
            " 0.0454992  0.0073286  0.0073286  0.0073286  0.0073286  0.0073286\n",
            " 0.0073286  0.0073286  0.0073286  0.0073286  0.0073286  0.0073286\n",
            " 0.0073286  0.0073286  0.0073286  0.0073286  0.0073286  0.0073286\n",
            " 0.00963625 0.0073286  0.0073286  0.0073286  0.0073286  0.0073286\n",
            " 0.0073286  0.0073286  0.0073286  0.0073286  0.0073286  0.0073286\n",
            " 0.0073286  0.0073286  0.0073286  0.0073286  0.0073286  0.0073286\n",
            " 0.0073286  0.0073286  0.0073286  0.0073286  0.0073286  0.0073286\n",
            " 0.0073286  0.0073286  0.0073286  0.0073286  0.0073286  0.0073286\n",
            " 0.0073286  0.0073286  0.0073286  0.0073286  0.0073286  0.0073286\n",
            " 0.0073286  0.0073286  0.0073286  0.0073286  0.0073286  0.0073286\n",
            " 0.0073286  0.0073286  0.0073286  0.0073286  0.0073286  0.0073286\n",
            " 0.0073286  0.0073286  0.0073286  0.0073286  0.0073286  0.0073286\n",
            " 0.0073286  0.0073286  0.0073286  0.0073286 ] [1 0 1 0 0 0 0 0 0 0 0 0 0 0 0 1 0 0 0 0 0 0 0 0 1 0 0 0 0 0 0 0 0 0 0 0 0\n",
            " 0 0 0 0 0 0 0 0 0 0 0 0 0 0 0 0 0 0 0 0 0 0 0 0 0 0 0 0 0 0 0 0 0 0 0 0 0\n",
            " 0 0 0 0 0 0 0 0 0 0 0 0 0 0 0 0 0 0 0 0 0 0 0 0 0 0]\n",
            "[0.00841108 0.05324363 0.00913488 0.01140597 0.00841108 0.00859127\n",
            " 0.00841108 0.01501938 0.02117262 0.00841108 0.01159073 0.05055317\n",
            " 0.01261801 0.02505298 0.00841108 0.00841108 0.00841108 0.00841108\n",
            " 0.00841108 0.00841108 0.00849795 0.00841108 0.00841108 0.01157718\n",
            " 0.00841108 0.00841108 0.00841108 0.01014372 0.00841108 0.00841108\n",
            " 0.00841108 0.00841108 0.01022825 0.00841108 0.00841108 0.00841108\n",
            " 0.00841108 0.00841108 0.01125024 0.00841108 0.00841108 0.00841108\n",
            " 0.00841108 0.00841108 0.00841108 0.02117627 0.00841108 0.00844467\n",
            " 0.00841108 0.01059025 0.00841108 0.00841108 0.00841108 0.00841108\n",
            " 0.00841108 0.00841108 0.00841108 0.00841108 0.00841108 0.00841108\n",
            " 0.00841108 0.00841108 0.00841108 0.00841108 0.00841108 0.00841108\n",
            " 0.00841108 0.00841108 0.00841108 0.00841108 0.00841108 0.00841108\n",
            " 0.00841108 0.00841108 0.00841108 0.00841108 0.00841108 0.00841108\n",
            " 0.00841108 0.00841108 0.00841108 0.00841108 0.00841108 0.00841108\n",
            " 0.00841108 0.00841108 0.00841108 0.00841108 0.00841108 0.00841108\n",
            " 0.00841108 0.00841108 0.00841108 0.00841108 0.00841108 0.00841108\n",
            " 0.00841108 0.00841108 0.00841108 0.00841108] [0 1 0 0 0 0 0 0 0 0 0 1 0 0 0 0 0 0 0 0 0 0 0 0 0 0 1 0 0 0 0 0 0 0 0 0 0\n",
            " 0 0 0 0 0 0 0 0 1 0 0 0 0 0 0 0 0 0 0 0 0 0 0 0 0 0 0 0 0 0 0 0 0 0 0 0 0\n",
            " 0 0 0 0 0 0 0 0 0 0 0 0 0 0 0 0 0 0 0 0 0 0 0 0 0 0]\n",
            "[0.00811932 0.01204136 0.00880247 0.01471871 0.00811932 0.00882703\n",
            " 0.01164414 0.00811932 0.00811932 0.00811932 0.00811932 0.01187138\n",
            " 0.00811932 0.01511857 0.00811932 0.00811932 0.00811932 0.00811932\n",
            " 0.00811932 0.00811932 0.0136388  0.05598073 0.03136156 0.01521365\n",
            " 0.04266958 0.00811932 0.00811932 0.00983452 0.00811932 0.0087011\n",
            " 0.00811932 0.00811932 0.00811932 0.00811932 0.00811932 0.00811932\n",
            " 0.00811932 0.00811932 0.0084805  0.00811932 0.02907131 0.00811932\n",
            " 0.01562425 0.00811932 0.00811932 0.00811932 0.00811932 0.01582235\n",
            " 0.00811932 0.01291339 0.00811932 0.00811932 0.00811932 0.00811932\n",
            " 0.00811932 0.00811932 0.00811932 0.00811932 0.00811932 0.00811932\n",
            " 0.00811932 0.00811932 0.00811932 0.00811932 0.00811932 0.00811932\n",
            " 0.00811932 0.00811932 0.00811932 0.00811932 0.00811932 0.00811932\n",
            " 0.00811932 0.00811932 0.00811932 0.00811932 0.00811932 0.00811932\n",
            " 0.00811932 0.00811932 0.00811932 0.00811932 0.00811932 0.00811932\n",
            " 0.00811932 0.00811932 0.00811932 0.00811932 0.00811932 0.00811932\n",
            " 0.00811932 0.00811932 0.00811932 0.00811932 0.00811932 0.00811932\n",
            " 0.00811932 0.00811932 0.00811932 0.00811932] [0 0 0 0 0 0 0 0 0 0 0 0 0 0 0 0 0 0 0 0 0 1 1 0 1 0 0 0 0 0 0 0 0 0 0 0 0\n",
            " 0 0 0 1 0 0 0 0 0 0 0 0 0 0 0 0 0 0 0 0 0 0 0 0 0 0 0 0 0 0 0 0 0 0 0 0 0\n",
            " 0 0 0 0 0 0 0 0 0 0 0 0 0 0 0 0 0 0 0 0 0 0 0 0 0 0]\n",
            "[0.00984527 0.04663428 0.01898921 0.02150741 0.01110702 0.00792638\n",
            " 0.00929435 0.00792638 0.0089446  0.00792638 0.00792638 0.00792638\n",
            " 0.02142702 0.00792638 0.04341605 0.01661754 0.00792638 0.00792638\n",
            " 0.00792638 0.00792638 0.0107422  0.05154895 0.00792638 0.00792638\n",
            " 0.03919617 0.00792638 0.00792638 0.00792638 0.00792638 0.00792638\n",
            " 0.00792638 0.00792638 0.00792638 0.00792638 0.0090614  0.00792638\n",
            " 0.00792638 0.00792638 0.00792638 0.00792638 0.00792638 0.00792638\n",
            " 0.00792638 0.00792638 0.00792638 0.00792638 0.00792638 0.00792638\n",
            " 0.00792638 0.00792638 0.00792638 0.00792638 0.00792638 0.00792638\n",
            " 0.00792638 0.00792638 0.00792638 0.00792638 0.00792638 0.00792638\n",
            " 0.00792638 0.00792638 0.00792638 0.00792638 0.00792638 0.00792638\n",
            " 0.00792638 0.00792638 0.00792638 0.00792638 0.00792638 0.00792638\n",
            " 0.00792638 0.00792638 0.00792638 0.00792638 0.00792638 0.00792638\n",
            " 0.00792638 0.00792638 0.00792638 0.00792638 0.00792638 0.00792638\n",
            " 0.00792638 0.00792638 0.00792638 0.00792638 0.00792638 0.00792638\n",
            " 0.00792638 0.00792638 0.00792638 0.00792638 0.00792638 0.00792638\n",
            " 0.00792638 0.00792638 0.00792638 0.00792638] [0 1 0 0 0 0 0 0 0 0 0 0 0 0 1 0 0 0 0 0 0 1 0 0 1 0 0 0 0 0 0 0 0 0 0 0 0\n",
            " 0 0 0 0 0 0 0 0 0 0 0 0 0 0 0 0 0 0 0 0 0 0 0 0 0 0 0 0 0 0 0 0 0 0 0 0 0\n",
            " 0 0 0 0 0 0 0 0 0 0 0 0 0 0 0 0 0 0 0 0 0 0 0 0 0 0]\n",
            "[0.00783015 0.04081802 0.00824147 0.04925301 0.05967217 0.01136043\n",
            " 0.00783015 0.00853631 0.04521594 0.00783015 0.04895118 0.00783015\n",
            " 0.00958911 0.011312   0.00783015 0.00783015 0.00783015 0.00800178\n",
            " 0.00783015 0.00783015 0.00783015 0.00783015 0.00783015 0.00783015\n",
            " 0.00783015 0.00783015 0.00783015 0.00783015 0.00783015 0.00783015\n",
            " 0.00783015 0.00783015 0.00783015 0.00783015 0.00783015 0.00783015\n",
            " 0.00783015 0.00783015 0.00999578 0.00783015 0.00783015 0.00783015\n",
            " 0.00783015 0.00783015 0.00783015 0.00783015 0.00783015 0.00783015\n",
            " 0.00783015 0.00783015 0.00783015 0.00783015 0.00783015 0.00783015\n",
            " 0.00783015 0.00783015 0.00783015 0.00783015 0.00783015 0.00783015\n",
            " 0.00783015 0.00783015 0.00783015 0.00783015 0.00783015 0.00783015\n",
            " 0.00783015 0.00783015 0.00783015 0.00783015 0.00783015 0.00783015\n",
            " 0.00783015 0.00783015 0.00783015 0.00783015 0.00783015 0.00783015\n",
            " 0.00783015 0.00783015 0.00783015 0.00783015 0.00783015 0.00783015\n",
            " 0.00783015 0.00783015 0.00783015 0.00783015 0.00783015 0.00783015\n",
            " 0.00783015 0.00783015 0.00783015 0.00783015 0.00783015 0.00783015\n",
            " 0.00783015 0.00783015 0.00783015 0.00783015] [0 1 0 1 1 0 0 0 1 0 1 0 0 0 0 0 0 0 0 0 0 0 0 0 0 0 0 0 0 0 0 0 0 0 0 0 0\n",
            " 0 0 0 0 0 0 0 0 0 0 0 0 0 0 0 0 0 0 0 0 0 0 0 0 0 0 0 0 0 0 0 0 0 0 0 0 0\n",
            " 0 0 0 0 0 0 0 0 0 0 0 0 0 0 0 0 0 0 0 0 0 0 0 0 0 0]\n",
            "[0.01418484 0.09964406 0.01873986 0.0206017  0.01326292 0.00776608\n",
            " 0.00930928 0.0180905  0.01897381 0.00826512 0.01108515 0.01014161\n",
            " 0.08785658 0.00737752 0.01053531 0.01299406 0.00737752 0.00737752\n",
            " 0.00737752 0.00737752 0.00737752 0.01341423 0.00737752 0.00737752\n",
            " 0.00737752 0.00737752 0.00737752 0.00737752 0.00737752 0.00737752\n",
            " 0.00737752 0.00737752 0.01280059 0.00737752 0.00737752 0.00737752\n",
            " 0.00737752 0.00737752 0.00737752 0.00737752 0.00737752 0.00737752\n",
            " 0.00737752 0.00737752 0.00737752 0.00737752 0.00737752 0.00737752\n",
            " 0.00737752 0.00737752 0.00737752 0.00737752 0.00737752 0.00737752\n",
            " 0.00737752 0.00737752 0.00737752 0.00737752 0.00737752 0.00737752\n",
            " 0.00737752 0.00737752 0.00737752 0.00737752 0.00737752 0.00737752\n",
            " 0.00737752 0.00737752 0.00737752 0.00737752 0.00737752 0.00737752\n",
            " 0.00737752 0.00737752 0.00737752 0.00737752 0.00737752 0.00737752\n",
            " 0.00737752 0.00737752 0.00737752 0.00737752 0.00737752 0.00737752\n",
            " 0.00737752 0.00737752 0.00737752 0.00737752 0.00737752 0.00737752\n",
            " 0.00737752 0.00737752 0.00737752 0.00737752 0.00737752 0.00737752\n",
            " 0.00737752 0.00737752 0.00737752 0.00737752] [0 1 0 0 0 0 0 0 0 0 0 0 1 0 0 0 0 0 0 0 0 0 0 0 0 0 0 0 0 0 0 0 0 0 0 0 0\n",
            " 0 0 0 0 0 0 0 0 0 0 0 0 0 0 0 0 0 0 0 0 0 0 0 0 0 0 0 0 0 0 0 0 0 0 0 0 0\n",
            " 0 0 0 0 0 0 0 0 0 0 0 0 0 0 0 0 0 0 0 0 0 0 0 0 0 0]\n",
            "[0.0235865  0.05521012 0.00811967 0.05463522 0.01008382 0.00933008\n",
            " 0.01827502 0.00811967 0.00811967 0.00811967 0.04877425 0.01510212\n",
            " 0.01034297 0.01508067 0.00811967 0.00811967 0.00811967 0.00811967\n",
            " 0.01077628 0.00811967 0.0082874  0.01000873 0.00811967 0.00811967\n",
            " 0.00811967 0.00811967 0.00811967 0.00811967 0.00811967 0.00811967\n",
            " 0.00811967 0.00811967 0.00972748 0.00811967 0.00811967 0.00811967\n",
            " 0.00811967 0.00811967 0.00811967 0.00811967 0.00811967 0.00811967\n",
            " 0.00811967 0.00811967 0.00811967 0.00811967 0.00811967 0.00811967\n",
            " 0.00811967 0.01060728 0.00811967 0.00811967 0.00811967 0.00811967\n",
            " 0.00811967 0.00811967 0.00811967 0.00811967 0.00811967 0.00811967\n",
            " 0.00811967 0.00811967 0.00811967 0.00811967 0.00811967 0.00811967\n",
            " 0.00811967 0.00811967 0.00811967 0.00811967 0.00811967 0.00811967\n",
            " 0.00811967 0.00811967 0.00811967 0.00811967 0.00811967 0.00811967\n",
            " 0.00811967 0.00811967 0.00811967 0.00811967 0.00811967 0.00811967\n",
            " 0.00811967 0.00811967 0.00811967 0.00811967 0.00811967 0.00811967\n",
            " 0.00811967 0.00811967 0.00811967 0.00811967 0.00811967 0.00811967\n",
            " 0.00811967 0.00811967 0.00811967 0.00811967] [0 1 0 1 0 0 0 0 0 0 1 0 0 0 0 0 0 0 0 1 0 0 0 0 0 0 0 0 0 0 0 0 0 0 0 0 0\n",
            " 0 0 0 0 0 0 0 0 0 0 0 0 0 0 0 0 0 0 0 0 0 0 0 0 0 0 0 0 0 0 0 0 0 0 0 0 0\n",
            " 0 0 0 0 0 0 0 0 0 0 0 0 0 0 0 0 0 0 0 0 0 0 0 0 0 0]\n",
            "[0.03922083 0.04982125 0.00989674 0.0480387  0.01009768 0.00808081\n",
            " 0.01409343 0.00808081 0.00808081 0.00808081 0.0121943  0.0088976\n",
            " 0.01211158 0.00808081 0.00808081 0.00808081 0.00808081 0.00808081\n",
            " 0.00808081 0.00808081 0.01032989 0.04614765 0.01265454 0.00808081\n",
            " 0.00908626 0.00808081 0.00808081 0.00808081 0.00808081 0.00808081\n",
            " 0.00808081 0.00938969 0.01408763 0.00808081 0.00808081 0.00808081\n",
            " 0.00808081 0.00808081 0.00808081 0.00808081 0.00808081 0.00808081\n",
            " 0.01339056 0.00808081 0.00821019 0.00808081 0.00808081 0.00970503\n",
            " 0.00808081 0.00808081 0.00808081 0.00808081 0.00808081 0.00808081\n",
            " 0.00808081 0.00808081 0.00808081 0.00808081 0.00808081 0.00808081\n",
            " 0.00808081 0.00808081 0.00808081 0.00808081 0.00808081 0.00808081\n",
            " 0.00808081 0.00808081 0.00808081 0.00808081 0.00808081 0.00808081\n",
            " 0.00808081 0.00808081 0.00808081 0.00808081 0.00808081 0.00808081\n",
            " 0.00808081 0.00808081 0.00808081 0.00808081 0.00808081 0.00808081\n",
            " 0.00808081 0.00808081 0.00808081 0.00808081 0.00808081 0.00808081\n",
            " 0.00808081 0.00808081 0.00808081 0.00808081 0.00808081 0.00808081\n",
            " 0.00808081 0.00808081 0.00808081 0.00808081] [1 1 0 1 0 0 0 0 0 0 0 0 0 0 0 0 0 0 0 0 0 1 0 0 0 0 0 0 0 0 0 0 0 0 0 0 0\n",
            " 0 0 0 0 0 0 0 0 0 0 0 0 0 0 0 0 0 0 0 0 0 0 0 0 0 0 0 0 0 0 0 0 0 0 0 0 0\n",
            " 0 0 0 0 0 0 0 0 0 0 0 0 0 0 0 0 0 0 0 0 0 0 0 0 0 0]\n",
            "[0.00990559 0.02737586 0.00778173 0.01631415 0.00778173 0.00778173\n",
            " 0.00778173 0.00778173 0.00778173 0.00778173 0.0127986  0.05940214\n",
            " 0.00795063 0.04294285 0.00778173 0.00778173 0.00778173 0.00778173\n",
            " 0.00930999 0.00778173 0.00802619 0.012302   0.00778173 0.03982053\n",
            " 0.00818404 0.00778173 0.00778173 0.00796028 0.00778173 0.00778173\n",
            " 0.00778173 0.00778173 0.01165446 0.00778173 0.00778173 0.00778173\n",
            " 0.00778173 0.00778173 0.00778173 0.00778173 0.01524776 0.00778173\n",
            " 0.0115841  0.00778173 0.00778173 0.01083239 0.00778173 0.04447285\n",
            " 0.00778173 0.01359573 0.00778173 0.00778173 0.00778173 0.00778173\n",
            " 0.00778173 0.00778173 0.00778173 0.00778173 0.00778173 0.00778173\n",
            " 0.00778173 0.00778173 0.00778173 0.00778173 0.00778173 0.00778173\n",
            " 0.00778173 0.00778173 0.00778173 0.00778173 0.00778173 0.00778173\n",
            " 0.00778173 0.00778173 0.00778173 0.00778173 0.00778173 0.00778173\n",
            " 0.00778173 0.00778173 0.00778173 0.00778173 0.00778173 0.00778173\n",
            " 0.00778173 0.00778173 0.00778173 0.00778173 0.00778173 0.00778173\n",
            " 0.00778173 0.00778173 0.00778173 0.00778173 0.00778173 0.00778173\n",
            " 0.00778173 0.00778173 0.00778173 0.00778173] [0 0 0 0 0 0 0 0 0 0 0 1 0 1 0 0 0 0 0 0 0 0 0 1 0 0 0 0 0 0 0 0 0 0 0 0 0\n",
            " 0 0 0 0 0 0 0 0 0 0 1 0 0 0 0 0 0 0 0 0 0 0 0 0 0 0 0 0 0 0 0 0 0 0 0 0 0\n",
            " 0 0 0 0 0 0 0 0 0 0 0 0 0 0 0 0 0 0 0 0 0 0 0 0 0 0]\n",
            "[0.01654278 0.00828103 0.00828103 0.04685551 0.01374309 0.00828103\n",
            " 0.00980264 0.00828103 0.00828103 0.01204033 0.00828103 0.00828103\n",
            " 0.00828103 0.01525758 0.00828103 0.00828103 0.00828103 0.00828103\n",
            " 0.00828103 0.00828103 0.00828103 0.01910083 0.01282305 0.00828103\n",
            " 0.00975505 0.00828103 0.00828103 0.00828103 0.00828103 0.05126183\n",
            " 0.00828103 0.01636639 0.00828103 0.00828103 0.00828103 0.00828103\n",
            " 0.00828103 0.00828103 0.00828103 0.00828103 0.00828103 0.00828103\n",
            " 0.04543806 0.00828103 0.00828103 0.01056291 0.00828103 0.00828103\n",
            " 0.00828103 0.00828103 0.00828103 0.00828103 0.00828103 0.00828103\n",
            " 0.00828103 0.00828103 0.00828103 0.00828103 0.00828103 0.00828103\n",
            " 0.00828103 0.00828103 0.00828103 0.00828103 0.00828103 0.00828103\n",
            " 0.00828103 0.00828103 0.00828103 0.00828103 0.00828103 0.00828103\n",
            " 0.00828103 0.00828103 0.00828103 0.00828103 0.00828103 0.00828103\n",
            " 0.00828103 0.00828103 0.00828103 0.00828103 0.00828103 0.00828103\n",
            " 0.00828103 0.00828103 0.00828103 0.00828103 0.00828103 0.00828103\n",
            " 0.00828103 0.00828103 0.00828103 0.00828103 0.00828103 0.00828103\n",
            " 0.00828103 0.00828103 0.00828103 0.00828103] [0 0 0 1 0 0 0 0 0 0 0 0 0 0 0 0 1 0 0 0 0 0 0 0 0 0 0 0 0 1 0 0 0 0 0 0 0\n",
            " 0 0 0 0 0 1 0 0 0 0 0 0 0 0 0 0 0 0 0 0 0 0 0 0 0 0 0 0 0 0 0 0 0 0 0 0 0\n",
            " 0 0 0 0 0 0 0 0 0 0 0 0 0 0 0 0 0 0 0 0 0 0 0 0 0 0]\n",
            "[0.00824592 0.04387594 0.00824592 0.01315094 0.00824592 0.0112917\n",
            " 0.01538611 0.00824592 0.00824592 0.00824592 0.00950612 0.01217212\n",
            " 0.01220299 0.01738005 0.02144028 0.00824592 0.00824592 0.01103517\n",
            " 0.04148762 0.00824592 0.02573278 0.00937129 0.00824592 0.00824592\n",
            " 0.00824592 0.00824592 0.00824592 0.00824592 0.00824592 0.00824592\n",
            " 0.00824592 0.00824592 0.00824592 0.00824592 0.03777927 0.00824592\n",
            " 0.00824592 0.00824592 0.01126031 0.00824592 0.00928709 0.00824592\n",
            " 0.00824592 0.00824592 0.00824592 0.00824592 0.00824592 0.00824592\n",
            " 0.00824592 0.01322856 0.00824592 0.00824592 0.00824592 0.00824592\n",
            " 0.00824592 0.00824592 0.00824592 0.00824592 0.00824592 0.00824592\n",
            " 0.00824592 0.00824592 0.00824592 0.00824592 0.00824592 0.00824592\n",
            " 0.00824592 0.00824592 0.00824592 0.00824592 0.00824592 0.00824592\n",
            " 0.00824592 0.00824592 0.00824592 0.00824592 0.00824592 0.00824592\n",
            " 0.00824592 0.00824592 0.00824592 0.00824592 0.00824592 0.00824592\n",
            " 0.00824592 0.00824592 0.00824592 0.00824592 0.00824592 0.00824592\n",
            " 0.00824592 0.00824592 0.00824592 0.00824592 0.00824592 0.00824592\n",
            " 0.00824592 0.00824592 0.00824592 0.00824592] [0 1 0 0 0 0 0 0 0 0 0 0 0 0 0 0 0 0 1 0 0 0 0 0 0 0 0 0 0 0 0 0 0 0 1 0 0\n",
            " 0 0 0 0 0 0 0 0 0 0 0 0 0 0 0 0 0 0 0 0 0 0 0 0 0 0 0 0 0 0 0 0 0 0 0 0 0\n",
            " 0 0 0 0 0 0 0 0 0 0 0 0 0 0 0 0 0 0 0 0 0 0 0 0 0 0]\n",
            "[0.00856919 0.04647679 0.01481688 0.05282276 0.05991105 0.00965254\n",
            " 0.01296393 0.02768292 0.01677952 0.00762696 0.00895552 0.00762696\n",
            " 0.05213348 0.00762696 0.00762696 0.00836884 0.00762696 0.00762696\n",
            " 0.00762696 0.00762696 0.00762696 0.01594209 0.00762696 0.00762696\n",
            " 0.00762696 0.00762696 0.00762696 0.00762696 0.00762696 0.00762696\n",
            " 0.00762696 0.00762696 0.009006   0.00762696 0.00762696 0.00762696\n",
            " 0.00762696 0.00762696 0.00762696 0.00762696 0.00762696 0.00762696\n",
            " 0.00762696 0.00762696 0.00762696 0.00762696 0.00762696 0.00762696\n",
            " 0.00762696 0.00762696 0.00762696 0.00762696 0.00762696 0.00762696\n",
            " 0.00762696 0.00762696 0.00762696 0.00762696 0.00762696 0.00762696\n",
            " 0.00762696 0.00762696 0.00762696 0.00762696 0.00762696 0.00762696\n",
            " 0.00762696 0.00762696 0.00762696 0.00762696 0.00762696 0.00762696\n",
            " 0.00762696 0.00762696 0.00762696 0.00762696 0.00762696 0.00762696\n",
            " 0.00762696 0.00762696 0.00762696 0.00762696 0.00762696 0.00762696\n",
            " 0.00762696 0.00762696 0.00762696 0.00762696 0.00762696 0.00762696\n",
            " 0.00762696 0.00762696 0.00762696 0.00762696 0.00762696 0.00762696\n",
            " 0.00762696 0.00762696 0.00762696 0.00762696] [0 1 0 1 1 0 0 1 0 0 0 0 1 0 0 0 0 0 0 0 0 0 0 0 0 0 0 0 0 0 0 0 0 0 0 0 0\n",
            " 0 0 0 0 0 0 0 0 0 0 0 0 0 0 0 0 0 0 0 0 0 0 0 0 0 0 0 0 0 0 0 0 0 0 0 0 0\n",
            " 0 0 0 0 0 0 0 0 0 0 0 0 0 0 0 0 0 0 0 0 0 0 0 0 0 0]\n",
            "[0.07604135 0.06425694 0.00774152 0.02114377 0.00834619 0.00774152\n",
            " 0.0144858  0.00774152 0.00774152 0.00774152 0.0132143  0.00913111\n",
            " 0.01289655 0.01031145 0.00774152 0.00774152 0.00774152 0.00774152\n",
            " 0.00774152 0.00774152 0.00789978 0.00774152 0.00774152 0.00774152\n",
            " 0.00774152 0.00774152 0.00774152 0.00774152 0.00774152 0.00774152\n",
            " 0.00774152 0.00774152 0.06287611 0.00774152 0.00774152 0.00774152\n",
            " 0.00774152 0.00774152 0.00774152 0.00774152 0.00774152 0.00774152\n",
            " 0.01637671 0.00774152 0.00950769 0.00774152 0.00774152 0.00774152\n",
            " 0.00774152 0.00774152 0.00774152 0.00774152 0.00774152 0.00774152\n",
            " 0.00774152 0.00774152 0.00774152 0.00774152 0.00774152 0.00774152\n",
            " 0.00774152 0.00774152 0.00774152 0.00774152 0.00774152 0.00774152\n",
            " 0.00774152 0.00774152 0.00774152 0.00774152 0.00774152 0.00774152\n",
            " 0.00774152 0.00774152 0.00774152 0.00774152 0.00774152 0.00774152\n",
            " 0.00774152 0.00774152 0.00774152 0.00774152 0.00774152 0.00774152\n",
            " 0.00774152 0.00774152 0.00774152 0.00774152 0.00774152 0.00774152\n",
            " 0.00774152 0.00774152 0.00774152 0.00774152 0.00774152 0.00774152\n",
            " 0.00774152 0.00774152 0.00774152 0.00774152] [1 1 0 0 0 0 0 0 0 0 0 0 0 0 0 0 0 0 0 0 0 0 0 0 0 0 0 0 0 0 0 0 1 0 0 0 0\n",
            " 0 0 0 0 0 0 0 0 0 0 0 0 0 0 0 0 0 0 0 0 0 0 0 0 0 0 0 0 0 0 0 0 0 0 0 0 0\n",
            " 0 0 0 0 0 0 0 0 0 0 0 0 0 0 0 0 0 0 0 0 0 0 0 0 0 0]\n",
            "[0.02705589 0.06552839 0.06445929 0.02515152 0.06121974 0.00959561\n",
            " 0.03648805 0.01152057 0.00744405 0.01510797 0.00731613 0.00731613\n",
            " 0.01442303 0.00731613 0.00731613 0.01397949 0.00731613 0.00731613\n",
            " 0.00731613 0.00731613 0.00731613 0.00731613 0.00731613 0.00731613\n",
            " 0.00731613 0.00731613 0.00731613 0.00731613 0.00731613 0.00731613\n",
            " 0.00731613 0.00731613 0.00731613 0.00731613 0.00731613 0.00731613\n",
            " 0.00731613 0.00731613 0.00731613 0.00731613 0.00731613 0.00731613\n",
            " 0.01022515 0.00731613 0.0086137  0.00731613 0.00731613 0.00731613\n",
            " 0.00731613 0.00731613 0.00731613 0.00731613 0.00731613 0.00731613\n",
            " 0.00731613 0.00731613 0.00731613 0.00731613 0.00731613 0.00731613\n",
            " 0.00731613 0.00731613 0.00731613 0.00731613 0.00731613 0.00731613\n",
            " 0.00731613 0.00731613 0.00731613 0.00731613 0.00731613 0.00731613\n",
            " 0.00731613 0.00731613 0.00731613 0.00731613 0.00731613 0.00731613\n",
            " 0.00731613 0.00731613 0.00731613 0.00731613 0.00731613 0.00731613\n",
            " 0.00731613 0.00731613 0.00731613 0.00731613 0.00731613 0.00731613\n",
            " 0.00731613 0.00731613 0.00731613 0.00731613 0.00731613 0.00731613\n",
            " 0.00731613 0.00731613 0.00731613 0.00731613] [0 1 1 0 1 0 1 0 0 0 0 0 0 0 0 0 0 0 0 0 0 0 0 0 0 0 0 0 0 0 0 0 0 0 0 0 0\n",
            " 0 0 0 0 0 0 0 0 0 0 0 0 0 0 0 0 0 0 0 0 0 0 0 0 0 0 0 0 0 0 0 0 0 0 0 0 0\n",
            " 0 0 0 0 0 0 0 0 0 0 0 0 0 0 0 0 0 0 0 0 0 0 0 0 0 0]\n",
            "[0.04227041 0.02338812 0.01860467 0.02064465 0.03797488 0.00789677\n",
            " 0.00836246 0.04502923 0.01191492 0.00946388 0.00789677 0.00789677\n",
            " 0.05907273 0.01044525 0.00789677 0.00969516 0.00789677 0.00789677\n",
            " 0.00789677 0.00789677 0.00789677 0.00960315 0.00895629 0.00789677\n",
            " 0.01065184 0.00789677 0.00789677 0.00789677 0.00789677 0.00789677\n",
            " 0.00789677 0.00789677 0.00789677 0.00789677 0.00789677 0.00789677\n",
            " 0.00789677 0.00789677 0.00789677 0.00789677 0.00789677 0.00789677\n",
            " 0.00847435 0.00789677 0.01001599 0.00789677 0.00789677 0.00789677\n",
            " 0.00789677 0.00789677 0.00789677 0.00789677 0.00789677 0.00789677\n",
            " 0.00789677 0.00789677 0.00789677 0.00789677 0.00789677 0.00789677\n",
            " 0.00789677 0.00789677 0.00789677 0.00789677 0.00789677 0.00789677\n",
            " 0.00789677 0.00789677 0.00789677 0.00789677 0.00789677 0.00789677\n",
            " 0.00789677 0.00789677 0.00789677 0.00789677 0.00789677 0.00789677\n",
            " 0.00789677 0.00789677 0.00789677 0.00789677 0.00789677 0.00789677\n",
            " 0.00789677 0.00789677 0.00789677 0.00789677 0.00789677 0.00789677\n",
            " 0.00789677 0.00789677 0.00789677 0.00789677 0.00789677 0.00789677\n",
            " 0.00789677 0.00789677 0.00789677 0.00789677] [1 0 0 0 1 0 0 1 0 0 0 0 1 0 0 0 0 0 0 0 0 0 0 0 0 0 0 0 0 0 0 0 0 0 0 0 0\n",
            " 0 0 0 0 0 0 0 0 0 0 0 0 0 0 0 0 0 0 0 0 0 0 0 0 0 0 0 0 0 0 0 0 0 0 0 0 0\n",
            " 0 0 0 0 0 0 0 0 0 0 0 0 0 0 0 0 0 0 0 0 0 0 0 0 0 0]\n",
            "[0.01038175 0.076255   0.00971753 0.0203496  0.01506838 0.00751173\n",
            " 0.00751173 0.0198049  0.07162106 0.00751173 0.01207579 0.00911518\n",
            " 0.06032256 0.00751173 0.00963784 0.00853901 0.00751173 0.00751173\n",
            " 0.00751173 0.00751173 0.00751173 0.00751173 0.00751173 0.00751173\n",
            " 0.00751173 0.00751173 0.00751173 0.00751173 0.00751173 0.00751173\n",
            " 0.00751173 0.00751173 0.0205586  0.00751173 0.00751173 0.00751173\n",
            " 0.00751173 0.00751173 0.01054358 0.00751173 0.00751173 0.00751173\n",
            " 0.00751173 0.00751173 0.00751173 0.00751173 0.00751173 0.00751173\n",
            " 0.00751173 0.00751173 0.00751173 0.00751173 0.00751173 0.00751173\n",
            " 0.00751173 0.00751173 0.00751173 0.00751173 0.00751173 0.00751173\n",
            " 0.00751173 0.00751173 0.00751173 0.00751173 0.00751173 0.00751173\n",
            " 0.00751173 0.00751173 0.00751173 0.00751173 0.00751173 0.00751173\n",
            " 0.00751173 0.00751173 0.00751173 0.00751173 0.00751173 0.00751173\n",
            " 0.00751173 0.00751173 0.00751173 0.00751173 0.00751173 0.00751173\n",
            " 0.00751173 0.00751173 0.00751173 0.00751173 0.00751173 0.00751173\n",
            " 0.00751173 0.00751173 0.00751173 0.00751173 0.00751173 0.00751173\n",
            " 0.00751173 0.00751173 0.00751173 0.00751173] [0 1 0 0 0 0 0 0 1 0 0 0 1 0 0 0 0 0 0 0 0 0 0 0 0 0 0 0 0 0 0 0 0 0 0 0 0\n",
            " 0 0 0 0 0 0 0 0 0 0 0 0 0 0 0 0 0 0 0 0 0 0 0 0 0 0 0 0 0 0 0 0 0 0 0 0 0\n",
            " 0 0 0 0 0 0 0 0 0 0 0 0 0 0 0 0 0 0 0 0 0 0 0 0 0 0]\n",
            "[0.01194986 0.05571039 0.03758317 0.01849488 0.00824288 0.00824288\n",
            " 0.03578344 0.010974   0.0098364  0.00824288 0.00824288 0.03767349\n",
            " 0.01304011 0.00824288 0.00824288 0.00824288 0.00824288 0.00824288\n",
            " 0.00860048 0.00824288 0.00824288 0.01931539 0.00824288 0.00824288\n",
            " 0.00824288 0.00824288 0.00824288 0.00824288 0.00824288 0.00824288\n",
            " 0.00824288 0.00824288 0.00824288 0.00824288 0.00824288 0.00824288\n",
            " 0.00824288 0.00824288 0.00824288 0.00824288 0.00824288 0.00824288\n",
            " 0.00824288 0.00824288 0.00824288 0.00824288 0.00824288 0.00824288\n",
            " 0.00824288 0.01566487 0.00824288 0.00824288 0.00824288 0.00824288\n",
            " 0.00824288 0.00824288 0.00824288 0.00824288 0.00824288 0.00824288\n",
            " 0.00824288 0.00824288 0.00824288 0.00824288 0.00824288 0.00824288\n",
            " 0.00824288 0.00824288 0.00824288 0.00824288 0.00824288 0.00824288\n",
            " 0.00824288 0.00824288 0.00824288 0.00824288 0.00824288 0.00824288\n",
            " 0.00824288 0.00824288 0.00824288 0.00824288 0.00824288 0.00824288\n",
            " 0.00824288 0.00824288 0.00824288 0.00824288 0.00824288 0.00824288\n",
            " 0.00824288 0.00824288 0.00824288 0.00824288 0.00824288 0.00824288\n",
            " 0.00824288 0.00824288 0.00824288 0.00824288] [0 1 1 0 0 0 1 0 0 0 0 1 0 0 0 0 0 0 0 0 0 0 0 0 0 0 0 0 0 0 0 0 0 0 0 0 0\n",
            " 0 0 0 0 0 0 0 0 0 0 0 0 0 0 0 0 0 0 0 0 0 0 0 0 0 0 0 0 0 0 0 0 0 0 0 0 0\n",
            " 0 0 0 0 0 0 0 0 0 0 0 0 0 0 0 0 0 0 0 0 0 0 0 0 0 0]\n",
            "[0.00802062 0.00802062 0.01254356 0.02439432 0.01169833 0.03096222\n",
            " 0.01947147 0.00802062 0.00802062 0.00989363 0.00802062 0.00802062\n",
            " 0.00802062 0.0121632  0.00802062 0.00802062 0.00802062 0.00802062\n",
            " 0.00825223 0.00802062 0.00802062 0.04940804 0.03257689 0.00802062\n",
            " 0.01082315 0.00802062 0.00802062 0.00802062 0.00802062 0.04815469\n",
            " 0.00802062 0.00842988 0.00802062 0.00802062 0.00802062 0.00802062\n",
            " 0.00802062 0.00802062 0.00802062 0.00802062 0.00802062 0.00802062\n",
            " 0.02795688 0.00802062 0.00802062 0.01151876 0.00802062 0.00802062\n",
            " 0.00802062 0.00802062 0.00802062 0.00802062 0.00802062 0.00802062\n",
            " 0.00802062 0.00802062 0.00802062 0.00802062 0.00802062 0.00802062\n",
            " 0.00802062 0.00802062 0.00802062 0.00802062 0.00802062 0.00802062\n",
            " 0.00802062 0.00802062 0.00802062 0.00802062 0.00802062 0.00802062\n",
            " 0.00802062 0.00802062 0.00802062 0.00802062 0.00802062 0.00802062\n",
            " 0.00802062 0.00802062 0.00802062 0.00802062 0.00802062 0.00802062\n",
            " 0.00802062 0.00802062 0.00802062 0.00802062 0.00802062 0.00802062\n",
            " 0.00802062 0.00802062 0.00802062 0.00802062 0.00802062 0.00802062\n",
            " 0.00802062 0.00802062 0.00802062 0.00802062] [0 0 0 0 0 1 0 0 0 0 0 0 0 0 0 0 0 0 0 0 0 1 1 0 0 0 0 0 0 1 0 0 0 0 0 0 0\n",
            " 0 0 0 0 0 0 0 0 0 0 0 0 0 0 0 0 0 0 0 0 0 0 0 0 0 0 0 0 0 0 0 0 0 0 0 0 0\n",
            " 0 0 0 0 0 0 0 0 0 0 0 0 0 0 0 0 0 0 0 0 0 0 0 0 0 0]\n",
            "[0.00791412 0.06115686 0.01827033 0.01688234 0.0098612  0.03587154\n",
            " 0.01741423 0.0106945  0.01032503 0.00791412 0.00791412 0.00993547\n",
            " 0.06167454 0.00791412 0.01670141 0.02977489 0.00791412 0.00791412\n",
            " 0.00791412 0.00791412 0.00791412 0.01290944 0.00791412 0.00791412\n",
            " 0.00791412 0.00791412 0.00791412 0.00791412 0.00791412 0.00791412\n",
            " 0.00791412 0.00791412 0.00791412 0.00791412 0.00791412 0.00791412\n",
            " 0.00791412 0.00791412 0.00791412 0.00791412 0.00791412 0.00791412\n",
            " 0.00791412 0.00791412 0.00791412 0.00791412 0.00791412 0.00791412\n",
            " 0.00791412 0.00791412 0.00791412 0.00791412 0.00791412 0.00791412\n",
            " 0.00791412 0.00791412 0.00791412 0.00791412 0.00791412 0.00791412\n",
            " 0.00791412 0.00791412 0.00791412 0.00791412 0.00791412 0.00791412\n",
            " 0.00791412 0.00791412 0.00791412 0.00791412 0.00791412 0.00791412\n",
            " 0.00791412 0.00791412 0.00791412 0.00791412 0.00791412 0.00791412\n",
            " 0.00791412 0.00791412 0.00791412 0.00791412 0.00791412 0.00791412\n",
            " 0.00791412 0.00791412 0.00791412 0.00791412 0.00791412 0.00791412\n",
            " 0.00791412 0.00791412 0.00791412 0.00791412 0.00791412 0.00791412\n",
            " 0.00791412 0.00791412 0.00791412 0.00791412] [0 1 0 0 0 1 0 0 0 0 0 0 1 0 0 1 0 0 0 0 0 0 0 0 0 0 0 0 0 0 0 0 0 0 0 0 0\n",
            " 0 0 0 0 0 0 0 0 0 0 0 0 0 0 0 0 0 0 0 0 0 0 0 0 0 0 0 0 0 0 0 0 0 0 0 0 0\n",
            " 0 0 0 0 0 0 0 0 0 0 0 0 0 0 0 0 0 0 0 0 0 0 0 0 0 0]\n",
            "[0.02335799 0.03182266 0.0082669  0.03862012 0.00812421 0.00812421\n",
            " 0.03200554 0.00812421 0.00812421 0.00970179 0.00812421 0.00812421\n",
            " 0.02761279 0.0081764  0.04408015 0.01030785 0.00812421 0.00812421\n",
            " 0.01282937 0.00812421 0.01970368 0.01353295 0.00812421 0.00812421\n",
            " 0.00812421 0.00812421 0.00812421 0.00812421 0.00812421 0.00923784\n",
            " 0.00812421 0.0164465  0.00812421 0.00812421 0.01186384 0.00812421\n",
            " 0.00812421 0.00812421 0.00812421 0.00812421 0.00812421 0.00812421\n",
            " 0.00812421 0.00812421 0.00812421 0.00812421 0.00812421 0.00812421\n",
            " 0.00812421 0.00812421 0.00812421 0.00812421 0.00812421 0.00812421\n",
            " 0.00812421 0.00812421 0.00812421 0.00812421 0.00812421 0.00812421\n",
            " 0.00812421 0.00812421 0.00812421 0.00812421 0.00812421 0.00812421\n",
            " 0.00812421 0.00812421 0.00812421 0.00812421 0.00812421 0.00812421\n",
            " 0.00812421 0.00812421 0.00812421 0.00812421 0.00812421 0.00812421\n",
            " 0.00812421 0.00812421 0.00812421 0.00812421 0.00812421 0.00812421\n",
            " 0.00812421 0.00812421 0.00812421 0.00812421 0.00812421 0.00812421\n",
            " 0.00812421 0.00812421 0.00812421 0.00812421 0.00812421 0.00812421\n",
            " 0.00812421 0.00812421 0.00812421 0.00812421] [0 0 0 1 0 0 1 0 0 0 0 0 1 0 1 0 0 0 0 0 0 0 0 0 0 0 0 0 0 0 0 0 0 0 0 0 0\n",
            " 0 0 0 0 0 0 0 0 0 0 0 0 0 0 0 0 0 0 0 0 0 0 0 0 0 0 0 0 0 0 0 0 0 0 0 0 0\n",
            " 0 0 0 0 0 0 0 0 0 0 0 0 0 0 0 0 0 0 0 0 0 0 0 0 0 0]\n",
            "[0.0475954  0.05518758 0.021078   0.02806963 0.06099166 0.00792616\n",
            " 0.04671676 0.00775414 0.00775414 0.01187314 0.00960556 0.00775414\n",
            " 0.00778554 0.00775414 0.00775414 0.00775414 0.00775414 0.00775414\n",
            " 0.00775414 0.00775414 0.00775414 0.00785266 0.00775414 0.00775414\n",
            " 0.00775414 0.00775414 0.00775414 0.00775414 0.00775414 0.00775414\n",
            " 0.00775414 0.00775414 0.00775414 0.00775414 0.00775414 0.00775414\n",
            " 0.00775414 0.00775414 0.00775414 0.00775414 0.00775414 0.00775414\n",
            " 0.01087383 0.00775414 0.00983387 0.00775414 0.00775414 0.00775414\n",
            " 0.00775414 0.00775414 0.00775414 0.00775414 0.00775414 0.00775414\n",
            " 0.00775414 0.00775414 0.00775414 0.00775414 0.00775414 0.00775414\n",
            " 0.00775414 0.00775414 0.00775414 0.00775414 0.00775414 0.00775414\n",
            " 0.00775414 0.00775414 0.00775414 0.00775414 0.00775414 0.00775414\n",
            " 0.00775414 0.00775414 0.00775414 0.00775414 0.00775414 0.00775414\n",
            " 0.00775414 0.00775414 0.00775414 0.00775414 0.00775414 0.00775414\n",
            " 0.00775414 0.00775414 0.00775414 0.00775414 0.00775414 0.00775414\n",
            " 0.00775414 0.00775414 0.00775414 0.00775414 0.00775414 0.00775414\n",
            " 0.00775414 0.00775414 0.00775414 0.00775414] [1 1 0 0 1 0 1 0 0 0 0 0 0 0 0 0 0 0 0 0 0 0 0 0 0 0 0 0 0 0 0 0 0 0 0 0 0\n",
            " 0 0 0 0 0 0 0 0 0 0 0 0 0 0 0 0 0 0 0 0 0 0 0 0 0 0 0 0 0 0 0 0 0 0 0 0 0\n",
            " 0 0 0 0 0 0 0 0 0 0 0 0 0 0 0 0 0 0 0 0 0 0 0 0 0 0]\n",
            "[0.01269823 0.06833152 0.01375949 0.01349961 0.00960476 0.01106426\n",
            " 0.02045791 0.01248176 0.00801948 0.00801948 0.00801948 0.00801948\n",
            " 0.09419758 0.00801948 0.01288535 0.01238465 0.00801948 0.00801948\n",
            " 0.00801948 0.00801948 0.00801948 0.01105111 0.00801948 0.00801948\n",
            " 0.00801948 0.00801948 0.00801948 0.00801948 0.00801948 0.00801948\n",
            " 0.00801948 0.00801948 0.0098884  0.00801948 0.00801948 0.00801948\n",
            " 0.00801948 0.00801948 0.00801948 0.00801948 0.00801948 0.00801948\n",
            " 0.00801948 0.00801948 0.00801948 0.00801948 0.00801948 0.00801948\n",
            " 0.00801948 0.00801948 0.00801948 0.00801948 0.00801948 0.00801948\n",
            " 0.00801948 0.00801948 0.00801948 0.00801948 0.00801948 0.00801948\n",
            " 0.00801948 0.00801948 0.00801948 0.00801948 0.00801948 0.00801948\n",
            " 0.00801948 0.00801948 0.00801948 0.00801948 0.00801948 0.00801948\n",
            " 0.00801948 0.00801948 0.00801948 0.00801948 0.00801948 0.00801948\n",
            " 0.00801948 0.00801948 0.00801948 0.00801948 0.00801948 0.00801948\n",
            " 0.00801948 0.00801948 0.00801948 0.00801948 0.00801948 0.00801948\n",
            " 0.00801948 0.00801948 0.00801948 0.00801948 0.00801948 0.00801948\n",
            " 0.00801948 0.00801948 0.00801948 0.00801948] [0 1 0 0 0 0 0 0 0 0 0 0 1 0 0 0 0 0 0 0 0 0 0 0 0 1 0 0 0 0 0 0 0 0 0 0 0\n",
            " 0 0 0 0 0 0 0 0 0 0 0 0 0 0 0 0 0 0 0 0 0 0 0 0 0 0 0 0 0 0 0 0 0 0 0 0 0\n",
            " 0 0 0 0 0 0 0 0 0 0 0 0 0 0 0 0 0 0 0 0 0 0 0 0 0 0]\n",
            "[0.00803561 0.07426579 0.00977105 0.02909635 0.01772582 0.04985914\n",
            " 0.01206336 0.00803561 0.01194915 0.00803561 0.01378833 0.03196666\n",
            " 0.01210628 0.01840381 0.00803561 0.00803561 0.00803561 0.00803561\n",
            " 0.0089845  0.00803561 0.00803561 0.00803561 0.00803561 0.00803561\n",
            " 0.00803561 0.00803561 0.00803561 0.00803561 0.00803561 0.00803561\n",
            " 0.00803561 0.00803561 0.00803561 0.00803561 0.00803561 0.00803561\n",
            " 0.00803561 0.00803561 0.00803561 0.00803561 0.00803561 0.00803561\n",
            " 0.00857806 0.00803561 0.00803561 0.01037877 0.00803561 0.00803561\n",
            " 0.00803561 0.00803561 0.00803561 0.00803561 0.00803561 0.00803561\n",
            " 0.00803561 0.00803561 0.00803561 0.00803561 0.00803561 0.00803561\n",
            " 0.00803561 0.00803561 0.00803561 0.00803561 0.00803561 0.00803561\n",
            " 0.00803561 0.00803561 0.00803561 0.00803561 0.00803561 0.00803561\n",
            " 0.00803561 0.00803561 0.00803561 0.00803561 0.00803561 0.00803561\n",
            " 0.00803561 0.00803561 0.00803561 0.00803561 0.00803561 0.00803561\n",
            " 0.00803561 0.00803561 0.00803561 0.00803561 0.00803561 0.00803561\n",
            " 0.00803561 0.00803561 0.00803561 0.00803561 0.00803561 0.00803561\n",
            " 0.00803561 0.00803561 0.00803561 0.00803561] [0 1 0 1 0 1 0 0 0 0 0 1 0 0 0 0 0 0 0 0 0 0 0 0 0 0 0 0 0 0 0 0 0 0 0 0 0\n",
            " 0 0 0 0 0 0 0 0 0 0 0 0 0 0 0 0 0 0 0 0 0 0 0 0 0 0 0 0 0 0 0 0 0 0 0 0 0\n",
            " 0 0 0 0 0 0 0 0 0 0 0 0 0 0 0 0 0 0 0 0 0 0 0 0 0 0]\n",
            "[0.00974488 0.06541468 0.04409364 0.02368202 0.00980665 0.00815855\n",
            " 0.02267373 0.01142455 0.00741923 0.00741923 0.00741923 0.00741923\n",
            " 0.04783627 0.00741923 0.01254087 0.0146735  0.00741923 0.00741923\n",
            " 0.00741923 0.00741923 0.00925762 0.07175311 0.00741923 0.00741923\n",
            " 0.0108856  0.00741923 0.00741923 0.00741923 0.00741923 0.00741923\n",
            " 0.00741923 0.00741923 0.00741923 0.00741923 0.00741923 0.00741923\n",
            " 0.00741923 0.00741923 0.00741923 0.00741923 0.00741923 0.00741923\n",
            " 0.00741923 0.00741923 0.00741923 0.00741923 0.00741923 0.00741923\n",
            " 0.00741923 0.00741923 0.00741923 0.00741923 0.00741923 0.00741923\n",
            " 0.00741923 0.00741923 0.00741923 0.00741923 0.00741923 0.00741923\n",
            " 0.00741923 0.00741923 0.00741923 0.00741923 0.00741923 0.00741923\n",
            " 0.00741923 0.00741923 0.00741923 0.00741923 0.00741923 0.00741923\n",
            " 0.00741923 0.00741923 0.00741923 0.00741923 0.00741923 0.00741923\n",
            " 0.00741923 0.00741923 0.00741923 0.00741923 0.00741923 0.00741923\n",
            " 0.00741923 0.00741923 0.00741923 0.00741923 0.00741923 0.00741923\n",
            " 0.00741923 0.00741923 0.00741923 0.00741923 0.00741923 0.00741923\n",
            " 0.00741923 0.00741923 0.00741923 0.00741923] [0 1 1 0 0 0 0 0 0 0 0 0 1 0 0 0 0 0 0 0 0 1 0 0 0 0 0 0 0 0 0 0 0 0 0 0 0\n",
            " 0 0 0 0 0 0 0 0 0 0 0 0 0 0 0 0 0 0 0 0 0 0 0 0 0 0 0 0 0 0 0 0 0 0 0 0 0\n",
            " 0 0 0 0 0 0 0 0 0 0 0 0 0 0 0 0 0 0 0 0 0 0 0 0 0 0]\n"
          ],
          "name": "stdout"
        }
      ]
    },
    {
      "cell_type": "markdown",
      "metadata": {
        "colab_type": "text",
        "id": "7Uq1LzcvzrK7"
      },
      "source": [
        "## Remove previous checkpoints and add new ones"
      ]
    },
    {
      "cell_type": "code",
      "metadata": {
        "id": "DwRtfGnfL9I9",
        "colab_type": "code",
        "colab": {}
      },
      "source": [
        "# Run the this cell only when you want to start from scratch!\n",
        "!rm /rigel/home/sh3831/checkpoints/Final-ADL-project/*"
      ],
      "execution_count": 0,
      "outputs": []
    },
    {
      "cell_type": "code",
      "metadata": {
        "colab_type": "code",
        "id": "GSOQ6MyUzuSZ",
        "colab": {}
      },
      "source": [
        "checkpoint_dir = '/rigel/home/sh3831/checkpoints/Final-ADL-project/'\n",
        "checkpoint_path = os.path.join(checkpoint_dir, \"cp-{epoch:08d}.ckpt\")"
      ],
      "execution_count": 0,
      "outputs": []
    },
    {
      "cell_type": "code",
      "metadata": {
        "colab_type": "code",
        "id": "vsiDUVWB5B1s",
        "outputId": "f323fefa-dab3-4bb6-ed90-7a934e8ca8b4",
        "colab": {}
      },
      "source": [
        "latest = tf.train.latest_checkpoint(checkpoint_dir)\n",
        "if latest != None:\n",
        "  print(\"Loading weights from\", latest)\n",
        "  model.load_weights(latest)\n",
        "else:\n",
        "  print(\"Checkpoint not found. Starting from scratch\")"
      ],
      "execution_count": 0,
      "outputs": [
        {
          "output_type": "stream",
          "text": [
            "Checkpoint not found. Starting from scratch\n"
          ],
          "name": "stdout"
        }
      ]
    },
    {
      "cell_type": "markdown",
      "metadata": {
        "colab_type": "text",
        "id": "OPx91fcE07zc"
      },
      "source": [
        "## Accuracy and loss Metrics"
      ]
    },
    {
      "cell_type": "code",
      "metadata": {
        "colab_type": "code",
        "id": "Ll9_hjdx067u",
        "colab": {}
      },
      "source": [
        "train_loss = tf.keras.metrics.Mean(name='train_loss')\n",
        "train_accuracy = tf.keras.metrics.Mean(name='train_accuracy')\n",
        "\n",
        "val_loss = tf.keras.metrics.BinaryCrossentropy(name='val_loss')\n",
        "val_accuracy = tf.keras.metrics.BinaryAccuracy(name='val_accuracy')"
      ],
      "execution_count": 0,
      "outputs": []
    },
    {
      "cell_type": "markdown",
      "metadata": {
        "colab_type": "text",
        "id": "JBk-CGh71IHE"
      },
      "source": [
        "## Train the model formally\n",
        "Now we train the model using all the training data available to us.\n",
        "\n",
        "\n",
        "\n",
        "\n",
        "\n"
      ]
    },
    {
      "cell_type": "code",
      "metadata": {
        "colab_type": "code",
        "id": "PALivwNF1LpU",
        "colab": {}
      },
      "source": [
        "def evaluate(max_steps=None):\n",
        "  steps = 0\n",
        "  for embedding_batch, label_batch in val_ds:\n",
        "    if max_steps != None and steps == max_steps:\n",
        "      break\n",
        "    predictions = model.predict(x=embedding_batch)\n",
        "    steps += 1 \n",
        "    # Record metrics after each batch\n",
        "    val_loss(label_batch, predictions)\n",
        "    val_accuracy(label_batch, predictions)"
      ],
      "execution_count": 0,
      "outputs": []
    },
    {
      "cell_type": "code",
      "metadata": {
        "colab_type": "code",
        "outputId": "b049d162-8d34-4909-b537-f884b09aab8d",
        "id": "IVejbfyHectB",
        "colab": {}
      },
      "source": [
        "train_loss_history, train_acc_history = [], []\n",
        "val_loss_history, val_acc_history = [], []\n",
        "\n",
        "epochs = 20 # Your code here\n",
        "\n",
        "# Training loop\n",
        "for epoch in range(epochs):\n",
        "\n",
        "  start = time.time()\n",
        "\n",
        "  # Train for one epoch\n",
        "  for embedding_batch, label_batch in train_ds:\n",
        "    result = model.train_on_batch(x=embedding_batch, y=label_batch)\n",
        "\n",
        "    # Record metrics after each batch\n",
        "    train_loss(result[0])\n",
        "    train_accuracy(result[1])\n",
        "\n",
        "  # Evaluate for a few steps\n",
        "  evaluate(max_steps=100)\n",
        "\n",
        "  # Print progress\n",
        "  # You should not need to modify this.\n",
        "  template = 'Epoch {}, Loss: {:.4f}, Accuracy: {:.4f}, Val Loss {:.4f}, Val Accuracy {:.4f}, Time: {:.1f} secs'\n",
        "  print(template.format(epoch,\n",
        "                        train_loss.result(),\n",
        "                        train_accuracy.result() * 100,\n",
        "                        val_loss.result(),\n",
        "                        val_accuracy.result() * 100,\n",
        "                        time.time() - start))\n",
        "  \n",
        "  # Record history\n",
        "  train_loss_history.append(train_loss.result())\n",
        "  train_acc_history.append(train_accuracy.result() * 100)\n",
        "  val_loss_history.append(val_loss.result())\n",
        "  val_acc_history.append(val_accuracy.result() * 100)\n",
        "\n",
        "  # Reset the metrics for the next epoch\n",
        "  train_loss.reset_states()\n",
        "  train_accuracy.reset_states()\n",
        "  val_loss.reset_states()\n",
        "  val_accuracy.reset_states()\n",
        "\n",
        "  # Your code here\n",
        "  # Save a checkpoint after each epoch\n",
        "  print(\"Saving weights\")\n",
        "  model.save_weights(checkpoint_dir + 'biLSTM')"
      ],
      "execution_count": 0,
      "outputs": [
        {
          "output_type": "stream",
          "text": [
            "Epoch 0, Loss: 0.1716, Accuracy: 96.1586, Val Loss 0.1675, Val Accuracy 96.0982, Time: 32.6 secs\n",
            "Saving weights\n",
            "Epoch 1, Loss: 0.1705, Accuracy: 96.1584, Val Loss 0.1642, Val Accuracy 96.0982, Time: 32.6 secs\n",
            "Saving weights\n",
            "Epoch 2, Loss: 0.1700, Accuracy: 96.1584, Val Loss 0.1657, Val Accuracy 96.0982, Time: 32.6 secs\n",
            "Saving weights\n",
            "Epoch 3, Loss: 0.1699, Accuracy: 96.1584, Val Loss 0.1668, Val Accuracy 96.0982, Time: 32.7 secs\n",
            "Saving weights\n",
            "Epoch 4, Loss: 0.1696, Accuracy: 96.1584, Val Loss 0.1654, Val Accuracy 96.0982, Time: 32.5 secs\n",
            "Saving weights\n",
            "Epoch 5, Loss: 0.1696, Accuracy: 96.1588, Val Loss 0.1658, Val Accuracy 96.0982, Time: 32.5 secs\n",
            "Saving weights\n",
            "Epoch 6, Loss: 0.1697, Accuracy: 96.1589, Val Loss 0.1647, Val Accuracy 96.0982, Time: 32.5 secs\n",
            "Saving weights\n",
            "Epoch 7, Loss: 0.1693, Accuracy: 96.1586, Val Loss 0.1655, Val Accuracy 96.0982, Time: 32.6 secs\n",
            "Saving weights\n",
            "Epoch 8, Loss: 0.1692, Accuracy: 96.1588, Val Loss 0.1660, Val Accuracy 96.0982, Time: 32.5 secs\n",
            "Saving weights\n",
            "Epoch 9, Loss: 0.1692, Accuracy: 96.1585, Val Loss 0.1654, Val Accuracy 96.0982, Time: 32.6 secs\n",
            "Saving weights\n",
            "Epoch 10, Loss: 0.1694, Accuracy: 96.1586, Val Loss 0.1653, Val Accuracy 96.0982, Time: 32.5 secs\n",
            "Saving weights\n",
            "Epoch 11, Loss: 0.1691, Accuracy: 96.1585, Val Loss 0.1656, Val Accuracy 96.0982, Time: 32.5 secs\n",
            "Saving weights\n",
            "Epoch 12, Loss: 0.1693, Accuracy: 96.1588, Val Loss 0.1658, Val Accuracy 96.0982, Time: 32.5 secs\n",
            "Saving weights\n",
            "Epoch 13, Loss: 0.1693, Accuracy: 96.1586, Val Loss 0.1659, Val Accuracy 96.0982, Time: 32.4 secs\n",
            "Saving weights\n",
            "Epoch 14, Loss: 0.1691, Accuracy: 96.1589, Val Loss 0.1649, Val Accuracy 96.0982, Time: 32.4 secs\n",
            "Saving weights\n",
            "Epoch 15, Loss: 0.1691, Accuracy: 96.1585, Val Loss 0.1652, Val Accuracy 96.0982, Time: 32.4 secs\n",
            "Saving weights\n",
            "Epoch 16, Loss: 0.1689, Accuracy: 96.1590, Val Loss 0.1658, Val Accuracy 96.0982, Time: 32.4 secs\n",
            "Saving weights\n",
            "Epoch 17, Loss: 0.1687, Accuracy: 96.1587, Val Loss 0.1646, Val Accuracy 96.0982, Time: 32.4 secs\n",
            "Saving weights\n",
            "Epoch 18, Loss: 0.1690, Accuracy: 96.1585, Val Loss 0.1646, Val Accuracy 96.0982, Time: 32.5 secs\n",
            "Saving weights\n",
            "Epoch 19, Loss: 0.1690, Accuracy: 96.1587, Val Loss 0.1646, Val Accuracy 96.0982, Time: 32.4 secs\n",
            "Saving weights\n"
          ],
          "name": "stdout"
        }
      ]
    },
    {
      "cell_type": "markdown",
      "metadata": {
        "id": "1oaoLbwNZtXj",
        "colab_type": "text"
      },
      "source": [
        "**ALERT: For some reason, the plots didn't show up when we ran the code using HPC.**"
      ]
    },
    {
      "cell_type": "code",
      "metadata": {
        "colab_type": "code",
        "id": "Rqr-kbgl19ve",
        "colab": {}
      },
      "source": [
        "def plot(loss, acc, val_loss, val_acc):\n",
        "\n",
        "  # Get the number of epochs\n",
        "  epochs = range(len(acc))\n",
        "\n",
        "  plt.title('Training and validation accuracy')\n",
        "  plt.plot(epochs, acc, color='blue', label='Train')\n",
        "  plt.plot(epochs, val_acc, color='orange', label='Val')\n",
        "  plt.xlabel('Epoch')\n",
        "  plt.ylabel('Accuracy')\n",
        "  plt.legend()\n",
        "\n",
        "  _ = plt.figure()\n",
        "  plt.title('Training and validation loss')\n",
        "  plt.plot(epochs, loss, color='blue', label='Train')\n",
        "  plt.plot(epochs, val_loss, color='orange', label='Val')\n",
        "  plt.xlabel('Epoch')\n",
        "  plt.ylabel('Loss')\n",
        "  plt.legend()\n",
        "\n",
        "plot(train_loss_history, train_acc_history, val_loss_history, val_acc_history)"
      ],
      "execution_count": 0,
      "outputs": []
    },
    {
      "cell_type": "code",
      "metadata": {
        "id": "iBLEuzw0JOJK",
        "colab_type": "code",
        "outputId": "f99b22bf-c57f-4b87-be91-c346c62bfafb",
        "colab": {}
      },
      "source": [
        "!ls"
      ],
      "execution_count": 0,
      "outputs": [
        {
          "output_type": "stream",
          "text": [
            "checkpoints\t\t    hello_world.cu  slurm-17182314.out\r\n",
            "cnn-dailymail\t\t    hello_world.sh  slurm-17194430.out\r\n",
            "Final_project_biLSTM.ipynb  http\t    slurm-17196758.out\r\n",
            "gpu.sh\t\t\t    setuptools\t    tensorflow-gpu\r\n"
          ],
          "name": "stdout"
        }
      ]
    },
    {
      "cell_type": "markdown",
      "metadata": {
        "id": "q8o-NIDHJOJL",
        "colab_type": "text"
      },
      "source": [
        "## Compare machine generated results with the human abstracts"
      ]
    },
    {
      "cell_type": "markdown",
      "metadata": {
        "id": "btjPJYEpaPWl",
        "colab_type": "text"
      },
      "source": [
        "A fun way to evaluate how our model has performed is to compare the summary generated by the model to the actual summaries of articles put together by humans. \n",
        "\n",
        "We experimented with different summary lengths, but the accuracy suffered when it was more than 4. "
      ]
    },
    {
      "cell_type": "code",
      "metadata": {
        "id": "dI5o0pNiJOJN",
        "colab_type": "code",
        "colab": {}
      },
      "source": [
        "human_abstract_path = '/rigel/home/sh3831/cnn-dailymail/human-abstracts/test/'\n",
        "test_embedding_path = '/rigel/home/sh3831/cnn-dailymail/sentence_embeddings/test/'\n",
        "summary_length = 4"
      ],
      "execution_count": 0,
      "outputs": []
    },
    {
      "cell_type": "markdown",
      "metadata": {
        "id": "7Pglb9vKbKoM",
        "colab_type": "text"
      },
      "source": [
        "#### Get embedding files for test data and create a random sample of 5.\n",
        "We show the comparison of machine summary of articles corresponding to these five embeddings and the human summaries for the same stories."
      ]
    },
    {
      "cell_type": "code",
      "metadata": {
        "id": "gnUkjUdfJOJO",
        "colab_type": "code",
        "colab": {}
      },
      "source": [
        "test_embedding_files = os.listdir(test_embedding_path)"
      ],
      "execution_count": 0,
      "outputs": []
    },
    {
      "cell_type": "code",
      "metadata": {
        "id": "t4t0qE4SJOJQ",
        "colab_type": "code",
        "colab": {}
      },
      "source": [
        "examples_for_test = random.sample(test_embedding_files, 5)"
      ],
      "execution_count": 0,
      "outputs": []
    },
    {
      "cell_type": "code",
      "metadata": {
        "id": "QshAAtHFJOJS",
        "colab_type": "code",
        "colab": {}
      },
      "source": [
        "example_input_batch, _ = fetch_data(examples_for_test, test_embedding_path, '')"
      ],
      "execution_count": 0,
      "outputs": []
    },
    {
      "cell_type": "code",
      "metadata": {
        "id": "2-EdN_mSJOJT",
        "colab_type": "code",
        "colab": {}
      },
      "source": [
        "example_input_batch = tf.convert_to_tensor(example_input_batch)"
      ],
      "execution_count": 0,
      "outputs": []
    },
    {
      "cell_type": "code",
      "metadata": {
        "id": "8jeZKoeBJOJU",
        "colab_type": "code",
        "outputId": "83d41993-ee3a-4b1a-898c-8da78583fb5a",
        "colab": {}
      },
      "source": [
        "example_input_batch.shape"
      ],
      "execution_count": 0,
      "outputs": [
        {
          "output_type": "execute_result",
          "data": {
            "text/plain": [
              "TensorShape([5, 20, 200])"
            ]
          },
          "metadata": {
            "tags": []
          },
          "execution_count": 44
        }
      ]
    },
    {
      "cell_type": "code",
      "metadata": {
        "id": "wXnRXXEtJOJW",
        "colab_type": "code",
        "colab": {}
      },
      "source": [
        "predict = model.predict(x=example_input_batch)"
      ],
      "execution_count": 0,
      "outputs": []
    },
    {
      "cell_type": "code",
      "metadata": {
        "id": "ke68sHc0JOJW",
        "colab_type": "code",
        "colab": {}
      },
      "source": [
        "predict_index = []\n",
        "for arr in predict:\n",
        "    arr = np.flip(arr.argsort())\n",
        "    predict_index.append(arr.tolist())"
      ],
      "execution_count": 0,
      "outputs": []
    },
    {
      "cell_type": "markdown",
      "metadata": {
        "id": "xvbjYZAUbWJ2",
        "colab_type": "text"
      },
      "source": [
        "#### Function to compare the summaries"
      ]
    },
    {
      "cell_type": "code",
      "metadata": {
        "id": "IomeX4aJJOJX",
        "colab_type": "code",
        "colab": {}
      },
      "source": [
        "def compare_summary(summary_length, machine_summary, human_abstract, print_exp):\n",
        "    test_hypotheses = []\n",
        "    test_references = []\n",
        "    for index, file_name in enumerate(human_abstract):\n",
        "        hypothesis = ''\n",
        "        reference = ''\n",
        "        if print_exp == 1:\n",
        "            print('Machine Summary:')\n",
        "        with open(test_embedding_path + file_name) as embed_json_file:\n",
        "            embed_data = json.load(embed_json_file)\n",
        "            all_sentences = list(embed_data.keys())\n",
        "            if len(all_sentences) < summary_length:\n",
        "                length = len(all_sentences)\n",
        "            else:\n",
        "                length = summary_length\n",
        "            for i in machine_summary[index][:length]:\n",
        "                if i < len(all_sentences):\n",
        "                    if print_exp == 1:\n",
        "                        print(all_sentences[i])\n",
        "                    hypothesis += all_sentences[i]\n",
        "        if print_exp == 1:\n",
        "            print('Human Abstract:')\n",
        "        f = open(human_abstract_path + file_name.replace('.json', '.spl'), \"r\")\n",
        "        for sentence in f.readlines():\n",
        "            if print_exp == 1:\n",
        "                print(sentence.replace('\\n',''))\n",
        "            reference += sentence.replace('\\n','')\n",
        "        if print_exp == 1:\n",
        "            print('---------------------')\n",
        "        test_hypotheses.append(hypothesis)\n",
        "        test_references.append(reference)\n",
        "    \n",
        "    return test_hypotheses, test_references"
      ],
      "execution_count": 0,
      "outputs": []
    },
    {
      "cell_type": "markdown",
      "metadata": {
        "id": "5dsTHOgwbfD5",
        "colab_type": "text"
      },
      "source": [
        "#### Printing a collection of machine-generated summaries and human abstracts for the same articles. "
      ]
    },
    {
      "cell_type": "code",
      "metadata": {
        "id": "onBbsu6qWbTI",
        "colab_type": "code",
        "outputId": "b948bcf1-f640-488d-bf5e-74217fb61c68",
        "colab": {}
      },
      "source": [
        "test_hypotheses, test_references = compare_summary(summary_length, predict_index, examples_for_test, 1)"
      ],
      "execution_count": 0,
      "outputs": [
        {
          "output_type": "stream",
          "text": [
            "Machine Summary:\n",
            "And like Oskar Matzerath , the boy in \" The Tin Drum , \" they often slip into surreal situations .\n",
            "\" In his excavation of the past , Günter Grass goes deeper than most and he unearths the intertwined roots of good and evil , \" the Nobel committee wrote , when it awarded him the literature prize in 1999 .\n",
            "\" The Tin Drum , \" which was published in 1959 , \" breaks the bounds of realism by having as its protagonist and narrator an infernal intelligence in the body of a three-year-old , a monster who overpowers the fellow human beings he approaches with the help of a toy drum , \" the Nobel committee wrote .\n",
            "A year later , he penned a detailed account in The New Yorker on how he spent his war years up to the death of German dictator Adolf Hitler .\n",
            "Human Abstract:\n",
            "Grass tried in his literature to come to grips with World War II and the Nazi era .\n",
            "His characters were the downtrodden , and his style slipped into the surreal .\n",
            "He stoked controversy with his admission to being a member of the Waffen SS .\n",
            "---------------------\n",
            "Machine Summary:\n",
            "Lord Neuberger said Britain 's privileged judges must be aware of their ` subconscious bias ' when dealing with poorer members of society .\n",
            "` Would you feel that you had given of your best if you had been forced to give evidence in unfamiliar surroundings , with lots of strangers watching , in an intimidating court , with lawyers in funny clothes asking questions , often aggressively and trying to catch you out , and with no ability to tell the story as you remember it ? '\n",
            "In a lengthy speech entitled ` Fairness in the courts : the best we can do ' , Lord Neuberger also said judges and lawyers should always keep in mind how ` intimidating ' the court process can be for those involved in trials , including ` the parties , their families , the victims , the witnesses and the jurors ' .\n",
            "` My concern is not theoretical ; it is now 18 months since a judge at Blackfriars Magistrate Court wasted a great deal of court time dealing with the question of full-face veils , and made a heartfelt plea for central guidance to avoid this inefficient use of expensive court 's resources being replicated elsewhere .\n",
            "Human Abstract:\n",
            "Lord Neuberger said Muslim women should be allowed to wear a full-face veil when appearing in court to show respect to ` different customs .\n",
            "He also said judges must be aware of their ` subconscious bias '\n",
            "Judges are ` rightly ' seen as from ` privileged ' part of society , he said .\n",
            "He cited a judge ruling on a case of an unemployed traveller as an example .\n",
            "Since publication of this article , Lord Neuberger has since clarified his position which may be read here : Article .\n",
            "---------------------\n",
            "Machine Summary:\n",
            "A father has told how he 's embraced 21st century parenting by using a drone to walk his eight-year-old daughter to school .\n",
            "Scroll down for video .\n",
            "Aerial views : Chris Early , who owns a production company in Knoxville , Tennessee , bought a quadcopter to make commercials but he decided he could use it for personal surveillance purposes too .\n",
            "' I trust her enough to give her that little bit of independence as she continues to grow into a smart , beautiful young lady .\n",
            "Human Abstract:\n",
            "Chris Early , who owns a production company in Knoxville , Tennessee , bought a quadcopter to make commercials .\n",
            "However , he decided he could use it for personal monitoring purposes too .\n",
            "Early released footage of one of his remote chaperoning sessions .\n",
            "The clip shows how he is able monitor his child 's location from the sky .\n",
            "---------------------\n",
            "Machine Summary:\n",
            "The main reasons for this were said to be ` showing off in front of friends ' and ` succumbing to peer pressure and buying things we would n't ordinary buy ' .\n",
            "` It 's all about priorities , ' said Lindsey Burgess , a spokesperson for You\n",
            "A further 19 per cent of respondents also said their spouse or partner gives them a hard time for overspending , though five per cent do n't even tell their significant others about their big purchases .\n",
            "Top items on which people overspend on include food ( 58 per cent ) , clothing ( 54 per cent ) , household items ( 28 per cent ) , shoes ( 21 per cent ) , and entertainment ( 20 per cent ) .\n",
            "Human Abstract:\n",
            "A new YouNeedaBudget.com study found that 64 per cent of adults spend more money with friends due to peer pressure or the desire to show off .\n",
            "The top items Americans overspend on are food and clothing .\n",
            "Five per cent of those polled said they hide big purchases from their spouses or significant others .\n",
            "---------------------\n",
            "Machine Summary:\n",
            "Although he had never run a marathon before , Callum Ryan , 21 , committed himself to the daunting challenge of running eight of them between January and September 2015 - covering a total distance of 337.5 kilometres .\n",
            "In his fourteen short years , Malachy left his mark on the world -- creating , daydreaming and making people smile .\n",
            "Malachy Frawley brought laughter to the world in his short but wonderful life , showing great courage through his lifelong battle with the severe heart condition Hypoplastic Right Heart Syndrome .\n",
            "When Malachy was in kindergarten the pair were excited to discover Callum had also been allocated as Malachy 's Year Six buddy -- a mentor and friendly face across the playground .\n",
            "Human Abstract:\n",
            "Callum Ryan , 21 , will run eight marathons in each of Australia 's states and territories between January and September this year .\n",
            "Callum is running to honour the memory of his late friend , Malachy Frawley .\n",
            "Malachy passed away when he was just 14 from a Congenital Heart Disease .\n",
            "Callum wants to raise funds for HeartKids Australia and awareness of the impact of children 's heart disease .\n",
            "He had never run a marathon before when he set himself the challenge .\n",
            "---------------------\n"
          ],
          "name": "stdout"
        }
      ]
    },
    {
      "cell_type": "markdown",
      "metadata": {
        "id": "l12Lr9cwWbTM",
        "colab_type": "text"
      },
      "source": [
        "## Evaluate the model with Rouge scores\n",
        "Here we have shown the final scores with MAX_SEQ_LEN set to 100 and summary length set to 4. As discussed earlier, we tried different values for these two values. Bigger values for MAX_SEQ_LEN will lead to padding of all sentences. eg; we'll rarely find sentences 500 or 1000 words long. If the padded length is much larger than the original length, the accuracy of the model is influenced more by the prediction on the padded part, which does not add to real accuracy.\n",
        "\n",
        "\n",
        "---\n",
        "\n",
        "\n",
        "The human abstracts are usually four sentences for each article, so intuitively, the model's summary should not be longer than that. \n",
        "Rouge scores have two parts: precision and recall. Precision is based on the length of the generated senetences and recall is based on human abstracts. Rouge scores use n-grams and longest common subsequences to evaluate the performance of the summary. If the generated sentences are too long then the precision score would be low."
      ]
    },
    {
      "cell_type": "code",
      "metadata": {
        "id": "zUZGRrIIWbTK",
        "colab_type": "code",
        "outputId": "1e8bc69d-3bc7-4d2d-edd2-9aec18722599",
        "colab": {}
      },
      "source": [
        "rouge = Rouge()\n",
        "for i in range(len(test_hypotheses)):\n",
        "    scores = rouge.get_scores(test_hypotheses[i], test_references[i])\n",
        "    print(scores)"
      ],
      "execution_count": 0,
      "outputs": [
        {
          "output_type": "stream",
          "text": [
            "[{'rouge-l': {'r': 0.2857142857142857, 'f': 0.1125579580229207, 'p': 0.10416666666666667}, 'rouge-2': {'r': 0.023255813953488372, 'f': 0.011363632671101406, 'p': 0.007518796992481203}, 'rouge-1': {'r': 0.37142857142857144, 'f': 0.19847327852689245, 'p': 0.13541666666666666}}]\n",
            "[{'rouge-l': {'r': 0.3582089552238806, 'f': 0.20551829777223987, 'p': 0.18461538461538463}, 'rouge-2': {'r': 0.1744186046511628, 'f': 0.10600706290701614, 'p': 0.07614213197969544}, 'rouge-1': {'r': 0.44776119402985076, 'f': 0.30456852343013224, 'p': 0.23076923076923078}}]\n",
            "[{'rouge-l': {'r': 0.6041666666666666, 'f': 0.45465023703087476, 'p': 0.4084507042253521}, 'rouge-2': {'r': 0.48214285714285715, 'f': 0.3857142809142858, 'p': 0.32142857142857145}, 'rouge-1': {'r': 0.6041666666666666, 'f': 0.48739495316997394, 'p': 0.4084507042253521}}]\n",
            "[{'rouge-l': {'r': 0.3877551020408163, 'f': 0.25914887065583303, 'p': 0.23170731707317074}, 'rouge-2': {'r': 0.13725490196078433, 'f': 0.0853658493731412, 'p': 0.061946902654867256}, 'rouge-1': {'r': 0.4489795918367347, 'f': 0.3358778579127091, 'p': 0.2682926829268293}}]\n",
            "[{'rouge-l': {'r': 0.45161290322580644, 'f': 0.34227275155969855, 'p': 0.3076923076923077}, 'rouge-2': {'r': 0.17721518987341772, 'f': 0.14213197489139134, 'p': 0.11864406779661017}, 'rouge-1': {'r': 0.4838709677419355, 'f': 0.3921568579247299, 'p': 0.32967032967032966}}]\n"
          ],
          "name": "stdout"
        }
      ]
    },
    {
      "cell_type": "code",
      "metadata": {
        "id": "Nr9dvdIuWbTN",
        "colab_type": "code",
        "outputId": "8606c871-94d1-4ee3-889c-9d03d091ad39",
        "colab": {}
      },
      "source": [
        "embedding_test, _ = fetch_data(test_embedding_files, test_embedding_path, '')"
      ],
      "execution_count": 0,
      "outputs": [
        {
          "output_type": "stream",
          "text": [
            "1000\n",
            "2000\n",
            "3000\n",
            "4000\n",
            "5000\n"
          ],
          "name": "stdout"
        }
      ]
    },
    {
      "cell_type": "code",
      "metadata": {
        "id": "ITYfffYLWbTP",
        "colab_type": "code",
        "colab": {}
      },
      "source": [
        "embedding_test = tf.convert_to_tensor(embedding_test)"
      ],
      "execution_count": 0,
      "outputs": []
    },
    {
      "cell_type": "code",
      "metadata": {
        "id": "PXhU-5LmWbTR",
        "colab_type": "code",
        "outputId": "2e323a13-cba0-4313-d66a-0935ad82b2c5",
        "colab": {}
      },
      "source": [
        "embedding_test.shape"
      ],
      "execution_count": 0,
      "outputs": [
        {
          "output_type": "execute_result",
          "data": {
            "text/plain": [
              "TensorShape([5000, 20, 200])"
            ]
          },
          "metadata": {
            "tags": []
          },
          "execution_count": 51
        }
      ]
    },
    {
      "cell_type": "code",
      "metadata": {
        "id": "5sHaikweWbTT",
        "colab_type": "code",
        "colab": {}
      },
      "source": [
        "predict = model.predict(x=embedding_test)"
      ],
      "execution_count": 0,
      "outputs": []
    },
    {
      "cell_type": "code",
      "metadata": {
        "id": "7XyY8nvkWbTV",
        "colab_type": "code",
        "colab": {}
      },
      "source": [
        "all_predict_indexes = []\n",
        "for arr in predict:\n",
        "    arr = np.flip(arr.argsort())\n",
        "    all_predict_indexes.append(arr.tolist())"
      ],
      "execution_count": 0,
      "outputs": []
    },
    {
      "cell_type": "code",
      "metadata": {
        "id": "jLtV5GbiWbTm",
        "colab_type": "code",
        "colab": {}
      },
      "source": [
        "test_hypotheses, test_references = compare_summary(summary_length, all_predict_indexes, test_embedding_files, 0)"
      ],
      "execution_count": 0,
      "outputs": []
    },
    {
      "cell_type": "code",
      "metadata": {
        "id": "6_Rrct5eWbTp",
        "colab_type": "code",
        "outputId": "b2b545ca-7439-4986-a762-c24cb0d4ee94",
        "colab": {}
      },
      "source": [
        "scores = rouge.get_scores(test_hypotheses, test_references, avg=True)\n",
        "print(scores)"
      ],
      "execution_count": 0,
      "outputs": [
        {
          "output_type": "stream",
          "text": [
            "{'rouge-l': {'r': 0.3184194203254402, 'f': 0.22953341244998465, 'p': 0.22218828247868158}, 'rouge-2': {'r': 0.10893271407808798, 'f': 0.08074033546205592, 'p': 0.06963972601428428}, 'rouge-1': {'r': 0.35098872877184456, 'f': 0.2781814447736596, 'p': 0.2451894978343283}}\n"
          ],
          "name": "stdout"
        }
      ]
    }
  ]
}